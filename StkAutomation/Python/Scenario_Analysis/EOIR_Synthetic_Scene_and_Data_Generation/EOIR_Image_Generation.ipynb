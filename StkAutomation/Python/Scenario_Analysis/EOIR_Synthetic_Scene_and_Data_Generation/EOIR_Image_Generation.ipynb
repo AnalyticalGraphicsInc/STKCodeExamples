{
 "metadata": {
  "language_info": {
   "codemirror_mode": {
    "name": "ipython",
    "version": 3
   },
   "file_extension": ".py",
   "mimetype": "text/x-python",
   "name": "python",
   "nbconvert_exporter": "python",
   "pygments_lexer": "ipython3",
   "version": "3.6.8"
  },
  "orig_nbformat": 2,
  "kernelspec": {
   "name": "python3",
   "display_name": "Python 3.6.8 64-bit"
  },
  "metadata": {
   "interpreter": {
    "hash": "e7c37ba80a6e54a3d63188245ab5de6a3e0d381993bcb1990a7020536fc2299e"
   }
  },
  "interpreter": {
   "hash": "e7c37ba80a6e54a3d63188245ab5de6a3e0d381993bcb1990a7020536fc2299e"
  }
 },
 "nbformat": 4,
 "nbformat_minor": 2,
 "cells": [
  {
   "cell_type": "markdown",
   "source": [
    "# README\n",
    "\n",
    "The goal in this script is to simplify generating eoir synthetic data.  \n",
    "An interval of time is specified and the data is generated over that  \n",
    "period. The same period of time is analyzed with different EOIR cloud  \n",
    "and atmospheric properties.  \n",
    "\n",
    "Before running or if using a different scenario, the user needs to  \n",
    "make the below changes.  \n",
    "* Open the STK scenario \n",
    "* Update the file path\n",
    "* Set the animation time & time step\n",
    "\n",
    "\n",
    "## Connect Command Reference\n",
    "\n",
    "Data is generated using connect commands, this information is provided   \n",
    "as refernce. \n",
    "\n",
    "Atmosphere Key\n",
    "* 0 - off.\n",
    "* 1 - Simple atmosphere.\n",
    "* 2 - MODTRAN atmosphere.\n",
    "\n",
    "Atmosphere Simple Parameters\n",
    "* Aerosol Models: Rural\n",
    "* Visibility: 25.00 km\n",
    "* Humidity: 45.8 %\n",
    "    \n",
    "Cloud Key\n",
    "* On - turns on clouds.\n",
    "* Off - turns off clouds.\n",
    "\n",
    "Cloud Parameters\n",
    "* Altitude: 12 km\n",
    "* Forward Scatter: 10%\n",
    "* Back Scatter: 80%\n",
    "* Constant Coverage: 75%\n",
    "* Constant Emissivity and Temperature\n",
    "* Emissivity: 50%\n",
    "* Temperature: 233K\n"
   ],
   "metadata": {}
  },
  {
   "cell_type": "code",
   "execution_count": 9,
   "source": [
    "# Open the STK scenario and run this section \r\n",
    "# make any necessary changes \r\n",
    "\r\n",
    "import os \r\n",
    "import csv\r\n",
    "import time\r\n",
    "import itertools\r\n",
    "from datetime import timedelta\r\n",
    "from datetime import datetime\r\n",
    "from agi.stk12.stkdesktop import STKDesktop\r\n",
    "from agi.stk12.stkobjects import *\r\n",
    "\r\n",
    "# Open EOIR_Clouds_AirToAir.sc\r\n",
    "# Connect to the scenario\r\n",
    "# Get the IAgStkObjectRoot interface \r\n",
    "\r\n",
    "stk      = STKDesktop.AttachToApplication()  \r\n",
    "root     = stk.Root                           \r\n",
    "scenario = root.CurrentScenario \r\n",
    "\r\n",
    "\r\n",
    "# set the scenario time \r\n",
    "scenario.StartTime     = '5 May 2020 11:41:30.000'\r\n",
    "scenario.StopTime      = '5 May 2020 11:46:30.000'\r\n",
    "\r\n",
    "# Set the scenario animation properties\r\n",
    "animation               = scenario.Animation\r\n",
    "animation.EnableAnimCycleTime = True\r\n",
    "animation.AnimCycleType = AgEScEndLoopType.eLoopAtTime\r\n",
    "animation.AnimStepValue = 0.5                       \r\n"
   ],
   "outputs": [],
   "metadata": {}
  },
  {
   "cell_type": "markdown",
   "source": [
    "## _findObjects()_\n",
    "\n",
    "Look through aircraft objects in the scenario and find the  \n",
    "child (sensor objects). This information will be used in  \n",
    "the connect commands in eoirdata(). \n",
    "\n",
    "This function specifically looks at aircraft objects. Change  \n",
    "AgESTKObjectType.eAircraft if looking at different parent objects."
   ],
   "metadata": {}
  },
  {
   "cell_type": "code",
   "execution_count": 10,
   "source": [
    "def findObjects():\r\n",
    "\r\n",
    "    parentObj = scenario.Children.GetElements(AgESTKObjectType.eAircraft)\r\n",
    "\r\n",
    "    parClass = []\r\n",
    "    parName  = []\r\n",
    "    chlClass = []\r\n",
    "    chlName  = []\r\n",
    "\r\n",
    "    # the scenario has multiple aircraft, sweep through them all\r\n",
    "    for i in range(parentObj.Count): \r\n",
    "        if parentObj.Item(i).HasChildren == True:\r\n",
    "            # capture the identity of the parent object that has children\r\n",
    "            parClass.append(parentObj.Item(i).ClassName)\r\n",
    "            parName.append(parentObj.Item(i).InstanceName)\r\n",
    "            for j in range(parentObj.Item(i).Children.Count):\r\n",
    "                # find number of child objects\r\n",
    "                # capture relevant properties \r\n",
    "                chlClass.append(parentObj.Item(i).Children\r\n",
    "                    .GetElements(AgESTKObjectType.eSensor).Item(j).ClassName)\r\n",
    "                chlName.append(parentObj.Item(i).Children\r\n",
    "                    .GetElements(AgESTKObjectType.eSensor).Item(j).InstanceName)\r\n",
    "        else:\r\n",
    "            continue\r\n",
    "\r\n",
    "    return parClass,parName,chlClass,chlName "
   ],
   "outputs": [],
   "metadata": {}
  },
  {
   "cell_type": "markdown",
   "source": [
    "## _createfolders()_  \n",
    "Create the folders that eoirdata() will save to. It will first check  \n",
    "if the directories exist and decide if they need to be generated.  \n",
    "\n",
    "Please Note: the scenario will crash if the directories do not exist. "
   ],
   "metadata": {}
  },
  {
   "cell_type": "code",
   "execution_count": 12,
   "source": [
    "def createfolders(filepath,data,sensor,ftype,cld,atm):\r\n",
    "\r\n",
    "    # Generate folders for the data to go \r\n",
    "    newdir = os.mkdir(\"{}output/\".format(filepath))\r\n",
    "\r\n",
    "    # Directory structure based on generated data\r\n",
    "    for (a,b,c) in itertools.product(data,ftype,sensor): \r\n",
    "        for (x,y) in itertools.zip_longest(cld,atm):\r\n",
    "            name = \"{}_{}_{}_Cld{}_Atm{}\".format(a, b, c, x, y)\r\n",
    "            # print(\"{}output/{}\".format(filepath,name))\r\n",
    "            os.mkdir(\"{}output/{}\".format(filepath,name))\r\n"
   ],
   "outputs": [],
   "metadata": {}
  },
  {
   "cell_type": "markdown",
   "source": [
    "## _eoirdata()_  \n",
    "\n",
    "eoirdata() uses connect commands to generate the bitmap and the  \n",
    "raw data. In the same line, the data is stored into it's respective  \n",
    "folder, see createfolders(). This function then steps forward in time  \n",
    "and does the whole thing again. The range, or number of iterations is   \n",
    "set by the number of frames. Once it reaches the end time the function  \n",
    "jumps out. \n"
   ],
   "metadata": {}
  },
  {
   "cell_type": "code",
   "execution_count": 13,
   "source": [
    "def eoirdata(parClass,parName,chlClass,sensor,filepath,x,y,z):\r\n",
    "\r\n",
    "    # Use connect commands to generate the EOIR Syn Scene & Txt file \r\n",
    "    for k in range(z):\r\n",
    "        for i in range(len(parClass)):\r\n",
    "            for j in range(len(chlClass)):\r\n",
    "                # print(\"EOIRDetails */{}/{}/{}/{} SaveSceneImage \"\\\r\n",
    "                #      \"\\\"{}output/raw_bitmap_{}_Cld{}_Atm{}/{}.bmp\\\"\"\r\n",
    "                #     .format(parClass[i],parName[i],chlClass[j],\r\n",
    "                #      sensor[j],filepath,sensor[j],x,y,k))\r\n",
    "                # print(\"EOIRDetails */{}/{}/{}/{} SaveSceneRawData \"\\\r\n",
    "                #      \"\\\"{}output/raw_txt_{}_Cld{}_Atm{}/{}.txt\\\"\"\r\n",
    "                #     .format(parClass[i],parName[i],chlClass[j],\r\n",
    "                #      sensor[j],filepath,sensor[j],x,y,k))\r\n",
    "                root.ExecuteCommand(\"EOIRDetails */{}/{}/{}/{} SaveSceneImage \"\\\r\n",
    "                    \"\\\"{}output/raw_bitmap_{}_Cld{}_Atm{}/{}.bmp\\\"\"\r\n",
    "                    .format(parClass[i],parName[i],chlClass[j],\r\n",
    "                    sensor[j],filepath,sensor[j],x,y,k))\r\n",
    "                root.ExecuteCommand(\"EOIRDetails */{}/{}/{}/{} SaveSceneRawData \"\\\r\n",
    "                    \"\\\"{}output/raw_txt_{}_Cld{}_Atm{}/{}.txt\\\"\"\r\n",
    "                    .format(parClass[i],parName[i],chlClass[j],\r\n",
    "                    sensor[j],filepath,sensor[j],x,y,k))\r\n",
    "            root.StepForward()\r\n"
   ],
   "outputs": [],
   "metadata": {}
  },
  {
   "cell_type": "markdown",
   "source": [
    "## _main()_\n",
    "\n",
    "main() kicks everything off. Using the scenario time, it calculates the  \n",
    "number of total frames between start and stop. This will be the number  \n",
    "of times eoirdata() steps through the scenario. findObjects() finds the  \n",
    "parent and child objects, these will be used in the directory names as  \n",
    "well as in the connect commands in eoirdata(). createfolders() is next  \n",
    "and creates the files that data is saved to. Then we start generating data.  \n",
    "The loop jumps to the beginning of the scenario then cycles through the   \n",
    "following cloud and atmospheric parameters.   \n",
    "\n",
    "|Clouds| . |Atmosphere|\n",
    "|:-----|:-:|---------:|\n",
    "|Off   | . |Off (0)       |\n",
    "|On    | . |Off (0)      |\n",
    "|On    | . |Simple (1)      |\n",
    "|On    | . |MODTRAN (2)  |\n",
    "\n",
    "Once the parameters are set, it dives into eoirdata()"
   ],
   "metadata": {}
  },
  {
   "cell_type": "code",
   "execution_count": 14,
   "source": [
    "def main():\r\n",
    "\r\n",
    "    # Measure elapsed time for data generation\r\n",
    "    start = time.time() \r\n",
    "    \r\n",
    "    # Total frames (k) generated based on scenario animation time/timestep\r\n",
    "    d1 = datetime.strptime(animation.StartTime,     \"%d %b %Y %H:%M:%S.%f\")\r\n",
    "    d2 = datetime.strptime(animation.AnimCycleTime, \"%d %b %Y %H:%M:%S.%f\")\r\n",
    "    k  = int(timedelta.total_seconds(d2 - d1)/animation.AnimStepValue)\r\n",
    "\r\n",
    "    parClass,parName,chlClass,sensor  = findObjects()\r\n",
    "\r\n",
    "    ########\r\n",
    "    # USER DEFINED \r\n",
    "    # File path for the output data \r\n",
    "    filepath = 'C:/Users/nkazmi/Documents/STK 12/EOIR_Clouds_AirToAir/'\r\n",
    "\r\n",
    "    #k       = 4 # number of frames, used for testing, commment for full run\r\n",
    "    data    = ['raw','processed'] # the state of the data\r\n",
    "    ftype   = ['bitmap','txt']    # exported data format\r\n",
    "\r\n",
    "    cld     = ['Off','On','On']\r\n",
    "    atm     = [0,0,1]\r\n",
    "    ########\r\n",
    "\r\n",
    "    # Check if the save to directories exist \r\n",
    "    # Create them before generating data\r\n",
    "    isExist = os.path.exists(\"{}output/\".format(filepath))\r\n",
    "\r\n",
    "    if isExist == False:\r\n",
    "        print('Creating Directories...')\r\n",
    "        createfolders(filepath,data,sensor,ftype,cld,atm)\r\n",
    "    else:\r\n",
    "        print('Directories Exist')\r\n",
    "\r\n",
    "    # Jump to the beginning of the animation time\r\n",
    "    # Set EOIR Cloud and Atmosphere properties\r\n",
    "    # Animate and generate data for each timestep \r\n",
    "    for (i,j) in itertools.zip_longest(cld,atm):\r\n",
    "        root.Rewind()\r\n",
    "        root.ExecuteCommand(\"EOIR */ SetAtmosphere Clouds {}\".format(i))\r\n",
    "        root.ExecuteCommand(\"EOIR */ SetAtmosphere Mode {}\".format(j))\r\n",
    "        eoirdata(parClass,parName,chlClass,sensor,filepath,i,j,k)\r\n",
    "    \r\n",
    "\r\n",
    "    end = time.time()\r\n",
    "    print(\"Elapsed Time (hr): \" + str((end - start)/(3600)))\r\n",
    "\r\n",
    "if __name__ == '__main__':\r\n",
    "    main()"
   ],
   "outputs": [
    {
     "output_type": "stream",
     "name": "stdout",
     "text": [
      "Directories Exist\n",
      "Elapsed Time (hr): 0.04570387853516473\n"
     ]
    }
   ],
   "metadata": {
    "tags": []
   }
  },
  {
   "cell_type": "code",
   "execution_count": null,
   "source": [],
   "outputs": [],
   "metadata": {}
  }
 ]
}