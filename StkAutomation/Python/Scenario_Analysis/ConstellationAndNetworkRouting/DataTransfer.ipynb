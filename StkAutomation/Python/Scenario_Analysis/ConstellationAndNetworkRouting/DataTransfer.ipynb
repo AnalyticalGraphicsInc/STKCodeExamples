{
 "cells": [
  {
   "cell_type": "markdown",
   "metadata": {},
   "source": [
    "# Data Transfer Through a Network\n",
    "\n",
    "<img src=\"DataTransfer.jpg\" alt=\"Drawing\" style=\"width: 500px;\"/>\n",
    "\n",
    "\n",
    "**Recommendation**\n",
    "* Take a look at the other notebooks before using this notebook to gain familiarity into the workflows and functions, specifically the PreBuilt chains for the introductions to the concepts and the MultiConstellationMultiHop notebook for more of the advanced capabilities.\n",
    "\n",
    "\n",
    "**Terminology**\n",
    "* Node = Object in STK\n",
    "* Edge = Access between two objects in STK\n",
    "* Strand = The sequence of nodes and edges to complete access in a chain, sometimes called a path\n",
    "\n",
    "**This notebook shows how to:**\n",
    "* Transfer data from a set of starting nodes (source/transfer nodes) to a set of ending nodes over time based on bandwidth/capacity of an edge (access between two nodes). \n",
    "* The data to be transfered is defined by the user, and various transfer strategies have been implemented, including a specified node priority, no priority and time dynamic priority based on data remaining to be transfered. \n",
    "* A chain will be built between each sequential pair in the constellationOrder list. Then networkx will be used build the network with the nodes coming from the constellations and the connections between the nodes coming from the chain accesses. Multiple sublists can be passed into constellationOrderList.\n",
    "* Typical STK constraints such as range, link duration, Eb/No, etc are taken into account when computing access\n",
    "* The data  transfer information is stored in dataframes. The data transfered through the network can be shown in STK and can be color coated based on Matplotlib color map. Active objects over the analysis time period or at a time instance can be turned on.\n",
    "\n",
    "**To reduce the runtime on subsequent runs, this scripts saves various computations to binary files and are reused for subsequent runs.** \n",
    "* The strands from the chains will be saved in the SavedNodes folder\n",
    "* The nodes and associated time delays will be saved in the SavedNodes folder\n",
    "* The node positions over time are saved in the SavedPositions folder\n",
    "* The accesses between nodes over time are saved in the SavedEdges folder, default is not to save\n",
    "* Information about how data was transfered will be saved in the SavedNetwork folder\n",
    "* These folders will be created as subfolders of the directory used to run the script.\n",
    "* During the first run the files will automatically be built and saved, subsequent runs will reload these files.\n",
    "* To make override saved data set the various override flags to be True. Or manually delete the associated .pkl file for any changed strands, nodes, etc. and the script will recompute the data as needed. \n",
    "* The script attempts to detect when data needs to be recomputed, but there are edge cases which aren't alwasy covered. If you are seeing weird results with previously loaded data please just delete the old data and for a recompute.\n",
    "\n",
    "**Potential Future Updates:** \n",
    "* Implement faster network processing for special cases. Compute data transfer rates without having to specify the data to transfer. While this doesn't directly improve functionality of the script it can increase runtime performance to handle larger networks. How? By using NetworkX's max_flow function. Which just looks at the max amount of data which can be transfered in a network but it doesn't check if there is data to transfer or care about priorities. This checking process and determining what paths were taken takes additional computation time which about evens out with the current implementation. In the special case where all of the starting and ending nodes are treated each as a \"super node\" (treating nodes as 1 node instead of seperately and of equal priority) this calculation could be performed much faster then the current implementation. However, the runtime performance should really only come up as an issue for large networks (many hundreds to 1000s of objects) and when there are many starting and ending nodes.\n",
    "* Add data back to STK. This has been done for data when there is only one dataset per time instance (as shown in the MultiConstellationMultiHop notebook), but STK does not support multiple values at 1 time instance, so the data would need to be broken up into multiple datasets.\n",
    "* If you need to simulate a more detailed network beyond the physical layer (comm related network metrics) such as packets, channels, protocols, etc. Consider using the Qualnet extension to STK and if you need emulation take a look at Exata. A tutorial can be found here: https://help.agi.com/stk/#training/qualnetTutorial.htm and the help: https://help.agi.com/stk/#comm/qualnet_overview.htm . EXata info: https://www.scalable-networks.com/products/exata-network-emulator-software/ . Contact support@agi.com for more details"
   ]
  },
  {
   "cell_type": "code",
   "execution_count": 1,
   "metadata": {},
   "outputs": [],
   "source": [
    "import numpy as np\n",
    "import pandas as pd\n",
    "pd.set_option('max_colwidth', 120)\n",
    "from comtypes.client import CreateObject\n",
    "from comtypes.client import GetActiveObject\n",
    "from comtypes.gen import STKObjects\n",
    "from comtypes.gen import STKUtil\n",
    "from comtypes.gen import AgSTKVgtLib\n",
    "import seaborn as sns\n",
    "import matplotlib.pyplot as plt\n",
    "from matplotlib import cm\n",
    "from chainPathLib2 import *\n",
    "import time\n",
    "import networkx as nx\n",
    "\n",
    "folders = ['SavedNodes','SavedPositions','SavedStrands','SavedEdges','SavedNetworkData']\n",
    "for folder in folders:\n",
    "    if not os.path.exists(folder):\n",
    "        os.makedirs(folder)\n",
    "import warnings\n",
    "warnings.filterwarnings('ignore') # Ignore some numpy indexing warnings"
   ]
  },
  {
   "cell_type": "markdown",
   "metadata": {},
   "source": [
    "## Constellation Connection Order, Computation Time, Save Data Options\n",
    "\n",
    "Often the hardest part of network analysis is defining the constellation order. Here are some tips:\n",
    "\n",
    "* Every pair of constellations in the constellationOrderLists will create a one way flow of information (a directed edge) .i.e. [constellation1,constellation2] means constellation1 -> constellation2 but **NOT** constellation2 -> constellation1\n",
    "    \n",
    "* To allow for multiple hops between constellations the constelltionOrderLists needs to create a cycle:\n",
    "    * If you want a constellation to link to itself simply order [constellation1,constellation1]\n",
    "    * If you want to link to another constellation before linking back to the original [constellation1,constellation2,constellation1]\n",
    "    * Theoreitcally this cycle can be as big as you want. [c1,c2,....,cN,c1]\n",
    "    * The reason adding cycles of constellations works is because constellations have multiple objects, so the connections will always be to different objects in the constellation therefore you won't revisit specific nodes in the final path. If the constellation at the beginning of the cycle has only 1 object the cycle will be ignored\n",
    "    * <img src=\"CycleIllustration.jpg\" alt=\"Drawing\" style=\"width: 500px;\"/>\n",
    "* The constellationOrderLists **does NOT** require the final path to include every constellation in order, it will find the shortest path among possible connections and cut out unneccesary looping. For example, say you define consetllationOrderLists to be [[start,satConstellation,satConstellation,end]] because you want to allow for intersatellite links in satConstellation, the shortest path may just be from start->satConstellation->end without the need for intersatellitelinks, in which case the intersatellite linking will not be used.\n",
    "    * This code does not force the use of a cycle aka force intersatellite links to be used in the above example. If you want to do this you have 2 options. Use the prebuilt chains notebook (but it doesn't support multiple hops) or compute multiple shortest paths and filter out any which don't have the desired properties. In the future an improvement may be made to add additional constraints on the shortest path.\n",
    "    \n",
    "* To constrain the path for children objects (sensors, transmitters, recievers) you may need to add logical Parent \"From\" and \"To\" constraints on the constellations in STK. Think of \"From\" as the 1st position in a connection (aka transmitting) and \"To\" as the 2nd position in a connection (aka reiceving). Often you want transmitters to have a \"From\" Different Parents constraint and recievers to have a \"From\" Same Parents constraint. The constellation ordering can be set up in a way to force the paths to contain the parent object or to bypass it and only use the children objects. i.e. only use transmitters and recievers and not go to a satellite bus first. For example either of the following orderings could be valid [recievers,satellites,transmitters] (the satellites constellation would need a \"From\" Same Parent constraint) or [transmitters,receivers]."
   ]
  },
  {
   "cell_type": "code",
   "execution_count": 2,
   "metadata": {},
   "outputs": [],
   "source": [
    "# The constellationOrderLists builds a directed chain for each adjacent pair in the list\n",
    "# i.e.: constellationOrderLists = [[A,B],[X,Y,Z,X]] would build chainAB,chainXY,chainYZ,chainZX\n",
    "# constellationOrderLists represents possible connections, not necessary connections\n",
    "constellationOrderLists = [['Targets','ObservingSatsFORs','ObservingSats','ObservingSatsTransmitters','ObservingSatsReceivers','ObservingSats','RelaySatsFORs','RelaySats','RelaySatsFORs','EndLocations'],['RelaySats','RelaySats']] # a list of lists\n",
    "\n",
    "startingConstellation = 'Targets' # complete path starting constellation\n",
    "endingConstellation = 'EndLocations' # complete path ending constellation\n",
    "\n",
    "start = 0 # EpSec\n",
    "stop = 60*60 # EpSec\n",
    "step = 10 # sec # Time resolution of computations\n",
    "nodeDelays = {'ObservingSatsFORs':0.01,'ObservingSatsTransmitters':0.005,'ObservingSatsReceivers':0.005,'RelaySatsFORs':0.01,'RelaySats':0.002} # Add in time delays. Provide the constellation name in STK and the node delays\n",
    "                           \n",
    "stkVersion = 12\n",
    "overrideStrands = False # Override previously computed chains\n",
    "overrideNodeDelaysByNode = False # Override previously built node delay dictionaries\n",
    "overrideNodesTimesPos = False # Override previously built node positions"
   ]
  },
  {
   "cell_type": "code",
   "execution_count": 3,
   "metadata": {},
   "outputs": [
    {
     "name": "stdout",
     "output_type": "stream",
     "text": [
      "0.6696863174438477\n",
      "0.003022432327270508\n"
     ]
    }
   ],
   "source": [
    "# Connect to STK\n",
    "stkApp = GetActiveObject('STK{}.Application'.format(stkVersion))\n",
    "stkRoot = stkApp.Personality2\n",
    "stkRoot.Isolate()\n",
    "stkRoot.UnitPreferences.SetCurrentUnit('DateFormat','EpSec') # Units to EpSec for ease of use\n",
    "stkRoot.ExecuteCommand('Units_SetConnect / Date \"EpochSeconds\"');\n",
    "try:\n",
    "    stkRoot.ExecuteCommand('VO * ObjectLine DeleteAll'); # Clean up old object lines\n",
    "except:\n",
    "    pass\n",
    "\n",
    "# Build chains and create a dict of time delays for each node\n",
    "t1 = time.time()\n",
    "chainNames = createDirectedChains(stkRoot,constellationOrderLists,start=start,stop=stop,color=12895232)   \n",
    "print(time.time()-t1)\n",
    "t1 = time.time()\n",
    "nodeDelaysByNode = getNodeDelaysByNode(stkRoot,nodeDelays,chainNames=chainNames,overrideData=overrideNodeDelaysByNode)\n",
    "print(time.time()-t1)\n",
    "\n",
    "startingNodes = getNodesFromConstellation(stkRoot,startingConstellation)\n",
    "endingNodes = getNodesFromConstellation(stkRoot,endingConstellation)"
   ]
  },
  {
   "cell_type": "markdown",
   "metadata": {},
   "source": [
    "## Compute Strands, Strands at Each Time, Node Positions, Edges, Distances, Time Delays\n",
    "\n",
    "Only need to run this section once unless you change section the above, i.e. the objects in the constellations,the constellation ordering, the start, stop and step times, nodeDelays\n"
   ]
  },
  {
   "cell_type": "code",
   "execution_count": 4,
   "metadata": {},
   "outputs": [
    {
     "name": "stdout",
     "output_type": "stream",
     "text": [
      "Loaded TargetsToObservingSatsFORs.pkl\n",
      "Loaded ObservingSatsFORsToObservingSats.pkl\n",
      "Loaded ObservingSatsToObservingSatsTransmitters.pkl\n",
      "Loaded ObservingSatsTransmittersToObservingSatsReceivers.pkl\n",
      "Loaded ObservingSatsReceiversToObservingSats.pkl\n",
      "Loaded ObservingSatsToRelaySatsFORs.pkl\n",
      "Loaded RelaySatsFORsToRelaySats.pkl\n",
      "Loaded RelaySatsToRelaySatsFORs.pkl\n",
      "Loaded RelaySatsFORsToEndLocations.pkl\n",
      "Loaded RelaySatsToRelaySats.pkl\n",
      "0.07726526260375977\n"
     ]
    }
   ],
   "source": [
    "# Compute strands, (this is actually a list of all intervals for each edge)\n",
    "t1 = time.time()\n",
    "# strands,dfStrands = getAllStrands(stkRoot,chainNames,start,stop,overrideData=overrideStrands)\n",
    "strands = getAllStrands(stkRoot,chainNames,start,stop,overrideData=overrideStrands)[0] # if memory or performance is an issue don't output dfStrands\n",
    "print(time.time()-t1)\n",
    "# dfStrands"
   ]
  },
  {
   "cell_type": "code",
   "execution_count": 5,
   "metadata": {},
   "outputs": [
    {
     "name": "stdout",
     "output_type": "stream",
     "text": [
      "0.8524892330169678\n",
      "0.5395967960357666\n",
      "0.2847902774810791\n",
      "0.19653534889221191\n",
      "2.812678575515747\n"
     ]
    }
   ],
   "source": [
    "# Compute node positions, distances and time delays\n",
    "\n",
    "t1 = time.time()\n",
    "strandsAtTimes = getStrandsAtTimes(strands,start,stop,step) # Discretize strand intervals into times\n",
    "t2 = time.time()\n",
    "print(t2-t1)\n",
    "\n",
    "t1 = time.time()\n",
    "nodesTimesPos = computeNodesPosOverTime(stkRoot,strands,start,stop,step,overrideData=overrideNodesTimesPos) # Pull node position over time\n",
    "t2 = time.time()\n",
    "print(t2-t1)\n",
    "\n",
    "# Check if data needed for strandsAtTimes is missing, force a recomputed if needed\n",
    "t1 = time.time()\n",
    "strands,nodesTimesPos,strandsAtTimes = recomputeMissingData(strands,nodesTimesPos,strandsAtTimes,recomputeIfDataIsMissing=True)\n",
    "t2 = time.time()\n",
    "print(t2-t1)\n",
    "\n",
    "t1 = time.time()\n",
    "timeNodePos = computeTimeNodePos(strandsAtTimes,nodesTimesPos) # Nodes and positions at each time\n",
    "t2 = time.time()\n",
    "print(t2-t1)\n",
    "\n",
    "t1 = time.time()\n",
    "timesEdgesDistancesDelays = computeTimeEdgesDistancesDelays(strandsAtTimes,nodesTimesPos,nodeDelaysByNode,overrideData=True)  # Edges, distances and delays at each time\n",
    "t2 = time.time()\n",
    "print(t2-t1)"
   ]
  },
  {
   "cell_type": "markdown",
   "metadata": {},
   "source": [
    "# Data Transfer\n",
    "\n",
    "How to Use:\n",
    "* To save the network transfer results to different files change the filename.\n",
    "* All data and data rates are specified in terms of [units] and [units/sec], the unit could be B,KB,MB,GB, etc. just be consistent in your unit selection\n",
    "* The data rates will be multipled by the timestep to compute the rate over that interval\n",
    "* Modify the bandwidthBetweenConstelations values to set the bandwidth between, set a default bandwidth for any edges with unassigned values (large values means unspecified edges have \"unlimited\" bandwidth, small values means unspecified edges have minimal bandwidth, or this value could be used to save time in applying a ton of default values). Leave the maxDataTransfer to be inf unless you want to limit the total amount of data able to be transfered through the network, it will naturally get fill as the bandwidths fill up\n",
    "* Specify the bulk data collection at the starting by nodes and the data rates. The bulk data collections happen once at the time instance specified. The data rate continues until it is overridden by a new value. \n",
    "* Choose a priority in which you want data to be transfered\n",
    "* Each unique priority level will be treated as a layer, where the network is constructed in a series of layers with the highest priority starting and ending nodes being in the 1st layer. In each layer all available bandwidth will be used before adding the next layer to the network."
   ]
  },
  {
   "cell_type": "code",
   "execution_count": 6,
   "metadata": {},
   "outputs": [
    {
     "data": {
      "image/png": "[encoded data removed]",
      "text/plain": [
       "<Figure size 432x288 with 1 Axes>"
      ]
     },
     "metadata": {
      "needs_background": "light"
     },
     "output_type": "display_data"
    }
   ],
   "source": [
    "# Options\n",
    "overrideDataTransferData = True\n",
    "metric = 'distance' # 'distance' or 'timeDelay' or 'bandwidth'\n",
    "filename = 'run1' # DataTransfer.pkl,DataSources.pkl,DataDestinations.pkl will be appended to filename, leave empty if desired\n",
    "\n",
    "# Start of adding bandwidth \n",
    "bandwidthBetweenConstellations = {('Targets','ObservingSatsFORs'):5,('RelaySatsFORs','EndLocations'):10} # [data/sec]\n",
    "defaultBandwidth = 1e15 # This will be the value applied to all nodes not assigned in bandwidthBetweenConstellations, Don't put inf you will get a divide by zero error\n",
    "maxDataTransfer = np.inf # maxDataTransfer per sec, specify a large number to transfer as much data as possible\n",
    "\n",
    "# Define starting data, data rate for the start nodes and the end nodes\n",
    "# Format, a dictionary with time as the key and another dictionary as the value, where the key is the constellation and the value is the data or data rate\n",
    "# Values can be modifed for specific nodes if desired\n",
    "bulkDataStartingNodes = {200:{startingConstellation:200},0:{startingConstellation:4000},100:{startingConstellation:300}} # [data], could be in bits,bytes,KB,MB,GB, etc\n",
    "dataRateStartingNodes = {5:{startingConstellation:10},47:{startingConstellation:0}} # [data/sec]\n",
    "\n",
    "# Initialize with no data transfered\n",
    "bulkDataEndingNodes = {0:{endingConstellation:0}}\n",
    "dataRateEndingNodes = {0:{endingConstellation:0}}\n",
    "\n",
    "# Take the intial values and turn it into a dictionary over time\n",
    "timesDataToTransfer = buildTimesNodeAdditionalData(stkRoot,bulkDataStartingNodes,dataRateStartingNodes,start,stop,step)\n",
    "timesDataTransfered = buildTimesNodeAdditionalData(stkRoot,bulkDataEndingNodes,dataRateEndingNodes,start,stop,step)\n",
    "\n",
    "# Plot data collection rate\n",
    "convertTimesDataToDataFrame(timesDataToTransfer,stop).plot(x='time',y=startingNodes);"
   ]
  },
  {
   "cell_type": "code",
   "execution_count": 7,
   "metadata": {},
   "outputs": [
    {
     "data": {
      "text/plain": [
       "({'Target/Target1': 3,\n",
       "  'Target/Target2': 3,\n",
       "  'Target/Target3': 100,\n",
       "  'Target/Target4': 3,\n",
       "  'Target/Target5': 3,\n",
       "  'Target/Target6': 1,\n",
       "  'Target/Target7': 101},\n",
       " {'Place/Los_Angeles_CA': 103, 'Place/Washington_DC': 100})"
      ]
     },
     "execution_count": 7,
     "metadata": {},
     "output_type": "execute_result"
    }
   ],
   "source": [
    "\n",
    "# Select how data transfer priority should be treated\n",
    "# priorityCase = 1 # No priority of sources or destinations\n",
    "# priorityCase = 2 # Priority is highest for the sources with the most data, destinations are treated equally, recomputed at each timestep,\n",
    "# priorityCase = 3 # Priority is highest for the destinaton with the least data, sources are treated equally, recomputed at each timestep\n",
    "# priorityCase = 4 # Priority is highest for the sources with the most data and priority is highest for the destinaton with the least data, recomputed at each timestep at each timestep\n",
    "# priorityCase = 5 # A specified priority will be used, using nodeTransferPriority and nodeDestinationPriority\n",
    "priorityCase = 2\n",
    "\n",
    "# Below is only used if priorityCase = 5\n",
    "# Add in node priorites, the lowest value is the highest priority\n",
    "defaultPriority = 100\n",
    "nodeTransferPriority = {node:defaultPriority for node in startingNodes}\n",
    "nodeTransferPriority['Target/Target1'] = 3\n",
    "nodeTransferPriority['Target/Target2'] = 3\n",
    "nodeTransferPriority['Target/Target4'] = 3\n",
    "nodeTransferPriority['Target/Target5'] = 3\n",
    "nodeTransferPriority['Target/Target6'] = 1\n",
    "nodeTransferPriority['Target/Target7'] = 101\n",
    "\n",
    "\n",
    "nodeDestinationPriority = {node:defaultPriority for node in endingNodes}\n",
    "nodeDestinationPriority['Place/Los_Angeles_CA'] = 103\n",
    "\n",
    "nodeTransferPriority,nodeDestinationPriority\n"
   ]
  },
  {
   "cell_type": "code",
   "execution_count": 8,
   "metadata": {
    "scrolled": true
   },
   "outputs": [
    {
     "name": "stdout",
     "output_type": "stream",
     "text": [
      "t= 0 computation time= 0.1616649627685547\n",
      "t= 10 computation time= 0.09164071083068848\n",
      "t= 20 computation time= 0.08883285522460938\n",
      "t= 30 computation time= 0.1013634204864502\n",
      "t= 40 computation time= 0.09072566032409668\n",
      "t= 50 computation time= 0.09353065490722656\n",
      "t= 60 computation time= 0.08885407447814941\n",
      "t= 70 computation time= 0.07825422286987305\n",
      "t= 80 computation time= 0.08078384399414062\n",
      "t= 90 computation time= 0.07878971099853516\n",
      "t= 100 computation time= 0.07160186767578125\n",
      "t= 110 computation time= 0.07655978202819824\n",
      "t= 120 computation time= 0.10244560241699219\n",
      "t= 130 computation time= 0.06289958953857422\n",
      "t= 140 computation time= 0.062485694885253906\n",
      "t= 150 computation time= 0.09573674201965332\n",
      "t= 160 computation time= 0.07085990905761719\n",
      "t= 170 computation time= 0.05124616622924805\n",
      "t= 180 computation time= 0.07954812049865723\n",
      "t= 190 computation time= 0.0675661563873291\n",
      "t= 200 computation time= 0.22734379768371582\n",
      "t= 210 computation time= 0.07950258255004883\n",
      "t= 220 computation time= 0.07370901107788086\n",
      "t= 230 computation time= 0.06090950965881348\n",
      "t= 240 computation time= 0.08909845352172852\n",
      "t= 250 computation time= 0.07077932357788086\n",
      "t= 260 computation time= 0.0906531810760498\n",
      "t= 270 computation time= 0.07268905639648438\n",
      "t= 280 computation time= 0.10904574394226074\n",
      "t= 290 computation time= 0.0651242733001709\n",
      "t= 300 computation time= 0.08615827560424805\n",
      "t= 310 computation time= 0.10172820091247559\n",
      "t= 320 computation time= 0.06682085990905762\n",
      "t= 330 computation time= 0.10771727561950684\n",
      "t= 340 computation time= 0.06581878662109375\n",
      "t= 350 computation time= 0.07779264450073242\n",
      "t= 360 computation time= 0.08178162574768066\n",
      "t= 370 computation time= 0.0808115005493164\n",
      "t= 380 computation time= 0.09770822525024414\n",
      "t= 390 computation time= 0.11768698692321777\n",
      "t= 400 computation time= 0.11569976806640625\n",
      "t= 410 computation time= 0.09274959564208984\n",
      "t= 420 computation time= 0.07095551490783691\n",
      "t= 430 computation time= 0.07582402229309082\n",
      "t= 440 computation time= 0.06779289245605469\n",
      "t= 450 computation time= 0.07280492782592773\n",
      "t= 460 computation time= 0.0688161849975586\n",
      "t= 470 computation time= 0.09278655052185059\n",
      "t= 480 computation time= 0.0877695083618164\n",
      "t= 490 computation time= 0.07376861572265625\n",
      "t= 500 computation time= 0.07474756240844727\n",
      "t= 510 computation time= 0.07678055763244629\n",
      "t= 520 computation time= 0.07896828651428223\n",
      "t= 530 computation time= 0.06120157241821289\n",
      "t= 540 computation time= 0.10411238670349121\n",
      "t= 550 computation time= 0.07878971099853516\n",
      "t= 560 computation time= 0.06881546974182129\n",
      "t= 570 computation time= 0.07682538032531738\n",
      "t= 580 computation time= 0.06407952308654785\n",
      "t= 590 computation time= 0.058852434158325195\n",
      "t= 600 computation time= 0.07004046440124512\n",
      "t= 610 computation time= 0.0688471794128418\n",
      "t= 620 computation time= 0.06483197212219238\n",
      "t= 630 computation time= 0.09574270248413086\n",
      "t= 640 computation time= 0.0693206787109375\n",
      "t= 650 computation time= 0.06685686111450195\n",
      "t= 660 computation time= 0.06352615356445312\n",
      "t= 670 computation time= 0.06682538986206055\n",
      "t= 680 computation time= 0.07975029945373535\n",
      "t= 690 computation time= 0.06186389923095703\n",
      "t= 700 computation time= 0.06679320335388184\n",
      "t= 710 computation time= 0.06632351875305176\n",
      "t= 720 computation time= 0.06649398803710938\n",
      "t= 730 computation time= 0.06502771377563477\n",
      "t= 740 computation time= 0.046903371810913086\n",
      "t= 750 computation time= 0.0844120979309082\n",
      "t= 760 computation time= 0.06905817985534668\n",
      "t= 770 computation time= 0.06902098655700684\n",
      "t= 780 computation time= 0.045578956604003906\n",
      "t= 790 computation time= 0.07179546356201172\n",
      "t= 800 computation time= 0.06248736381530762\n",
      "t= 810 computation time= 0.01562190055847168\n",
      "t= 820 computation time= 0.0\n",
      "Stopped Processing at time 820\n",
      "Total Data Transfered = 34440.0\n"
     ]
    },
    {
     "data": {
      "text/html": [
       "<div>\n",
       "<style scoped>\n",
       "    .dataframe tbody tr th:only-of-type {\n",
       "        vertical-align: middle;\n",
       "    }\n",
       "\n",
       "    .dataframe tbody tr th {\n",
       "        vertical-align: top;\n",
       "    }\n",
       "\n",
       "    .dataframe thead th {\n",
       "        text-align: right;\n",
       "    }\n",
       "</style>\n",
       "<table border=\"1\" class=\"dataframe\">\n",
       "  <thead>\n",
       "    <tr style=\"text-align: right;\">\n",
       "      <th></th>\n",
       "      <th>time</th>\n",
       "      <th>strand</th>\n",
       "      <th>distance</th>\n",
       "      <th>data transfered</th>\n",
       "      <th>num hops</th>\n",
       "      <th>num parent hops</th>\n",
       "    </tr>\n",
       "  </thead>\n",
       "  <tbody>\n",
       "    <tr>\n",
       "      <th>0</th>\n",
       "      <td>0</td>\n",
       "      <td>[Target/Target3, Satellite/ObservingSat62/Sensor/ObservingFOR, Satellite/ObservingSat62, Satellite/RelaySat22/Sensor...</td>\n",
       "      <td>15840.764411</td>\n",
       "      <td>50.0</td>\n",
       "      <td>3.0</td>\n",
       "      <td>2.0</td>\n",
       "    </tr>\n",
       "    <tr>\n",
       "      <th>1</th>\n",
       "      <td>0</td>\n",
       "      <td>[Target/Target3, Satellite/ObservingSat43/Sensor/ObservingFOR, Satellite/ObservingSat43, Satellite/RelaySat22/Sensor...</td>\n",
       "      <td>15855.739713</td>\n",
       "      <td>50.0</td>\n",
       "      <td>3.0</td>\n",
       "      <td>2.0</td>\n",
       "    </tr>\n",
       "    <tr>\n",
       "      <th>2</th>\n",
       "      <td>0</td>\n",
       "      <td>[Target/Target6, Satellite/ObservingSat22/Sensor/ObservingFOR, Satellite/ObservingSat22, Satellite/ObservingSat22/Tr...</td>\n",
       "      <td>22345.701024</td>\n",
       "      <td>50.0</td>\n",
       "      <td>6.0</td>\n",
       "      <td>3.0</td>\n",
       "    </tr>\n",
       "    <tr>\n",
       "      <th>3</th>\n",
       "      <td>0</td>\n",
       "      <td>[Target/Target3, Satellite/ObservingSat72/Sensor/ObservingFOR, Satellite/ObservingSat72, Satellite/ObservingSat72/Tr...</td>\n",
       "      <td>22741.237372</td>\n",
       "      <td>50.0</td>\n",
       "      <td>6.0</td>\n",
       "      <td>3.0</td>\n",
       "    </tr>\n",
       "    <tr>\n",
       "      <th>4</th>\n",
       "      <td>0</td>\n",
       "      <td>[Target/Target6, Satellite/ObservingSat73/Sensor/ObservingFOR, Satellite/ObservingSat73, Satellite/ObservingSat73/Tr...</td>\n",
       "      <td>22866.005861</td>\n",
       "      <td>50.0</td>\n",
       "      <td>6.0</td>\n",
       "      <td>3.0</td>\n",
       "    </tr>\n",
       "    <tr>\n",
       "      <th>...</th>\n",
       "      <td>...</td>\n",
       "      <td>...</td>\n",
       "      <td>...</td>\n",
       "      <td>...</td>\n",
       "      <td>...</td>\n",
       "      <td>...</td>\n",
       "    </tr>\n",
       "    <tr>\n",
       "      <th>689</th>\n",
       "      <td>800</td>\n",
       "      <td>[Target/Target3, Satellite/ObservingSat52/Sensor/ObservingFOR, Satellite/ObservingSat52, Satellite/RelaySat22/Sensor...</td>\n",
       "      <td>16041.529408</td>\n",
       "      <td>10.0</td>\n",
       "      <td>3.0</td>\n",
       "      <td>2.0</td>\n",
       "    </tr>\n",
       "    <tr>\n",
       "      <th>690</th>\n",
       "      <td>800</td>\n",
       "      <td>[Target/Target3, Satellite/ObservingSat52/Sensor/ObservingFOR, Satellite/ObservingSat52, Satellite/RelaySat31/Sensor...</td>\n",
       "      <td>17607.811754</td>\n",
       "      <td>10.0</td>\n",
       "      <td>3.0</td>\n",
       "      <td>2.0</td>\n",
       "    </tr>\n",
       "    <tr>\n",
       "      <th>691</th>\n",
       "      <td>800</td>\n",
       "      <td>[Target/Target1, Satellite/ObservingSat71/Sensor/ObservingFOR, Satellite/ObservingSat71, Satellite/RelaySat31/Sensor...</td>\n",
       "      <td>20264.886484</td>\n",
       "      <td>20.0</td>\n",
       "      <td>3.0</td>\n",
       "      <td>2.0</td>\n",
       "    </tr>\n",
       "    <tr>\n",
       "      <th>692</th>\n",
       "      <td>810</td>\n",
       "      <td>[Target/Target6, Satellite/ObservingSat82/Sensor/ObservingFOR, Satellite/ObservingSat82, Satellite/RelaySat12/Sensor...</td>\n",
       "      <td>14129.543706</td>\n",
       "      <td>20.0</td>\n",
       "      <td>3.0</td>\n",
       "      <td>2.0</td>\n",
       "    </tr>\n",
       "    <tr>\n",
       "      <th>693</th>\n",
       "      <td>810</td>\n",
       "      <td>[Target/Target5, Satellite/ObservingSat82/Sensor/ObservingFOR, Satellite/ObservingSat82, Satellite/RelaySat12/Sensor...</td>\n",
       "      <td>14924.439449</td>\n",
       "      <td>20.0</td>\n",
       "      <td>3.0</td>\n",
       "      <td>2.0</td>\n",
       "    </tr>\n",
       "  </tbody>\n",
       "</table>\n",
       "<p>694 rows × 6 columns</p>\n",
       "</div>"
      ],
      "text/plain": [
       "     time  \\\n",
       "0       0   \n",
       "1       0   \n",
       "2       0   \n",
       "3       0   \n",
       "4       0   \n",
       "..    ...   \n",
       "689   800   \n",
       "690   800   \n",
       "691   800   \n",
       "692   810   \n",
       "693   810   \n",
       "\n",
       "                                                                                                                      strand  \\\n",
       "0    [Target/Target3, Satellite/ObservingSat62/Sensor/ObservingFOR, Satellite/ObservingSat62, Satellite/RelaySat22/Sensor...   \n",
       "1    [Target/Target3, Satellite/ObservingSat43/Sensor/ObservingFOR, Satellite/ObservingSat43, Satellite/RelaySat22/Sensor...   \n",
       "2    [Target/Target6, Satellite/ObservingSat22/Sensor/ObservingFOR, Satellite/ObservingSat22, Satellite/ObservingSat22/Tr...   \n",
       "3    [Target/Target3, Satellite/ObservingSat72/Sensor/ObservingFOR, Satellite/ObservingSat72, Satellite/ObservingSat72/Tr...   \n",
       "4    [Target/Target6, Satellite/ObservingSat73/Sensor/ObservingFOR, Satellite/ObservingSat73, Satellite/ObservingSat73/Tr...   \n",
       "..                                                                                                                       ...   \n",
       "689  [Target/Target3, Satellite/ObservingSat52/Sensor/ObservingFOR, Satellite/ObservingSat52, Satellite/RelaySat22/Sensor...   \n",
       "690  [Target/Target3, Satellite/ObservingSat52/Sensor/ObservingFOR, Satellite/ObservingSat52, Satellite/RelaySat31/Sensor...   \n",
       "691  [Target/Target1, Satellite/ObservingSat71/Sensor/ObservingFOR, Satellite/ObservingSat71, Satellite/RelaySat31/Sensor...   \n",
       "692  [Target/Target6, Satellite/ObservingSat82/Sensor/ObservingFOR, Satellite/ObservingSat82, Satellite/RelaySat12/Sensor...   \n",
       "693  [Target/Target5, Satellite/ObservingSat82/Sensor/ObservingFOR, Satellite/ObservingSat82, Satellite/RelaySat12/Sensor...   \n",
       "\n",
       "         distance  data transfered  num hops  num parent hops  \n",
       "0    15840.764411             50.0       3.0              2.0  \n",
       "1    15855.739713             50.0       3.0              2.0  \n",
       "2    22345.701024             50.0       6.0              3.0  \n",
       "3    22741.237372             50.0       6.0              3.0  \n",
       "4    22866.005861             50.0       6.0              3.0  \n",
       "..            ...              ...       ...              ...  \n",
       "689  16041.529408             10.0       3.0              2.0  \n",
       "690  17607.811754             10.0       3.0              2.0  \n",
       "691  20264.886484             20.0       3.0              2.0  \n",
       "692  14129.543706             20.0       3.0              2.0  \n",
       "693  14924.439449             20.0       3.0              2.0  \n",
       "\n",
       "[694 rows x 6 columns]"
      ]
     },
     "execution_count": 8,
     "metadata": {},
     "output_type": "execute_result"
    }
   ],
   "source": [
    "# Force the recomputation of the following dictionaries because they get modified by the computeDataTransferThroughNetowrk function\n",
    "timesDataToTransfer = buildTimesNodeAdditionalData(stkRoot,bulkDataStartingNodes,dataRateStartingNodes,start,stop,step)\n",
    "timesDataTransfered = buildTimesNodeAdditionalData(stkRoot,bulkDataEndingNodes,dataRateEndingNodes,start,stop,step)\n",
    "# Add bandwidths to the timesEdgesDistancesDelays, since bandwidth is data/sec, need to multiple the data rates by the time step to get the total data available to transfer per timestep\n",
    "bandwidthBetweenConstellationsPerTimeStep = {k:v*step for k,v in bandwidthBetweenConstellations.items()}\n",
    "timesEdgesDistancesDelaysBandwidths = addEdgeMetricToTimesEdges(stkRoot,timesEdgesDistancesDelays,bandwidthBetweenConstellationsPerTimeStep,defaultValue=defaultBandwidth*step)\n",
    "\n",
    "# Compute the data transfer through the network\n",
    "df,dfTimesDataToTransfer,dfTimesDataTransfered,timesEdgesDistancesDelaysBandwidthsUpdated,simulationStopTime = computeDataTransferThroughNetwork(start,stop,step,timeNodePos,timesEdgesDistancesDelaysBandwidths,timesDataToTransfer,timesDataTransfered,startingNodes,endingNodes,priorityCase=priorityCase,nodeTransferPriority=nodeTransferPriority,nodeDestinationPriority=nodeDestinationPriority,metric=metric,maxDataTransfer=maxDataTransfer*step,breakOnceAllDataIsTransfered = True,overrideData=overrideDataTransferData,printTime=True,filename=filename)\n",
    "print('Total Data Transfered =',sum(df['data transfered']))\n",
    "df"
   ]
  },
  {
   "cell_type": "code",
   "execution_count": 9,
   "metadata": {
    "scrolled": true
   },
   "outputs": [
    {
     "data": {
      "text/html": [
       "<div>\n",
       "<style scoped>\n",
       "    .dataframe tbody tr th:only-of-type {\n",
       "        vertical-align: middle;\n",
       "    }\n",
       "\n",
       "    .dataframe tbody tr th {\n",
       "        vertical-align: top;\n",
       "    }\n",
       "\n",
       "    .dataframe thead th {\n",
       "        text-align: right;\n",
       "    }\n",
       "</style>\n",
       "<table border=\"1\" class=\"dataframe\">\n",
       "  <thead>\n",
       "    <tr style=\"text-align: right;\">\n",
       "      <th></th>\n",
       "      <th>time</th>\n",
       "      <th>Target/Target1</th>\n",
       "      <th>Target/Target2</th>\n",
       "      <th>Target/Target3</th>\n",
       "      <th>Target/Target4</th>\n",
       "      <th>Target/Target5</th>\n",
       "      <th>Target/Target6</th>\n",
       "      <th>Target/Target7</th>\n",
       "    </tr>\n",
       "  </thead>\n",
       "  <tbody>\n",
       "    <tr>\n",
       "      <th>0</th>\n",
       "      <td>0.0</td>\n",
       "      <td>4000.0</td>\n",
       "      <td>4000.0</td>\n",
       "      <td>4000.0</td>\n",
       "      <td>4000.0</td>\n",
       "      <td>4000.0</td>\n",
       "      <td>4000.0</td>\n",
       "      <td>4000.0</td>\n",
       "    </tr>\n",
       "    <tr>\n",
       "      <th>1</th>\n",
       "      <td>10.0</td>\n",
       "      <td>4050.0</td>\n",
       "      <td>4050.0</td>\n",
       "      <td>3850.0</td>\n",
       "      <td>4050.0</td>\n",
       "      <td>3950.0</td>\n",
       "      <td>3900.0</td>\n",
       "      <td>4000.0</td>\n",
       "    </tr>\n",
       "    <tr>\n",
       "      <th>2</th>\n",
       "      <td>20.0</td>\n",
       "      <td>4050.0</td>\n",
       "      <td>3950.0</td>\n",
       "      <td>3950.0</td>\n",
       "      <td>3950.0</td>\n",
       "      <td>4050.0</td>\n",
       "      <td>4000.0</td>\n",
       "      <td>4100.0</td>\n",
       "    </tr>\n",
       "    <tr>\n",
       "      <th>3</th>\n",
       "      <td>30.0</td>\n",
       "      <td>4050.0</td>\n",
       "      <td>4050.0</td>\n",
       "      <td>4050.0</td>\n",
       "      <td>4050.0</td>\n",
       "      <td>3950.0</td>\n",
       "      <td>4100.0</td>\n",
       "      <td>4000.0</td>\n",
       "    </tr>\n",
       "    <tr>\n",
       "      <th>4</th>\n",
       "      <td>40.0</td>\n",
       "      <td>4100.0</td>\n",
       "      <td>4050.0</td>\n",
       "      <td>3950.0</td>\n",
       "      <td>4150.0</td>\n",
       "      <td>4050.0</td>\n",
       "      <td>3950.0</td>\n",
       "      <td>4100.0</td>\n",
       "    </tr>\n",
       "    <tr>\n",
       "      <th>...</th>\n",
       "      <td>...</td>\n",
       "      <td>...</td>\n",
       "      <td>...</td>\n",
       "      <td>...</td>\n",
       "      <td>...</td>\n",
       "      <td>...</td>\n",
       "      <td>...</td>\n",
       "      <td>...</td>\n",
       "    </tr>\n",
       "    <tr>\n",
       "      <th>78</th>\n",
       "      <td>780.0</td>\n",
       "      <td>170.0</td>\n",
       "      <td>120.0</td>\n",
       "      <td>220.0</td>\n",
       "      <td>120.0</td>\n",
       "      <td>120.0</td>\n",
       "      <td>120.0</td>\n",
       "      <td>270.0</td>\n",
       "    </tr>\n",
       "    <tr>\n",
       "      <th>79</th>\n",
       "      <td>790.0</td>\n",
       "      <td>170.0</td>\n",
       "      <td>120.0</td>\n",
       "      <td>20.0</td>\n",
       "      <td>120.0</td>\n",
       "      <td>120.0</td>\n",
       "      <td>120.0</td>\n",
       "      <td>70.0</td>\n",
       "    </tr>\n",
       "    <tr>\n",
       "      <th>80</th>\n",
       "      <td>800.0</td>\n",
       "      <td>20.0</td>\n",
       "      <td>70.0</td>\n",
       "      <td>20.0</td>\n",
       "      <td>120.0</td>\n",
       "      <td>20.0</td>\n",
       "      <td>20.0</td>\n",
       "      <td>70.0</td>\n",
       "    </tr>\n",
       "    <tr>\n",
       "      <th>81</th>\n",
       "      <td>810.0</td>\n",
       "      <td>0.0</td>\n",
       "      <td>0.0</td>\n",
       "      <td>0.0</td>\n",
       "      <td>0.0</td>\n",
       "      <td>20.0</td>\n",
       "      <td>20.0</td>\n",
       "      <td>0.0</td>\n",
       "    </tr>\n",
       "    <tr>\n",
       "      <th>82</th>\n",
       "      <td>820.0</td>\n",
       "      <td>0.0</td>\n",
       "      <td>0.0</td>\n",
       "      <td>0.0</td>\n",
       "      <td>0.0</td>\n",
       "      <td>0.0</td>\n",
       "      <td>0.0</td>\n",
       "      <td>0.0</td>\n",
       "    </tr>\n",
       "  </tbody>\n",
       "</table>\n",
       "<p>83 rows × 8 columns</p>\n",
       "</div>"
      ],
      "text/plain": [
       "     time  Target/Target1  Target/Target2  Target/Target3  Target/Target4  \\\n",
       "0     0.0          4000.0          4000.0          4000.0          4000.0   \n",
       "1    10.0          4050.0          4050.0          3850.0          4050.0   \n",
       "2    20.0          4050.0          3950.0          3950.0          3950.0   \n",
       "3    30.0          4050.0          4050.0          4050.0          4050.0   \n",
       "4    40.0          4100.0          4050.0          3950.0          4150.0   \n",
       "..    ...             ...             ...             ...             ...   \n",
       "78  780.0           170.0           120.0           220.0           120.0   \n",
       "79  790.0           170.0           120.0            20.0           120.0   \n",
       "80  800.0            20.0            70.0            20.0           120.0   \n",
       "81  810.0             0.0             0.0             0.0             0.0   \n",
       "82  820.0             0.0             0.0             0.0             0.0   \n",
       "\n",
       "    Target/Target5  Target/Target6  Target/Target7  \n",
       "0           4000.0          4000.0          4000.0  \n",
       "1           3950.0          3900.0          4000.0  \n",
       "2           4050.0          4000.0          4100.0  \n",
       "3           3950.0          4100.0          4000.0  \n",
       "4           4050.0          3950.0          4100.0  \n",
       "..             ...             ...             ...  \n",
       "78           120.0           120.0           270.0  \n",
       "79           120.0           120.0            70.0  \n",
       "80            20.0            20.0            70.0  \n",
       "81            20.0            20.0             0.0  \n",
       "82             0.0             0.0             0.0  \n",
       "\n",
       "[83 rows x 8 columns]"
      ]
     },
     "execution_count": 9,
     "metadata": {},
     "output_type": "execute_result"
    }
   ],
   "source": [
    "dfTimesDataToTransfer"
   ]
  },
  {
   "cell_type": "code",
   "execution_count": 10,
   "metadata": {},
   "outputs": [
    {
     "data": {
      "image/png": "[encoded data removed]",
      "text/plain": [
       "<Figure size 720x432 with 1 Axes>"
      ]
     },
     "metadata": {
      "needs_background": "light"
     },
     "output_type": "display_data"
    }
   ],
   "source": [
    "dfTimesDataToTransfer.plot(x='time',y=dfTimesDataToTransfer.columns[1:],figsize=(10,6));"
   ]
  },
  {
   "cell_type": "code",
   "execution_count": 11,
   "metadata": {},
   "outputs": [
    {
     "data": {
      "image/png": "[encoded data removed]",
      "text/plain": [
       "<Figure size 720x432 with 1 Axes>"
      ]
     },
     "metadata": {
      "needs_background": "light"
     },
     "output_type": "display_data"
    }
   ],
   "source": [
    "# Network transfer rate = Data transfer rate from starting nodes(+) + New data accumulation at starting nodes (-)\n",
    "dfData = addDataMetrics(dfTimesDataToTransfer,step)\n",
    "plt.figure(figsize=(10,6))\n",
    "plt.plot(dfData['time'],-dfData['Data per sec']);\n",
    "plt.xlabel('time')\n",
    "plt.legend(['Data per sec'])\n",
    "plt.show()"
   ]
  },
  {
   "cell_type": "code",
   "execution_count": 12,
   "metadata": {},
   "outputs": [
    {
     "data": {
      "text/html": [
       "<div>\n",
       "<style scoped>\n",
       "    .dataframe tbody tr th:only-of-type {\n",
       "        vertical-align: middle;\n",
       "    }\n",
       "\n",
       "    .dataframe tbody tr th {\n",
       "        vertical-align: top;\n",
       "    }\n",
       "\n",
       "    .dataframe thead th {\n",
       "        text-align: right;\n",
       "    }\n",
       "</style>\n",
       "<table border=\"1\" class=\"dataframe\">\n",
       "  <thead>\n",
       "    <tr style=\"text-align: right;\">\n",
       "      <th></th>\n",
       "      <th>time</th>\n",
       "      <th>Place/Los_Angeles_CA</th>\n",
       "      <th>Place/Washington_DC</th>\n",
       "    </tr>\n",
       "  </thead>\n",
       "  <tbody>\n",
       "    <tr>\n",
       "      <th>0</th>\n",
       "      <td>0.0</td>\n",
       "      <td>0.0</td>\n",
       "      <td>0.0</td>\n",
       "    </tr>\n",
       "    <tr>\n",
       "      <th>1</th>\n",
       "      <td>10.0</td>\n",
       "      <td>200.0</td>\n",
       "      <td>300.0</td>\n",
       "    </tr>\n",
       "    <tr>\n",
       "      <th>2</th>\n",
       "      <td>20.0</td>\n",
       "      <td>400.0</td>\n",
       "      <td>600.0</td>\n",
       "    </tr>\n",
       "    <tr>\n",
       "      <th>3</th>\n",
       "      <td>30.0</td>\n",
       "      <td>600.0</td>\n",
       "      <td>900.0</td>\n",
       "    </tr>\n",
       "    <tr>\n",
       "      <th>4</th>\n",
       "      <td>40.0</td>\n",
       "      <td>900.0</td>\n",
       "      <td>1200.0</td>\n",
       "    </tr>\n",
       "    <tr>\n",
       "      <th>...</th>\n",
       "      <td>...</td>\n",
       "      <td>...</td>\n",
       "      <td>...</td>\n",
       "    </tr>\n",
       "    <tr>\n",
       "      <th>78</th>\n",
       "      <td>780.0</td>\n",
       "      <td>23400.0</td>\n",
       "      <td>9900.0</td>\n",
       "    </tr>\n",
       "    <tr>\n",
       "      <th>79</th>\n",
       "      <td>790.0</td>\n",
       "      <td>23700.0</td>\n",
       "      <td>10000.0</td>\n",
       "    </tr>\n",
       "    <tr>\n",
       "      <th>80</th>\n",
       "      <td>800.0</td>\n",
       "      <td>24000.0</td>\n",
       "      <td>10100.0</td>\n",
       "    </tr>\n",
       "    <tr>\n",
       "      <th>81</th>\n",
       "      <td>810.0</td>\n",
       "      <td>24300.0</td>\n",
       "      <td>10100.0</td>\n",
       "    </tr>\n",
       "    <tr>\n",
       "      <th>82</th>\n",
       "      <td>820.0</td>\n",
       "      <td>24340.0</td>\n",
       "      <td>10100.0</td>\n",
       "    </tr>\n",
       "  </tbody>\n",
       "</table>\n",
       "<p>83 rows × 3 columns</p>\n",
       "</div>"
      ],
      "text/plain": [
       "     time  Place/Los_Angeles_CA  Place/Washington_DC\n",
       "0     0.0                   0.0                  0.0\n",
       "1    10.0                 200.0                300.0\n",
       "2    20.0                 400.0                600.0\n",
       "3    30.0                 600.0                900.0\n",
       "4    40.0                 900.0               1200.0\n",
       "..    ...                   ...                  ...\n",
       "78  780.0               23400.0               9900.0\n",
       "79  790.0               23700.0              10000.0\n",
       "80  800.0               24000.0              10100.0\n",
       "81  810.0               24300.0              10100.0\n",
       "82  820.0               24340.0              10100.0\n",
       "\n",
       "[83 rows x 3 columns]"
      ]
     },
     "execution_count": 12,
     "metadata": {},
     "output_type": "execute_result"
    }
   ],
   "source": [
    "dfTimesDataTransfered"
   ]
  },
  {
   "cell_type": "code",
   "execution_count": 13,
   "metadata": {},
   "outputs": [
    {
     "data": {
      "image/png": "[encoded data removed]",
      "text/plain": [
       "<Figure size 720x432 with 1 Axes>"
      ]
     },
     "metadata": {
      "needs_background": "light"
     },
     "output_type": "display_data"
    }
   ],
   "source": [
    "dfTimesDataTransfered.plot(x='time',y=dfTimesDataTransfered.columns[1:],figsize=(10,6));"
   ]
  },
  {
   "cell_type": "code",
   "execution_count": 14,
   "metadata": {
    "scrolled": false
   },
   "outputs": [
    {
     "data": {
      "image/png": "[encoded data removed]",
      "text/plain": [
       "<Figure size 720x432 with 1 Axes>"
      ]
     },
     "metadata": {
      "needs_background": "light"
     },
     "output_type": "display_data"
    }
   ],
   "source": [
    "# Network storage rate = data transfered to ending locations/sec \n",
    "dfData = addDataMetrics(dfTimesDataTransfered,step)\n",
    "dfData.plot(x='time',y='Data per sec',figsize=(10,6));"
   ]
  },
  {
   "cell_type": "code",
   "execution_count": 15,
   "metadata": {
    "scrolled": false
   },
   "outputs": [
    {
     "data": {
      "image/png": "[encoded data removed]",
      "text/plain": [
       "<Figure size 576x144 with 1 Axes>"
      ]
     },
     "metadata": {
      "needs_background": "light"
     },
     "output_type": "display_data"
    },
    {
     "data": {
      "image/png": "[encoded data removed]",
      "text/plain": [
       "<Figure size 576x288 with 2 Axes>"
      ]
     },
     "metadata": {
      "needs_background": "light"
     },
     "output_type": "display_data"
    }
   ],
   "source": [
    "# Load the paths into STK, pick from a color map or specify a specifc color\n",
    "\n",
    "# Create intervals for each edge and count the number of times the edge is active\n",
    "# Optionally specify an edge weight which will be multipled by its frequency at each time step\n",
    "timesEdgeCountAll = createTimesEdgesCountFromDF(df,weightColumn='data transfer')\n",
    "\n",
    "# # Consider binning the counts to prevent a ton of unique colors, which can noteably speed up the time it takes to add data to STK\n",
    "# # Look at the pd.cut documentation for specifying specific bin edges\n",
    "# numBins = 5\n",
    "# bins = pd.cut(timesEdgeCountAll[:,2],numBins,labels=False)\n",
    "# timesEdgeCountAll[:,2] = np.round(bins*(max(timesEdgeCountAll[:,2])-min(timesEdgeCountAll[:,2]))/numBins+min(timesEdgeCountAll[:,2]),6)\n",
    "\n",
    "t1 = time.time()\n",
    "# Color Maps here: https://matplotlib.org/stable/tutorials/colors/colormaps.html\n",
    "# Good options: diverging and sequential color maps such as: cool,coolwarm,Wistia\n",
    "cmap = cm.get_cmap('coolwarm') # pick a matplotlib color map or don't pass in a colorMap to just use a color\n",
    "addTimesEdgesCountAsObjectLines(stkRoot,timesEdgeCountAll,step,addTo2D=False,color='%000196196',colorMap=cmap,lineWidth=7)\n",
    "print(time.time()-t1)\n",
    "\n",
    "if cmap:\n",
    "    plotColorbar(timesEdgeCountAll,cmap,plotBoth=True,tickRotationInDeg=65)"
   ]
  },
  {
   "cell_type": "markdown",
   "metadata": {},
   "source": [
    "## Investigate Edges with the Most Data Transfer and Saturated Edges"
   ]
  },
  {
   "cell_type": "code",
   "execution_count": 16,
   "metadata": {},
   "outputs": [
    {
     "data": {
      "text/html": [
       "<div>\n",
       "<style scoped>\n",
       "    .dataframe tbody tr th:only-of-type {\n",
       "        vertical-align: middle;\n",
       "    }\n",
       "\n",
       "    .dataframe tbody tr th {\n",
       "        vertical-align: top;\n",
       "    }\n",
       "\n",
       "    .dataframe thead th {\n",
       "        text-align: right;\n",
       "    }\n",
       "</style>\n",
       "<table border=\"1\" class=\"dataframe\">\n",
       "  <thead>\n",
       "    <tr style=\"text-align: right;\">\n",
       "      <th></th>\n",
       "      <th>time</th>\n",
       "      <th>edge</th>\n",
       "      <th>Data Transfered</th>\n",
       "    </tr>\n",
       "  </thead>\n",
       "  <tbody>\n",
       "    <tr>\n",
       "      <th>0</th>\n",
       "      <td>120</td>\n",
       "      <td>(Satellite/ObservingSat13/Receiver/ObservingReceiver, Satellite/ObservingSat13)</td>\n",
       "      <td>250</td>\n",
       "    </tr>\n",
       "  </tbody>\n",
       "</table>\n",
       "</div>"
      ],
      "text/plain": [
       "  time  \\\n",
       "0  120   \n",
       "\n",
       "                                                                              edge  \\\n",
       "0  (Satellite/ObservingSat13/Receiver/ObservingReceiver, Satellite/ObservingSat13)   \n",
       "\n",
       "  Data Transfered  \n",
       "0             250  "
      ]
     },
     "execution_count": 16,
     "metadata": {},
     "output_type": "execute_result"
    }
   ],
   "source": [
    "# Find the times and edges with data transfered over some value.\n",
    "# minDataTransferedValue  = 200 # You can set your own cutoff\n",
    "minDataTransferedValue = np.sort(timesEdgeCountAll[:,2])[-1] # picks the max val\n",
    "pd.DataFrame(timesEdgeCountAll[timesEdgeCountAll[:,2]>=minDataTransferedValue,:],columns=['time','edge','Data Transfered'])"
   ]
  },
  {
   "cell_type": "code",
   "execution_count": 17,
   "metadata": {},
   "outputs": [
    {
     "data": {
      "text/html": [
       "<div>\n",
       "<style scoped>\n",
       "    .dataframe tbody tr th:only-of-type {\n",
       "        vertical-align: middle;\n",
       "    }\n",
       "\n",
       "    .dataframe tbody tr th {\n",
       "        vertical-align: top;\n",
       "    }\n",
       "\n",
       "    .dataframe thead th {\n",
       "        text-align: right;\n",
       "    }\n",
       "</style>\n",
       "<table border=\"1\" class=\"dataframe\">\n",
       "  <thead>\n",
       "    <tr style=\"text-align: right;\">\n",
       "      <th></th>\n",
       "      <th>edge</th>\n",
       "      <th>Saturated Bandwidth [% of time]</th>\n",
       "    </tr>\n",
       "  </thead>\n",
       "  <tbody>\n",
       "    <tr>\n",
       "      <th>0</th>\n",
       "      <td>(Satellite/RelaySat31/Sensor/RelaySatFOR, Place/Los_Angeles_CA)</td>\n",
       "      <td>98.7805</td>\n",
       "    </tr>\n",
       "    <tr>\n",
       "      <th>1</th>\n",
       "      <td>(Satellite/RelaySat31/Sensor/RelaySatFOR, Place/Washington_DC)</td>\n",
       "      <td>97.561</td>\n",
       "    </tr>\n",
       "    <tr>\n",
       "      <th>2</th>\n",
       "      <td>(Satellite/RelaySat22/Sensor/RelaySatFOR, Place/Los_Angeles_CA)</td>\n",
       "      <td>95.122</td>\n",
       "    </tr>\n",
       "    <tr>\n",
       "      <th>3</th>\n",
       "      <td>(Satellite/RelaySat12/Sensor/RelaySatFOR, Place/Los_Angeles_CA)</td>\n",
       "      <td>67.0732</td>\n",
       "    </tr>\n",
       "    <tr>\n",
       "      <th>4</th>\n",
       "      <td>(Target/Target1, Satellite/ObservingSat71/Sensor/ObservingFOR)</td>\n",
       "      <td>52.439</td>\n",
       "    </tr>\n",
       "    <tr>\n",
       "      <th>5</th>\n",
       "      <td>(Target/Target7, Satellite/ObservingSat36/Sensor/ObservingFOR)</td>\n",
       "      <td>48.7805</td>\n",
       "    </tr>\n",
       "    <tr>\n",
       "      <th>6</th>\n",
       "      <td>(Target/Target2, Satellite/ObservingSat81/Sensor/ObservingFOR)</td>\n",
       "      <td>40.2439</td>\n",
       "    </tr>\n",
       "    <tr>\n",
       "      <th>7</th>\n",
       "      <td>(Target/Target3, Satellite/ObservingSat62/Sensor/ObservingFOR)</td>\n",
       "      <td>40.2439</td>\n",
       "    </tr>\n",
       "    <tr>\n",
       "      <th>8</th>\n",
       "      <td>(Target/Target7, Satellite/ObservingSat64/Sensor/ObservingFOR)</td>\n",
       "      <td>37.8049</td>\n",
       "    </tr>\n",
       "    <tr>\n",
       "      <th>9</th>\n",
       "      <td>(Target/Target2, Satellite/ObservingSat53/Sensor/ObservingFOR)</td>\n",
       "      <td>36.5854</td>\n",
       "    </tr>\n",
       "  </tbody>\n",
       "</table>\n",
       "</div>"
      ],
      "text/plain": [
       "                                                              edge  \\\n",
       "0  (Satellite/RelaySat31/Sensor/RelaySatFOR, Place/Los_Angeles_CA)   \n",
       "1   (Satellite/RelaySat31/Sensor/RelaySatFOR, Place/Washington_DC)   \n",
       "2  (Satellite/RelaySat22/Sensor/RelaySatFOR, Place/Los_Angeles_CA)   \n",
       "3  (Satellite/RelaySat12/Sensor/RelaySatFOR, Place/Los_Angeles_CA)   \n",
       "4   (Target/Target1, Satellite/ObservingSat71/Sensor/ObservingFOR)   \n",
       "5   (Target/Target7, Satellite/ObservingSat36/Sensor/ObservingFOR)   \n",
       "6   (Target/Target2, Satellite/ObservingSat81/Sensor/ObservingFOR)   \n",
       "7   (Target/Target3, Satellite/ObservingSat62/Sensor/ObservingFOR)   \n",
       "8   (Target/Target7, Satellite/ObservingSat64/Sensor/ObservingFOR)   \n",
       "9   (Target/Target2, Satellite/ObservingSat53/Sensor/ObservingFOR)   \n",
       "\n",
       "  Saturated Bandwidth [% of time]  \n",
       "0                         98.7805  \n",
       "1                          97.561  \n",
       "2                          95.122  \n",
       "3                         67.0732  \n",
       "4                          52.439  \n",
       "5                         48.7805  \n",
       "6                         40.2439  \n",
       "7                         40.2439  \n",
       "8                         37.8049  \n",
       "9                         36.5854  "
      ]
     },
     "execution_count": 17,
     "metadata": {},
     "output_type": "execute_result"
    }
   ],
   "source": [
    "# Find all edges with saturated bandwidth over time\n",
    "if timesEdgesDistancesDelaysBandwidthsUpdated == timesEdgesDistancesDelaysBandwidths: # May need to regenenerate timesEdgesDistancesDelaysBandwiths becaues it gets modified computeDataTransferThroughNetwork\n",
    "    timesEdgesDistancesDelaysBandwidths = addEdgeMetricToTimesEdges(stkRoot,timesEdgesDistancesDelays,bandwidthBetweenConstellationsPerTimeStep,defaultValue=defaultBandwidth*step)\n",
    "filledEdges = np.asarray([(t,edge,val[-1]) for t,data in timesEdgesDistancesDelaysBandwidthsUpdated.items() for edge,val in timesEdgesDistancesDelaysBandwidths[t].items() if edge not in data])\n",
    "frequencyOfFilledEdges = countEdgesOverTime(filledEdges[:,1],topN=10)\n",
    "frequencyOfFilledEdges[:,1] = frequencyOfFilledEdges[:,1]/(simulationStopTime/step)*100\n",
    "dfSaturatedBandwidth = pd.DataFrame(frequencyOfFilledEdges,columns=['edge','Saturated Bandwidth [% of time]'])\n",
    "dfSaturatedBandwidth "
   ]
  },
  {
   "cell_type": "markdown",
   "metadata": {},
   "source": [
    "##  Turn on Active Nodes"
   ]
  },
  {
   "cell_type": "code",
   "execution_count": 18,
   "metadata": {},
   "outputs": [],
   "source": [
    "# Load df\n",
    "filenameToLoad = 'SavedNetworkData/{}DataTransfer.pkl'.format(filename)\n",
    "with open(filenameToLoad,'rb') as f:\n",
    "    df = pickle.load(f)"
   ]
  },
  {
   "cell_type": "code",
   "execution_count": 19,
   "metadata": {},
   "outputs": [],
   "source": [
    "# Active objects in the network over time\n",
    "objPaths = list((set([node for strand in df['strand'].values for node in strand])))"
   ]
  },
  {
   "cell_type": "code",
   "execution_count": 20,
   "metadata": {},
   "outputs": [],
   "source": [
    "# Turn on the objects in the scenario\n",
    "turnGraphicsOnOff(stkRoot,objPaths,onOrOff = 'On',parentsOnly = True)"
   ]
  },
  {
   "cell_type": "code",
   "execution_count": 21,
   "metadata": {},
   "outputs": [],
   "source": [
    "# Turn off the objects in the sceario\n",
    "turnGraphicsOnOff(stkRoot,objPaths,onOrOff = 'Off',parentsOnly = True)"
   ]
  },
  {
   "cell_type": "markdown",
   "metadata": {},
   "source": [
    "## Turn On Active Nodes at a Specific Time"
   ]
  },
  {
   "cell_type": "code",
   "execution_count": 22,
   "metadata": {},
   "outputs": [],
   "source": [
    "# Look at an instance in time (pick a time in df)\n",
    "t = 0\n",
    "stkRoot.CurrentTime = t"
   ]
  },
  {
   "cell_type": "code",
   "execution_count": 23,
   "metadata": {},
   "outputs": [],
   "source": [
    "# Look at strand order and the node delay\n",
    "objPaths = list((set([node for strand in df.loc[df['time']==t/step,'strand'] for node in strand])))"
   ]
  },
  {
   "cell_type": "code",
   "execution_count": 24,
   "metadata": {
    "scrolled": true
   },
   "outputs": [
    {
     "data": {
      "text/html": [
       "<div>\n",
       "<style scoped>\n",
       "    .dataframe tbody tr th:only-of-type {\n",
       "        vertical-align: middle;\n",
       "    }\n",
       "\n",
       "    .dataframe tbody tr th {\n",
       "        vertical-align: top;\n",
       "    }\n",
       "\n",
       "    .dataframe thead th {\n",
       "        text-align: right;\n",
       "    }\n",
       "</style>\n",
       "<table border=\"1\" class=\"dataframe\">\n",
       "  <thead>\n",
       "    <tr style=\"text-align: right;\">\n",
       "      <th></th>\n",
       "      <th>edge</th>\n",
       "      <th>data transfered</th>\n",
       "    </tr>\n",
       "  </thead>\n",
       "  <tbody>\n",
       "    <tr>\n",
       "      <th>0</th>\n",
       "      <td>(Satellite/ObservingSat12, Satellite/ObservingSat12/Transmitter/ObservingTransmitter)</td>\n",
       "      <td>100</td>\n",
       "    </tr>\n",
       "    <tr>\n",
       "      <th>1</th>\n",
       "      <td>(Satellite/ObservingSat12/Sensor/ObservingFOR, Satellite/ObservingSat12)</td>\n",
       "      <td>100</td>\n",
       "    </tr>\n",
       "    <tr>\n",
       "      <th>2</th>\n",
       "      <td>(Satellite/ObservingSat12/Transmitter/ObservingTransmitter, Satellite/ObservingSat13/Receiver/ObservingReceiver)</td>\n",
       "      <td>100</td>\n",
       "    </tr>\n",
       "    <tr>\n",
       "      <th>3</th>\n",
       "      <td>(Satellite/ObservingSat13, Satellite/RelaySat13/Sensor/RelaySatFOR)</td>\n",
       "      <td>200</td>\n",
       "    </tr>\n",
       "    <tr>\n",
       "      <th>4</th>\n",
       "      <td>(Satellite/ObservingSat13/Receiver/ObservingReceiver, Satellite/ObservingSat13)</td>\n",
       "      <td>200</td>\n",
       "    </tr>\n",
       "  </tbody>\n",
       "</table>\n",
       "</div>"
      ],
      "text/plain": [
       "                                                                                                               edge  \\\n",
       "0                             (Satellite/ObservingSat12, Satellite/ObservingSat12/Transmitter/ObservingTransmitter)   \n",
       "1                                          (Satellite/ObservingSat12/Sensor/ObservingFOR, Satellite/ObservingSat12)   \n",
       "2  (Satellite/ObservingSat12/Transmitter/ObservingTransmitter, Satellite/ObservingSat13/Receiver/ObservingReceiver)   \n",
       "3                                               (Satellite/ObservingSat13, Satellite/RelaySat13/Sensor/RelaySatFOR)   \n",
       "4                                   (Satellite/ObservingSat13/Receiver/ObservingReceiver, Satellite/ObservingSat13)   \n",
       "\n",
       "  data transfered  \n",
       "0             100  \n",
       "1             100  \n",
       "2             100  \n",
       "3             200  \n",
       "4             200  "
      ]
     },
     "execution_count": 24,
     "metadata": {},
     "output_type": "execute_result"
    }
   ],
   "source": [
    "dataTransferedAtT = pd.DataFrame(timesEdgeCountAll[timesEdgeCountAll[:,0] == t,1:],columns=['edge','data transfered'])\n",
    "dataTransferedAtT.head()"
   ]
  },
  {
   "cell_type": "code",
   "execution_count": 25,
   "metadata": {},
   "outputs": [],
   "source": [
    "# Turn on the objects in the scenario\n",
    "turnGraphicsOnOff(stkRoot,objPaths,onOrOff = 'On',parentsOnly = True)"
   ]
  },
  {
   "cell_type": "code",
   "execution_count": 26,
   "metadata": {},
   "outputs": [],
   "source": [
    "# Turn off the objects in the sceario\n",
    "turnGraphicsOnOff(stkRoot,objPaths,onOrOff = 'Off',parentsOnly = True)"
   ]
  },
  {
   "cell_type": "code",
   "execution_count": null,
   "metadata": {},
   "outputs": [],
   "source": []
  }
 ],
 "metadata": {
  "kernelspec": {
   "display_name": "Python 3",
   "language": "python",
   "name": "python3"
  },
  "language_info": {
   "codemirror_mode": {
    "name": "ipython",
    "version": 3
   },
   "file_extension": ".py",
   "mimetype": "text/x-python",
   "name": "python",
   "nbconvert_exporter": "python",
   "pygments_lexer": "ipython3",
   "version": "3.8.5"
  },
  "varInspector": {
   "cols": {
    "lenName": 16,
    "lenType": 16,
    "lenVar": 40
   },
   "kernels_config": {
    "python": {
     "delete_cmd_postfix": "",
     "delete_cmd_prefix": "del ",
     "library": "var_list.py",
     "varRefreshCmd": "print(var_dic_list())"
    },
    "r": {
     "delete_cmd_postfix": ") ",
     "delete_cmd_prefix": "rm(",
     "library": "var_list.r",
     "varRefreshCmd": "cat(var_dic_list()) "
    }
   },
   "position": {
    "height": "1121.48px",
    "left": "1815.99px",
    "right": "20px",
    "top": "91.9961px",
    "width": "555.488px"
   },
   "types_to_exclude": [
    "module",
    "function",
    "builtin_function_or_method",
    "instance",
    "_Feature"
   ],
   "window_display": false
  }
 },
 "nbformat": 4,
 "nbformat_minor": 2
}
