{
 "cells": [
  {
   "cell_type": "markdown",
   "metadata": {},
   "source": [
    "# Constellation and Chain Analysis: Transmitters and Receivers Example\n",
    "\n",
    "<img src=\"TransmitterAndReceiver.jpg\" alt=\"Drawing\" style=\"width: 800px;\"/>\n",
    "\n",
    "**Terminology**\n",
    "* Node = Object in STK\n",
    "* Edge = Access between two objects in STK\n",
    "* Strand = The sequence of nodes and edges to complete access in a chain\n",
    "\n",
    "**This notebook shows how to:**\n",
    "* Find the least latency path between a starting constellation and ending constellation through a network of receivers and transmitters. The connecting constellations in the scenario can have logical constraints so they can only transmit to receivers on other satellites\n",
    "* Typical STK constraints such as range, link duration, Eb/No, etc can be taken into account\n",
    "*  Compute summary statistics for time delay and number of hops\n",
    "* Load the shortest path data back into STK\n",
    "\n"
   ]
  },
  {
   "cell_type": "code",
   "execution_count": 22,
   "metadata": {},
   "outputs": [],
   "source": [
    "import numpy as np\n",
    "import pandas as pd\n",
    "\n",
    "pd.set_option(\"max_colwidth\", 70)\n",
    "from agi.stk12.stkdesktop import STKDesktop\n",
    "from agi.stk12.utilities.colors import Colors\n",
    "from agi.stk12.stkobjects import *\n",
    "from agi.stk12.stkutil import *\n",
    "from agi.stk12.vgt import *\n",
    "import seaborn as sns\n",
    "import matplotlib.pyplot as plt\n",
    "from chainPathLib2 import *\n",
    "import time\n",
    "import networkx as nx\n",
    "import warnings\n",
    "\n",
    "warnings.filterwarnings(\"ignore\")"
   ]
  },
  {
   "cell_type": "markdown",
   "metadata": {},
   "source": [
    "## Constellation Names, Computation Time, and Processing Delays"
   ]
  },
  {
   "cell_type": "code",
   "execution_count": 23,
   "metadata": {},
   "outputs": [],
   "source": [
    "# Inputs for Chain Analysis\n",
    "startingConstellation = \"Targets\"  # Will be used as the start of the chain\n",
    "firstConnectingConstellation = \"ObservingSatsReceivers\"  # Will be used to connect the the starting and ending constellation\n",
    "secondConnectingConstellation = \"ObservingSatsTransmitters\"  # Will be used to connect the the starting and ending constellation\n",
    "endingConstellation = \"EndLocations\"  # Will be used as the end of the chain\n",
    "\n",
    "start = 0  # EpSec\n",
    "stop = 3600 * 1  # EpSec\n",
    "metric = \"timeDelay\"  # 'distance','timeDelay' # could optionally add: min hops+secondary metric, fewest hand off etc\n",
    "nodeDelays = {\n",
    "    \"ObservingSatsReceivers\": 0.005,\n",
    "    \"ObservingSatsTransmitters\": 0.005,\n",
    "}  # Add in time delays. Provide the constellation name in STK and the node delays\n",
    "stkVersion = 12"
   ]
  },
  {
   "cell_type": "code",
   "execution_count": 24,
   "metadata": {},
   "outputs": [
    {
     "data": {
      "text/plain": [
       "<agi.stk12.stkutil.AgExecCmdResult at 0x17ac607ebe0>"
      ]
     },
     "execution_count": 24,
     "metadata": {},
     "output_type": "execute_result"
    }
   ],
   "source": [
    "# Connect to STK\n",
    "stkApp = STKDesktop.AttachToApplication()\n",
    "stkRoot = stkApp.Root\n",
    "stkRoot.UnitPreferences.SetCurrentUnit(\"DateFormat\", \"EpSec\")\n",
    "stkRoot.ExecuteCommand('Units_SetConnect / Date \"EpochSeconds\"')\n",
    "stkRoot.ExecuteCommand(\"VO * ObjectLine DeleteAll\")"
   ]
  },
  {
   "cell_type": "code",
   "execution_count": 25,
   "metadata": {},
   "outputs": [],
   "source": [
    "# # Example of how to adjust all transmitters power\n",
    "# transmitterPaths = FilterObjectsByType(stkRoot,'Transmitter')\n",
    "# for transmitterPath in transmitterPaths:\n",
    "#     transmitter = stkRoot.GetObjectFromPath(transmitterPath)\n",
    "#     transmitter2 = transmitter.QueryInterface(STKObjects.IAgTransmitter)\n",
    "#     transmitterModel = transmitter2.Model.QueryInterface(STKObjects.IAgTransmitterModelSimple)\n",
    "#     transmitterModel.Eirp = 16.9"
   ]
  },
  {
   "cell_type": "code",
   "execution_count": 27,
   "metadata": {},
   "outputs": [
    {
     "name": "stdout",
     "output_type": "stream",
     "text": [
      "['StartingToConnecting', 'FirstToSecond', 'SecondToFirst', 'ConnectingToEnding']\n"
     ]
    },
    {
     "ename": "STKRuntimeError",
     "evalue": "Invalid object path.",
     "output_type": "error",
     "traceback": [
      "\u001b[1;31m---------------------------------------------------------------------------\u001b[0m",
      "\u001b[1;31mSTKRuntimeError\u001b[0m                           Traceback (most recent call last)",
      "\u001b[1;32mc:\\Users\\jthompson\\Documents\\git_repos\\STKCodeExamples\\StkAutomation\\Python\\Scenario_Analysis\\ConstellationAndNetworkRouting\\ConstellationAnalysisTransRec.ipynb Cell 7\u001b[0m in \u001b[0;36m<module>\u001b[1;34m\u001b[0m\n\u001b[0;32m      <a href='vscode-notebook-cell:/c%3A/Users/jthompson/Documents/git_repos/STKCodeExamples/StkAutomation/Python/Scenario_Analysis/ConstellationAndNetworkRouting/ConstellationAnalysisTransRec.ipynb#W6sZmlsZQ%3D%3D?line=4'>5</a>\u001b[0m     chainNames \u001b[39m=\u001b[39m createChains(stkRoot,startingConstellation,firstConnectingConstellation,endingConstellation,secondConnectingConstellation\u001b[39m=\u001b[39msecondConnectingConstellation)\n\u001b[0;32m      <a href='vscode-notebook-cell:/c%3A/Users/jthompson/Documents/git_repos/STKCodeExamples/StkAutomation/Python/Scenario_Analysis/ConstellationAndNetworkRouting/ConstellationAnalysisTransRec.ipynb#W6sZmlsZQ%3D%3D?line=5'>6</a>\u001b[0m \u001b[39mprint\u001b[39m(chainNames)\n\u001b[1;32m----> <a href='vscode-notebook-cell:/c%3A/Users/jthompson/Documents/git_repos/STKCodeExamples/StkAutomation/Python/Scenario_Analysis/ConstellationAndNetworkRouting/ConstellationAnalysisTransRec.ipynb#W6sZmlsZQ%3D%3D?line=6'>7</a>\u001b[0m nodeDelaysByNode \u001b[39m=\u001b[39m getNodeDelaysByNode(stkRoot,nodeDelays,chainNames\u001b[39m=\u001b[39;49mchainNames)\n",
      "File \u001b[1;32mc:\\Users\\jthompson\\Documents\\git_repos\\STKCodeExamples\\StkAutomation\\Python\\Scenario_Analysis\\ConstellationAndNetworkRouting\\chainPathLib2.py:1089\u001b[0m, in \u001b[0;36mgetNodeDelaysByNode\u001b[1;34m(stkRoot, nodeDelays, constellationNames, chainNames, overrideData)\u001b[0m\n\u001b[0;32m   1086\u001b[0m nodeDelaysByNode \u001b[39m=\u001b[39m {}\n\u001b[0;32m   1088\u001b[0m \u001b[39mfor\u001b[39;00m conName,delay \u001b[39min\u001b[39;00m nodeDelays\u001b[39m.\u001b[39mitems():\n\u001b[1;32m-> 1089\u001b[0m     nodes \u001b[39m=\u001b[39m getNodesFromConstellation(stkRoot,conName,overrideData\u001b[39m=\u001b[39;49moverrideData)\n\u001b[0;32m   1090\u001b[0m     \u001b[39mfor\u001b[39;00m node \u001b[39min\u001b[39;00m nodes:\n\u001b[0;32m   1091\u001b[0m         nodeDelaysByNode\u001b[39m.\u001b[39mupdate({node:delay})\n",
      "File \u001b[1;32mc:\\Users\\jthompson\\Documents\\git_repos\\STKCodeExamples\\StkAutomation\\Python\\Scenario_Analysis\\ConstellationAndNetworkRouting\\chainPathLib2.py:1141\u001b[0m, in \u001b[0;36mgetNodesFromConstellation\u001b[1;34m(stkRoot, constellationName, overrideData)\u001b[0m\n\u001b[0;32m   1138\u001b[0m         nodes \u001b[39m=\u001b[39m pickle\u001b[39m.\u001b[39mload(f)\n\u001b[0;32m   1139\u001b[0m \u001b[39m# Get nodes from constellation\u001b[39;00m\n\u001b[0;32m   1140\u001b[0m \u001b[39melse\u001b[39;00m:\n\u001b[1;32m-> 1141\u001b[0m     constellation \u001b[39m=\u001b[39m AgConstellation(stkRoot\u001b[39m.\u001b[39;49mGetObjectFromPath(\u001b[39mf\u001b[39;49m\u001b[39m'\u001b[39;49m\u001b[39mConstellation/\u001b[39;49m\u001b[39m{\u001b[39;49;00mconstellationName\u001b[39m}\u001b[39;49;00m\u001b[39m'\u001b[39;49m))\n\u001b[0;32m   1142\u001b[0m     nodes \u001b[39m=\u001b[39m []\n\u001b[0;32m   1143\u001b[0m     \u001b[39mfor\u001b[39;00m ii \u001b[39min\u001b[39;00m \u001b[39mrange\u001b[39m(constellation\u001b[39m.\u001b[39mObjects\u001b[39m.\u001b[39mCount):\n",
      "File \u001b[1;32mc:\\Users\\jthompson\\AppData\\Local\\miniforge3\\envs\\stk_base\\lib\\site-packages\\agi\\stk12\\stkobjects\\stkobjects.py:12814\u001b[0m, in \u001b[0;36mIAgStkObjectRoot.GetObjectFromPath\u001b[1;34m(self, objectPath)\u001b[0m\n\u001b[0;32m  12809\u001b[0m \u001b[39m'''\u001b[39;00m\n\u001b[0;32m  12810\u001b[0m \u001b[39mGets the object instance that matches the path provided\u001b[39;00m\n\u001b[0;32m  12811\u001b[0m \u001b[39m'''\u001b[39;00m\n\u001b[0;32m  12812\u001b[0m \u001b[39mwith\u001b[39;00m agmarshall\u001b[39m.\u001b[39mBSTR_arg(objectPath) \u001b[39mas\u001b[39;00m arg_objectPath, \\\n\u001b[0;32m  12813\u001b[0m      agmarshall\u001b[39m.\u001b[39mAgInterface_out_arg() \u001b[39mas\u001b[39;00m arg_ppIAgStkObject:\n\u001b[1;32m> 12814\u001b[0m     agcls\u001b[39m.\u001b[39;49mevaluate_hresult(\u001b[39mself\u001b[39;49m\u001b[39m.\u001b[39;49m\u001b[39m__dict__\u001b[39;49m[\u001b[39m'\u001b[39;49m\u001b[39m_GetObjectFromPath\u001b[39;49m\u001b[39m'\u001b[39;49m](arg_objectPath\u001b[39m.\u001b[39;49mCOM_val, byref(arg_ppIAgStkObject\u001b[39m.\u001b[39;49mCOM_val)))\n\u001b[0;32m  12815\u001b[0m     \u001b[39mreturn\u001b[39;00m arg_ppIAgStkObject\u001b[39m.\u001b[39mpython_val\n",
      "File \u001b[1;32mc:\\Users\\jthompson\\AppData\\Local\\miniforge3\\envs\\stk_base\\lib\\site-packages\\agi\\stk12\\internal\\coclassutil.py:86\u001b[0m, in \u001b[0;36mevaluate_hresult\u001b[1;34m(hr)\u001b[0m\n\u001b[0;32m     84\u001b[0m     msg \u001b[39m=\u001b[39m \u001b[39m\"\u001b[39m\u001b[39mOne or more arguments are invalid.\u001b[39m\u001b[39m\"\u001b[39m\n\u001b[0;32m     85\u001b[0m hresult_val \u001b[39m=\u001b[39m \u001b[39m'\u001b[39m\u001b[39m(HRESULT = 0x\u001b[39m\u001b[39m%x\u001b[39;00m\u001b[39m)\u001b[39m\u001b[39m'\u001b[39m \u001b[39m%\u001b[39m (hr \u001b[39m&\u001b[39m \u001b[39m0xFFFFFFFF\u001b[39m)\n\u001b[1;32m---> 86\u001b[0m \u001b[39mraise\u001b[39;00m STKRuntimeError(msg \u001b[39mif\u001b[39;00m msg \u001b[39mis\u001b[39;00m \u001b[39mnot\u001b[39;00m \u001b[39mNone\u001b[39;00m \u001b[39melse\u001b[39;00m hresult_val)\n",
      "\u001b[1;31mSTKRuntimeError\u001b[0m: Invalid object path."
     ]
    }
   ],
   "source": [
    "# Build chains and add node processing delays\n",
    "if not secondConnectingConstellation:\n",
    "    chainNames = createChains(\n",
    "        stkRoot,\n",
    "        startingConstellation,\n",
    "        firstConnectingConstellation,\n",
    "        endingConstellation,\n",
    "    )\n",
    "else:\n",
    "    chainNames = createChains(\n",
    "        stkRoot,\n",
    "        startingConstellation,\n",
    "        firstConnectingConstellation,\n",
    "        endingConstellation,\n",
    "        secondConnectingConstellation=secondConnectingConstellation,\n",
    "    )\n",
    "print(chainNames)\n",
    "nodeDelaysByNode = getNodeDelaysByNode(stkRoot, nodeDelays, chainNames=chainNames)"
   ]
  },
  {
   "cell_type": "markdown",
   "metadata": {},
   "source": [
    "## Compute  Strands and Distances"
   ]
  },
  {
   "cell_type": "code",
   "execution_count": null,
   "metadata": {},
   "outputs": [],
   "source": [
    "# Compute strands\n",
    "t1 = time.time()\n",
    "strands, dfStrands = getAllStrands(stkRoot, chainNames, start, stop)\n",
    "print(time.time() - t1)\n",
    "dfStrands"
   ]
  },
  {
   "cell_type": "code",
   "execution_count": null,
   "metadata": {},
   "outputs": [],
   "source": [
    "# Compute node positions, distances and time delays\n",
    "\n",
    "# Time resolution of distance calculation\n",
    "step = 10  # sec\n",
    "\n",
    "t1 = time.time()\n",
    "nodesTimesPos = computeNodesPosOverTime(\n",
    "    stkRoot, strands, start, stop, step\n",
    ")  # Pull node position over time\n",
    "t2 = time.time()\n",
    "print(t2 - t1)\n",
    "\n",
    "t1 = time.time()\n",
    "strandsAtTimes = getStrandsAtTimes(\n",
    "    strands, start, stop, step\n",
    ")  # Discretize strand intervals into times\n",
    "t2 = time.time()\n",
    "print(t2 - t1)\n",
    "\n",
    "t1 = time.time()\n",
    "timeNodePos = computeTimeNodePos(\n",
    "    strandsAtTimes, nodesTimesPos\n",
    ")  # Nodes and positions at each time\n",
    "t2 = time.time()\n",
    "print(t2 - t1)\n",
    "\n",
    "t1 = time.time()\n",
    "timesEdgesDistancesDelays = computeTimeEdgesDistancesDelays(\n",
    "    strandsAtTimes, nodesTimesPos, nodeDelaysByNode\n",
    ")  # Edges, distances and delays at each time\n",
    "t2 = time.time()\n",
    "print(t2 - t1)"
   ]
  },
  {
   "cell_type": "markdown",
   "metadata": {},
   "source": [
    "## Use NX for Network Metrics and Reliability Analysis\n"
   ]
  },
  {
   "cell_type": "code",
   "execution_count": null,
   "metadata": {},
   "outputs": [],
   "source": [
    "# Get starting nodes and ending nodes\n",
    "startingNodes = getNodesFromConstellation(stkRoot, startingConstellation)\n",
    "endingNodes = getNodesFromConstellation(stkRoot, endingConstellation)\n",
    "startingNodes, endingNodes"
   ]
  },
  {
   "cell_type": "code",
   "execution_count": null,
   "metadata": {},
   "outputs": [],
   "source": [
    "# Build new networks at each time and gather metrics\n",
    "t1 = time.time()\n",
    "\n",
    "strandsShort = []\n",
    "distances = []\n",
    "timeStrandMetric = []\n",
    "setsOfMinNodesToRemoveAll = []\n",
    "setsOfMinNodesToRemoveAny = []\n",
    "i = 0\n",
    "for t in np.arange(start, stop + step, step):\n",
    "    # Generate Network at each time\n",
    "    if secondConnectingConstellation:\n",
    "        G = generateDiNetwork(\n",
    "            t, timesEdgesDistancesDelays, timeNodePos\n",
    "        )  # A directed network is needed when using two connecting constellations\n",
    "    else:\n",
    "        G = generateNetwork(t, timesEdgesDistancesDelays, timeNodePos)\n",
    "\n",
    "    # Find shortest strand distance\n",
    "    if any([node in G.nodes() for node in startingNodes]) and any(\n",
    "        [node in G.nodes() for node in endingNodes]\n",
    "    ):\n",
    "        strandShort, metricVal = shortestStrandDistance(\n",
    "            G, startingNodes, endingNodes, metric=metric\n",
    "        )\n",
    "        timeStrandMetric.append((t, strandShort, metricVal))\n",
    "    else:\n",
    "        timeStrandMetric.append((t, \"\", np.nan))\n",
    "\n",
    "df = pd.DataFrame(timeStrandMetric, columns=[\"time\", \"strand\", metric])\n",
    "df[\"num hops\"] = df[\"strand\"].apply(lambda x: len(x) - 2)\n",
    "df.loc[df[\"num hops\"] < 0, \"num hops\"] = np.nan\n",
    "df[metric] = df[metric].astype(float)\n",
    "if setsOfMinNodesToRemoveAny:\n",
    "    numSets = [len(sets) for sets in setsOfMinNodesToRemoveAll]\n",
    "    lengthOfSet = [\n",
    "        len(sets[0]) if len(sets) > 0 else 0 for sets in setsOfMinNodesToRemoveAll\n",
    "    ]\n",
    "    df[\"min nodes to lose access to all\"] = lengthOfSet\n",
    "    df[\"num of sets to lose access to all\"] = numSets\n",
    "if setsOfMinNodesToRemoveAny:\n",
    "    numSets = [len(sets) for sets in setsOfMinNodesToRemoveAny]\n",
    "    lengthOfSet = [\n",
    "        len(sets[0]) if len(sets) > 0 else 0 for sets in setsOfMinNodesToRemoveAny\n",
    "    ]\n",
    "    df[\"min nodes to lose access to any\"] = lengthOfSet\n",
    "    df[\"num of sets to lose access to any\"] = numSets\n",
    "print(time.time() - t1)\n",
    "df"
   ]
  },
  {
   "cell_type": "code",
   "execution_count": null,
   "metadata": {},
   "outputs": [],
   "source": [
    "# Plot metric over time\n",
    "df.plot.line(x=\"time\", y=metric);"
   ]
  },
  {
   "cell_type": "code",
   "execution_count": null,
   "metadata": {},
   "outputs": [],
   "source": [
    "# Plot metric over time\n",
    "df.plot.line(x=\"time\", y=\"num hops\")"
   ]
  },
  {
   "cell_type": "code",
   "execution_count": null,
   "metadata": {},
   "outputs": [],
   "source": [
    "# Create intervals for the strands and add to STK\n",
    "dfIntervals = createDfIntervals(df, stop, step)\n",
    "addStrandsAsObjectLines(stkRoot, dfIntervals, color=\"yellow\")"
   ]
  },
  {
   "cell_type": "code",
   "execution_count": null,
   "metadata": {},
   "outputs": [],
   "source": [
    "# Add data back into STK\n",
    "t1 = time.time()\n",
    "addDataToSTK(stkRoot, chainNames[0], df)\n",
    "print(time.time() - t1)"
   ]
  },
  {
   "cell_type": "markdown",
   "metadata": {},
   "source": [
    "## Example Scenario and Statistics"
   ]
  },
  {
   "cell_type": "code",
   "execution_count": null,
   "metadata": {},
   "outputs": [],
   "source": [
    "# Most active nodes\n",
    "strands = dfIntervals[[\"strand\", \"start\", \"stop\"]].values\n",
    "dfNodesIntervals = getNodesIntervalsFromStrands(strands)\n",
    "dfNodeActive = getActiveDuration(dfNodesIntervals, start, stop)\n",
    "dfNodeActive.sort_values(\"sum dur\", ascending=False).head(10)"
   ]
  },
  {
   "cell_type": "code",
   "execution_count": null,
   "metadata": {},
   "outputs": [],
   "source": [
    "# Summary stats for dur for each interval gap\n",
    "dfIntervals[dfIntervals[\"strand\"] == \"\"].describe()[\"dur\"]"
   ]
  },
  {
   "cell_type": "code",
   "execution_count": null,
   "metadata": {},
   "outputs": [],
   "source": [
    "# Look at a strand\n",
    "t = 0\n",
    "list(df.loc[df[\"time\"] == t][\"strand\"])"
   ]
  },
  {
   "cell_type": "markdown",
   "metadata": {},
   "source": [
    "## Add constraint"
   ]
  },
  {
   "cell_type": "code",
   "execution_count": null,
   "metadata": {},
   "outputs": [],
   "source": [
    "# # Add a constraint and then recompute\n",
    "# receiverPaths = FilterObjectsByType(stkRoot,'Receiver')\n",
    "# for receiverPath in receiverPaths:\n",
    "#     receiver = stkRoot.GetObjectFromPath(receiverPath)\n",
    "#     try:\n",
    "#         cnConstraint = receiver.AccessConstraints.AddNamedConstraint('C/N')\n",
    "#     except:\n",
    "#         cnConstraint = receiver.AccessConstraints.GetActiveNamedConstraint('C/N')\n",
    "#     cnConstraint = cnConstraint.QueryInterface(STKObjects.IAgAccessCnstrMinMax)\n",
    "#     cnConstraint.EnableMin = True\n",
    "#     cnConstraint.Min = 1"
   ]
  }
 ],
 "metadata": {
  "kernelspec": {
   "display_name": "Python 3.9.7 ('stk_base')",
   "language": "python",
   "name": "python3"
  },
  "language_info": {
   "codemirror_mode": {
    "name": "ipython",
    "version": 3
   },
   "file_extension": ".py",
   "mimetype": "text/x-python",
   "name": "python",
   "nbconvert_exporter": "python",
   "pygments_lexer": "ipython3",
   "version": "3.9.7"
  },
  "vscode": {
   "interpreter": {
    "hash": "5cb441020e571a65803237b004b22d2a38d282ee91ce6ff2275baf784e1fd724"
   }
  }
 },
 "nbformat": 4,
 "nbformat_minor": 2
}
