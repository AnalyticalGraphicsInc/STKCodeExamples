{
 "cells": [
  {
   "cell_type": "markdown",
   "metadata": {},
   "source": [
    "# Constellation and Chain Analysis: MultiConstellation Multihop MultiPath\n",
    "\n",
    "<img src=\"MultipleConstellations.jpg\" alt=\"Drawing\" style=\"width: 500px;\"/>\n",
    "\n",
    "**Terminology**\n",
    "* Node = Object in STK\n",
    "* Edge = Access between two objects in STK\n",
    "* Strand = The sequence of nodes and edges to complete access in a chain\n",
    "\n",
    "**This notebook shows how to:**\n",
    "* Find the shortest path between a starting and ending constellation, with many potential intermediate constellations.\n",
    "* A chain will be built between each sequential pair in the constellationOrder list. Then networkx will be used build the network with the nodes coming from the constellations and the connections between the nodes coming from the chain accesses. Multiple sublists can be passed into constellationOrderList.\n",
    "* Typical STK constraints such as range, link duration, Eb/No, etc are taken into account\n",
    "* Data in the df variable can be pushed back into STK as a user supplied variable, a strand can be shown using object lines, and active objects over the analysis time period or at a time instance can be turned on.\n",
    "\n",
    "**To reduce the runtime on subsequent runs, this scripts saves various computations to binary files and are reused for subsequent runs.** \n",
    "* The strands from the chains will be saved in the SavedNodes folder\n",
    "* the nodes and associated time delays will be saved in the SavedNodes folder\n",
    "* the node positions over time are saved in the SavedPositions folder\n",
    "* the accesses between nodes over time are saved in the SavedEdges folder. \n",
    "* These folders will be created as subfolders of the directory used to run the script.\n",
    "* During the first run the files will automatically be built and saved, subsequent runs will reload these files.\n",
    "* To make changes simply delete the associated .pkl file for any changed strands, nodes, etc. and the script will recompute the data as needed. Or force all of the data to be overridden by setting the override options to be True."
   ]
  },
  {
   "cell_type": "code",
   "execution_count": null,
   "metadata": {},
   "outputs": [],
   "source": [
    "import numpy as np\n",
    "import pandas as pd\n",
    "\n",
    "pd.set_option(\"max_colwidth\", 120)\n",
    "from agi.stk12.stkdesktop import STKDesktop\n",
    "from agi.stk12.utilities.colors import Colors\n",
    "from agi.stk12.stkobjects import *\n",
    "from agi.stk12.stkutil import *\n",
    "from agi.stk12.vgt import *\n",
    "import seaborn as sns\n",
    "import matplotlib.pyplot as plt\n",
    "from matplotlib import cm\n",
    "from chainPathLib2 import *\n",
    "import time\n",
    "import networkx as nx\n",
    "\n",
    "folders = [\n",
    "    \"SavedNodes\",\n",
    "    \"SavedPositions\",\n",
    "    \"SavedStrands\",\n",
    "    \"SavedEdges\",\n",
    "    \"SavedNetworkData\",\n",
    "]\n",
    "for folder in folders:\n",
    "    if not os.path.exists(folder):\n",
    "        os.makedirs(folder)\n",
    "import warnings\n",
    "\n",
    "warnings.filterwarnings(\"ignore\")  # Ignore some numpy indexing warnings"
   ]
  },
  {
   "cell_type": "markdown",
   "metadata": {},
   "source": [
    "## Constellation Connection Order, Computation Time, Save Data Options\n",
    "\n",
    "Often the hardest part of network analysis is defining the constellation order. Here are some tips:\n",
    "\n",
    "* Every pair of constellations in the constellationOrderLists will create a one way flow of information (a directed edge) .i.e. [constellation1,constellation2] means constellation1 -> constellation2 but **NOT** constellation2 -> constellation1\n",
    "    \n",
    "* To allow for multiple hops between constellations the constelltionOrderLists needs to create a cycle:\n",
    "    * If you want a constellation to link to itself simply order [constellation1,constellation1]\n",
    "    * If you want to link to another constellation before linking back to the original [constellation1,constellation2,constellation1]\n",
    "    * Theoreitcally this cycle can be as big as you want. [c1,c2,....,cN,c1]\n",
    "    * The reason adding cycles of constellations works is because constellations have multiple objects, so the connections will always be to different objects in the constellation therefore you won't revisit specific nodes in the final path. If the constellation at the beginning of the cycle has only 1 object the cycle will be ignored\n",
    "    * <img src=\"CycleIllustration.jpg\" alt=\"Drawing\" style=\"width: 500px;\"/>\n",
    "* The constellationOrderLists **does NOT** require the final path to include every constellation in order, it will find the shortest path among possible connections and cut out unneccesary looping. For example, say you define consetllationOrderLists to be [[start,satConstellation,satConstellation,end]] because you want to allow for intersatellite links in satConstellation, the shortest path may just be from start->satConstellation->end without the need for intersatellitelinks, in which case the intersatellite linking will not be used.\n",
    "    * This code does not force the use of a cycle aka force intersatellite links to be used in the above example. If you want to do this you have 2 options. Use the prebuilt chains notebook (but it doesn't support multiple hops) or compute multiple shortest paths and filter out any which don't have the desired properties. In the future an improvement may be made to add additional constraints on the shortest path.\n",
    "    \n",
    "* To constrain the path for children objects (sensors, transmitters, recievers) you may need to add logical Parent \"From\" and \"To\" constraints on the constellations in STK. Think of \"From\" as the 1st position in a connection (aka transmitting) and \"To\" as the 2nd position in a connection (aka reiceving). Often you want transmitters to have a \"From\" Different Parents constraint and recievers to have a \"From\" Same Parents constraint. The constellation ordering can be set up in a way to force the paths to contain the parent object or to bypass it and only use the children objects. i.e. only use transmitters and recievers and not go to a satellite bus first. For example either of the following orderings could be valid [recievers,satellites,transmitters] (the satellites constellation would need a \"From\" Same Parent constraint) or [transmitters,receivers]."
   ]
  },
  {
   "cell_type": "code",
   "execution_count": null,
   "metadata": {},
   "outputs": [],
   "source": [
    "# The constellationOrderLists builds a directed chain for each adjacent pair in the list\n",
    "# i.e.: constellationOrderLists = [[A,B],[X,Y,Z,X]] would build chainAB,chainXY,chainYZ,chainZX\n",
    "constellationOrderLists = [\n",
    "    [\n",
    "        \"Targets\",\n",
    "        \"ObservingSatsFORs\",\n",
    "        \"ObservingSats\",\n",
    "        \"ObservingSatsTransmitters\",\n",
    "        \"ObservingSatsReceivers\",\n",
    "        \"ObservingSats\",\n",
    "        \"RelaySatsFORs\",\n",
    "        \"RelaySats\",\n",
    "        \"RelaySatsFORs\",\n",
    "        \"EndLocations\",\n",
    "    ],\n",
    "    [\"RelaySats\", \"RelaySats\"],\n",
    "]\n",
    "\n",
    "startingConstellation = \"Targets\"  # complete path starting constellation\n",
    "endingConstellation = \"EndLocations\"  # complete path ending constellation\n",
    "\n",
    "start = 0  # EpSec\n",
    "stop = 120 * 60  # EpSec\n",
    "step = 10  # sec # Time resolution of computations\n",
    "nodeDelays = {\n",
    "    \"ObservingSatsFORs\": 0.01,\n",
    "    \"ObservingSatsTransmitters\": 0.005,\n",
    "    \"ObservingSatsReceivers\": 0.005,\n",
    "    \"RelaySatsFORs\": 0.01,\n",
    "    \"RelaySats\": 0.002,\n",
    "}  # Add in time delays. Provide the constellation name in STK and the node delays\n",
    "\n",
    "stkVersion = 12\n",
    "overrideStrands = False  # Override previously computed chains\n",
    "overrideNodeDelaysByNode = False  # Override previously built node delay dictionaries\n",
    "overrideNodesTimesPos = False  # Override previously built node positions"
   ]
  },
  {
   "cell_type": "code",
   "execution_count": null,
   "metadata": {},
   "outputs": [],
   "source": [
    "# Connect to STK\n",
    "stkApp = STKDesktop.AttachToApplication()\n",
    "stkRoot = stkApp.Root\n",
    "stkRoot.Isolate()\n",
    "stkRoot.UnitPreferences.SetCurrentUnit(\n",
    "    \"DateFormat\", \"EpSec\"\n",
    ")  # Units to EpSec for ease of use\n",
    "stkRoot.ExecuteCommand('Units_SetConnect / Date \"EpochSeconds\"')\n",
    "try:\n",
    "    stkRoot.ExecuteCommand(\"VO * ObjectLine DeleteAll\")\n",
    "    # Clean up old object lines\n",
    "except:\n",
    "    pass\n",
    "\n",
    "# Build chains and create a dict of time delays for each node\n",
    "t1 = time.time()\n",
    "chainNames = createDirectedChains(\n",
    "    stkRoot,\n",
    "    constellationOrderLists,\n",
    "    start=start,\n",
    "    stop=stop,\n",
    "    color=Colors.FromRGB(0, 196, 196),\n",
    ")\n",
    "print(time.time() - t1)\n",
    "t1 = time.time()\n",
    "nodeDelaysByNode = getNodeDelaysByNode(\n",
    "    stkRoot, nodeDelays, chainNames=chainNames, overrideData=overrideNodeDelaysByNode\n",
    ")\n",
    "print(time.time() - t1)\n",
    "\n",
    "startingNodes = getNodesFromConstellation(stkRoot, startingConstellation)\n",
    "endingNodes = getNodesFromConstellation(stkRoot, endingConstellation)"
   ]
  },
  {
   "cell_type": "markdown",
   "metadata": {},
   "source": [
    "## Compute Strands, Strands at Each Time, Node Positions, Edges, Distances, Time Delays\n",
    "\n",
    "Only need to run this section once unless you change the section above, i.e. the objects in the constellations,the constellation ordering, the start, stop and step times, nodeDelays\n"
   ]
  },
  {
   "cell_type": "code",
   "execution_count": null,
   "metadata": {},
   "outputs": [],
   "source": [
    "# Compute strands, (this is actually a list of all intervals for each edge)\n",
    "t1 = time.time()\n",
    "# strands,dfStrands = getAllStrands(stkRoot,chainNames,start,stop,overrideData=overrideStrands)\n",
    "strands = getAllStrands(stkRoot, chainNames, start, stop, overrideData=overrideStrands)[\n",
    "    0\n",
    "]  # if memory or performance is an issue don't output dfStrands\n",
    "print(time.time() - t1)\n",
    "# dfStrands"
   ]
  },
  {
   "cell_type": "code",
   "execution_count": null,
   "metadata": {},
   "outputs": [],
   "source": [
    "# Compute node positions, distances and time delays\n",
    "\n",
    "t1 = time.time()\n",
    "strandsAtTimes = getStrandsAtTimes(\n",
    "    strands, start, stop, step\n",
    ")  # Discretize strand intervals into times\n",
    "t2 = time.time()\n",
    "print(t2 - t1)\n",
    "\n",
    "t1 = time.time()\n",
    "nodesTimesPos = computeNodesPosOverTime(\n",
    "    stkRoot, strands, start, stop, step, overrideData=overrideNodesTimesPos\n",
    ")  # Pull node position over time\n",
    "t2 = time.time()\n",
    "print(t2 - t1)\n",
    "\n",
    "# Check if data needed for strandsAtTimes is missing, force a recomputed if needed\n",
    "t1 = time.time()\n",
    "strands, nodesTimesPos, strandsAtTimes = recomputeMissingData(\n",
    "    stkRoot,\n",
    "    strands,\n",
    "    start,\n",
    "    stop,\n",
    "    step,\n",
    "    chainNames,\n",
    "    nodesTimesPos,\n",
    "    strandsAtTimes,\n",
    "    recomputeIfDataIsMissing=True,\n",
    ")\n",
    "t2 = time.time()\n",
    "print(t2 - t1)\n",
    "\n",
    "t1 = time.time()\n",
    "timeNodePos = computeTimeNodePos(\n",
    "    strandsAtTimes, nodesTimesPos\n",
    ")  # Nodes and positions at each time\n",
    "t2 = time.time()\n",
    "print(t2 - t1)\n",
    "\n",
    "t1 = time.time()\n",
    "timesEdgesDistancesDelays = computeTimeEdgesDistancesDelays(\n",
    "    strandsAtTimes, nodesTimesPos, nodeDelaysByNode, overrideData=True\n",
    ")  # Edges, distances and delays at each time\n",
    "t2 = time.time()\n",
    "print(t2 - t1)"
   ]
  },
  {
   "cell_type": "markdown",
   "metadata": {},
   "source": [
    "## Use NX for Network Metrics and Reliability Analysis\n",
    "\n",
    "This notebook breaks the starting and ending nodes into unique pairs and finds the shortest path between each pair. It also supports finding the TopN best paths for each unique pair.\n",
    "\n",
    "You can change the filename to save different runs"
   ]
  },
  {
   "cell_type": "code",
   "execution_count": null,
   "metadata": {},
   "outputs": [],
   "source": [
    "# Get pairs of each starting and ending node permutation in the constellations\n",
    "nodePairs = [\n",
    "    (start, end) for start, end in itertools.product(startingNodes, endingNodes)\n",
    "]  # full permutation\n",
    "pd.DataFrame(nodePairs, columns=[\"start\", \"end\"])"
   ]
  },
  {
   "cell_type": "code",
   "execution_count": null,
   "metadata": {},
   "outputs": [],
   "source": [
    "# Loop through each node pair and compute network metrics\n",
    "# Edit computeNetworkMetrics in chainPathLibCustom to for additional metrics\n",
    "overrideNetwork = False\n",
    "metric = \"distance\"  # 'distance' or 'timeDelay'\n",
    "filename = \"\"  # a file for each nodepair will created and the names of the node be appended to filename, leave empty if desired\n",
    "\n",
    "for nodePair in nodePairs:\n",
    "    df = computeNetworkMetrics(\n",
    "        start,\n",
    "        stop,\n",
    "        step,\n",
    "        timeNodePos,\n",
    "        timesEdgesDistancesDelays,\n",
    "        [nodePair[0]],\n",
    "        [nodePair[1]],\n",
    "        metric,\n",
    "        computeNumNodesToLoseAccessBetweenAnyPair=False,\n",
    "        overrideData=overrideNetwork,\n",
    "        printTime=True,\n",
    "        diNetwork=True,\n",
    "        filename=filename,\n",
    "    )"
   ]
  },
  {
   "cell_type": "code",
   "execution_count": null,
   "metadata": {
    "scrolled": true
   },
   "outputs": [],
   "source": [
    "df"
   ]
  },
  {
   "cell_type": "markdown",
   "metadata": {},
   "source": [
    "##  Investigate Routing between Specific Nodes"
   ]
  },
  {
   "cell_type": "code",
   "execution_count": null,
   "metadata": {},
   "outputs": [],
   "source": [
    "# Pick a starting and ending node\n",
    "startingNode = \"Target/Target7\"\n",
    "endingNode = \"Place/Washington_DC\""
   ]
  },
  {
   "cell_type": "code",
   "execution_count": null,
   "metadata": {},
   "outputs": [],
   "source": [
    "# Load df\n",
    "filenameToLoad = \"SavedNetworkData/df{}{}{}.pkl\".format(\n",
    "    filename, startingNode.split(\"/\")[-1], endingNode.split(\"/\")[-1]\n",
    ")\n",
    "with open(filenameToLoad, \"rb\") as f:\n",
    "    df = pickle.load(f)\n",
    "df = addLightAndNodeDelays(df, timesEdgesDistancesDelays)\n",
    "dfIntervals = createDfIntervals(df, stop, step)\n",
    "addStrandsAsObjectLines(stkRoot, dfIntervals, color=\"yellow\")"
   ]
  },
  {
   "cell_type": "code",
   "execution_count": null,
   "metadata": {},
   "outputs": [],
   "source": [
    "# Add data back into STK for reporting and plotting\n",
    "t1 = time.time()\n",
    "df[\"distance\"] = df[\"distance\"] * 1000  # May need to fix meter/kilometer issue\n",
    "addDataToSTK(\n",
    "    stkRoot, chainNames[0], df\n",
    ")  # Adds data in df back into STK to the first chain under User Supplied data\n",
    "print(time.time() - t1)\n",
    "df"
   ]
  },
  {
   "cell_type": "code",
   "execution_count": null,
   "metadata": {},
   "outputs": [],
   "source": [
    "dfIntervals[\"strand\"][0]"
   ]
  },
  {
   "cell_type": "code",
   "execution_count": null,
   "metadata": {},
   "outputs": [],
   "source": [
    "# Active objects in the network over time\n",
    "objPaths = list(set((item for sublist in df[\"strand\"] for item in sublist)))"
   ]
  },
  {
   "cell_type": "code",
   "execution_count": null,
   "metadata": {},
   "outputs": [],
   "source": [
    "# Turn on the objects in the scenario\n",
    "turnGraphicsOnOff(stkRoot, objPaths, onOrOff=\"On\", parentsOnly=True)"
   ]
  },
  {
   "cell_type": "code",
   "execution_count": null,
   "metadata": {},
   "outputs": [],
   "source": [
    "# Turn off the objects in the sceario\n",
    "turnGraphicsOnOff(stkRoot, objPaths, onOrOff=\"Off\", parentsOnly=True)"
   ]
  },
  {
   "cell_type": "markdown",
   "metadata": {},
   "source": [
    "## Investigate Instances in Time"
   ]
  },
  {
   "cell_type": "code",
   "execution_count": null,
   "metadata": {},
   "outputs": [],
   "source": [
    "# Look at an instance in time (pick a time in df)\n",
    "t = 0\n",
    "stkRoot.CurrentTime = t"
   ]
  },
  {
   "cell_type": "code",
   "execution_count": null,
   "metadata": {},
   "outputs": [],
   "source": [
    "# Look at strand order and the node delay\n",
    "objPaths = df[\"strand\"][t / step]\n",
    "nodeDelaysByStrand = {node: nodeDelaysByNode[node] for node in objPaths}\n",
    "pd.DataFrame([*nodeDelaysByStrand.items()], columns=[\"node\", \"nodeDelay\"])"
   ]
  },
  {
   "cell_type": "code",
   "execution_count": null,
   "metadata": {},
   "outputs": [],
   "source": [
    "# look at possible connections for the object of interest at that time\n",
    "nodeInterest = objPaths[0]\n",
    "possibleNodeConnections(t, nodeInterest, timesEdgesDistancesDelays)"
   ]
  },
  {
   "cell_type": "code",
   "execution_count": null,
   "metadata": {},
   "outputs": [],
   "source": [
    "# Turn on the objects in the scenario\n",
    "turnGraphicsOnOff(stkRoot, objPaths, onOrOff=\"On\", parentsOnly=False)"
   ]
  },
  {
   "cell_type": "code",
   "execution_count": null,
   "metadata": {},
   "outputs": [],
   "source": [
    "# Turn off the objects in the sceario\n",
    "turnGraphicsOnOff(stkRoot, objPaths, onOrOff=\"Off\", parentsOnly=False)"
   ]
  },
  {
   "cell_type": "markdown",
   "metadata": {},
   "source": [
    "## Investigate Node Utilization"
   ]
  },
  {
   "cell_type": "code",
   "execution_count": null,
   "metadata": {},
   "outputs": [],
   "source": [
    "# Most frequnt node in the shortest path and the sum of their durations\n",
    "strands = dfIntervals[[\"strand\", \"start\", \"stop\"]].values\n",
    "dfNodesIntervals = getNodesIntervalsFromStrands(strands)\n",
    "dfNodeActive = getActiveDuration(dfNodesIntervals, start, stop)\n",
    "dfNodeActive.sort_values(\"sum dur\", ascending=False).head(10)"
   ]
  },
  {
   "cell_type": "markdown",
   "metadata": {},
   "source": [
    "## Compute the Top N Paths for Multiple Node Pairs"
   ]
  },
  {
   "cell_type": "code",
   "execution_count": null,
   "metadata": {},
   "outputs": [],
   "source": [
    "# Loop through each node pair and compute network metrics for top N strands, assumes only 1 starting and ending node for each network\n",
    "# The strands will all be unique, but large portions of the strand may be reused unless the nodes are edges are removed\n",
    "topN = 5\n",
    "removeUsedNodes = False  # Remove any nodes in previous shortest paths\n",
    "removeUsedEdges = False  # Remove any edge in previous shortest paths\n",
    "for nodePair in nodePairs:\n",
    "    startingNode = nodePair[0]\n",
    "    endingNode = nodePair[1]\n",
    "    dfTopN = computeNetworkTopN(\n",
    "        start,\n",
    "        stop,\n",
    "        step,\n",
    "        timeNodePos,\n",
    "        timesEdgesDistancesDelays,\n",
    "        startingNode,\n",
    "        endingNode,\n",
    "        metric,\n",
    "        topN=topN,\n",
    "        overrideData=overrideNetwork,\n",
    "        printTime=True,\n",
    "        removeUsedNodes=removeUsedNodes,\n",
    "        removeUsedEdges=removeUsedEdges,\n",
    "        filename=filename,\n",
    "    )"
   ]
  },
  {
   "cell_type": "markdown",
   "metadata": {},
   "source": [
    "## Load And Merge Multiple Networks"
   ]
  },
  {
   "cell_type": "code",
   "execution_count": null,
   "metadata": {},
   "outputs": [],
   "source": [
    "nodePairsToLoad = [\n",
    "    (\"Target/Target1\", \"Place/Los_Angeles_CA\"),\n",
    "    (\"Target/Target1\", \"Place/Washington_DC\"),\n",
    "    (\"Target/Target2\", \"Place/Los_Angeles_CA\"),\n",
    "    (\"Target/Target2\", \"Place/Washington_DC\"),\n",
    "]  # Can specifically give pairs of interest\n",
    "nodePairsToLoad = nodePairs  # Use all of the nodePairs\n",
    "pd.DataFrame(nodePairsToLoad, columns=[\"node1\", \"node2\"])"
   ]
  },
  {
   "cell_type": "code",
   "execution_count": null,
   "metadata": {},
   "outputs": [],
   "source": [
    "# Only load needed times\n",
    "neededTimes = np.array(list(timesEdgesDistancesDelays.keys()))\n",
    "\n",
    "# # Load multiple networks into one using TopN\n",
    "# df = loadNetworkDfTopN(nodePairsToLoad,topN,neededTimes=neededTimes)\n",
    "# df = addLightAndNodeDelays(df,timesEdgesDistancesDelays)\n",
    "# df\n",
    "\n",
    "# Load multiple networks into one\n",
    "df = loadNetworkDf(nodePairsToLoad, neededTimes=neededTimes)\n",
    "df = addLightAndNodeDelays(df, timesEdgesDistancesDelays)\n",
    "df"
   ]
  },
  {
   "cell_type": "code",
   "execution_count": null,
   "metadata": {},
   "outputs": [],
   "source": [
    "# Load the paths into STK, pick from a color map or specify a specifc color\n",
    "\n",
    "# Create intervals for each edge and count the number of times the edge is active\n",
    "# Optionally specify an edge weight which will be multipled by its frequency at each time step\n",
    "timesEdgeCountAll = createTimesEdgesCountFromDF(df)\n",
    "\n",
    "# # Consider binning the counts to prevent a ton of unique colors, which can noteably speed up the time it takes to add data to STK\n",
    "# # Look at the pd.cut documentation for specifying specific bin edges\n",
    "# numBins = 5\n",
    "# bins = pd.cut(timesEdgeCountAll[:,2],numBins,labels=False)\n",
    "# timesEdgeCountAll[:,2] = np.round(bins*(max(timesEdgeCountAll[:,2])-min(timesEdgeCountAll[:,2]))/numBins+min(timesEdgeCountAll[:,2]),6)\n",
    "\n",
    "t1 = time.time()\n",
    "# Color Maps here: https://matplotlib.org/stable/tutorials/colors/colormaps.html\n",
    "# Good options: diverging and sequential color maps such as: cool,coolwarm,Wistia\n",
    "cmap = cm.get_cmap(\n",
    "    \"coolwarm\"\n",
    ")  # pick a matplotlib color map or don't pass in a colorMap to just use a color\n",
    "addTimesEdgesCountAsObjectLines(\n",
    "    stkRoot,\n",
    "    timesEdgeCountAll,\n",
    "    step,\n",
    "    addTo2D=False,\n",
    "    color=\"%000196196\",\n",
    "    colorMap=cmap,\n",
    "    lineWidth=7,\n",
    ")\n",
    "print(time.time() - t1)\n",
    "\n",
    "if cmap:\n",
    "    plotColorbar(timesEdgeCountAll, cmap, plotBoth=True, tickRotationInDeg=65)"
   ]
  },
  {
   "cell_type": "code",
   "execution_count": null,
   "metadata": {},
   "outputs": [],
   "source": []
  }
 ],
 "metadata": {
  "kernelspec": {
   "display_name": "Python 3.9.7 ('stk_base')",
   "language": "python",
   "name": "python3"
  },
  "language_info": {
   "codemirror_mode": {
    "name": "ipython",
    "version": 3
   },
   "file_extension": ".py",
   "mimetype": "text/x-python",
   "name": "python",
   "nbconvert_exporter": "python",
   "pygments_lexer": "ipython3",
   "version": "3.9.7"
  },
  "varInspector": {
   "cols": {
    "lenName": 16,
    "lenType": 16,
    "lenVar": 40
   },
   "kernels_config": {
    "python": {
     "delete_cmd_postfix": "",
     "delete_cmd_prefix": "del ",
     "library": "var_list.py",
     "varRefreshCmd": "print(var_dic_list())"
    },
    "r": {
     "delete_cmd_postfix": ") ",
     "delete_cmd_prefix": "rm(",
     "library": "var_list.r",
     "varRefreshCmd": "cat(var_dic_list()) "
    }
   },
   "position": {
    "height": "1121.48px",
    "left": "1815.99px",
    "right": "20px",
    "top": "91.9961px",
    "width": "555.488px"
   },
   "types_to_exclude": [
    "module",
    "function",
    "builtin_function_or_method",
    "instance",
    "_Feature"
   ],
   "window_display": false
  },
  "vscode": {
   "interpreter": {
    "hash": "5cb441020e571a65803237b004b22d2a38d282ee91ce6ff2275baf784e1fd724"
   }
  }
 },
 "nbformat": 4,
 "nbformat_minor": 2
}
