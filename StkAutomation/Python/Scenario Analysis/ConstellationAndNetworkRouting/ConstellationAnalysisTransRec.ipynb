{
 "cells": [
  {
   "cell_type": "markdown",
   "metadata": {},
   "source": [
    "# Constellation and Chain Analysis: Transmitters and Receivers Example\n",
    "\n",
    "<img src=\"TransmitterAndReceiver.jpg\" alt=\"Drawing\" style=\"width: 800px;\"/>\n",
    "\n",
    "**Terminology**\n",
    "* Node = Object in STK\n",
    "* Edge = Access between two objects in STK\n",
    "* Strand = The sequence of nodes and edges to complete access in a chain\n",
    "\n",
    "**This notebook shows how to:**\n",
    "* Find the least latency path between a starting constellation and ending constellation through a network of receivers and transmitters. The connecting constellations in the scenario can have logical constraints so they can only transmit to receivers on other satellites\n",
    "* Typical STK constraints such as range, link duration, Eb/No, etc can be taken into account\n",
    "*  Compute summary statistics for time delay and number of hops\n",
    "* Load the shortest path data back into STK\n",
    "\n"
   ]
  },
  {
   "cell_type": "code",
   "execution_count": 1,
   "metadata": {},
   "outputs": [],
   "source": [
    "import numpy as np\n",
    "import pandas as pd\n",
    "pd.set_option('max_colwidth', 70)\n",
    "from comtypes.client import CreateObject\n",
    "from comtypes.client import GetActiveObject\n",
    "from comtypes.gen import STKObjects\n",
    "from comtypes.gen import STKUtil\n",
    "from comtypes.gen import AgSTKVgtLib\n",
    "import seaborn as sns\n",
    "import matplotlib.pyplot as plt\n",
    "from chainPathLib import *\n",
    "import time\n",
    "import networkx as nx"
   ]
  },
  {
   "cell_type": "markdown",
   "metadata": {},
   "source": [
    "## Constellation Names, Computation Time, and Processing Delays"
   ]
  },
  {
   "cell_type": "code",
   "execution_count": 2,
   "metadata": {},
   "outputs": [],
   "source": [
    "# Inputs for Chain Analysis\n",
    "startingConstellation = 'Targets' # Will be used as the start of the chain\n",
    "firstConnectingConstellation = 'SatRec' # Will be used to connect the the starting and ending constellation  \n",
    "secondConnectingConstellation = 'SatTrans' # Will be used to connect the the starting and ending constellation  \n",
    "endingConstellation = 'GroundStations' # Will be used as the end of the chain\n",
    "\n",
    "start = 0 # EpSec\n",
    "stop = 3600*1 # EpSec\n",
    "metric = 'timeDelay' # 'distance','timeDelay' # could optionally add: min hops+secondary metric, fewest hand off etc\n",
    "nodeDelays = {'SatRec':0.005,'SatTrans':0.005} # Add in time delays. Provide the constellation name in STK and the node delays\n",
    "stkVersion = 12"
   ]
  },
  {
   "cell_type": "code",
   "execution_count": 3,
   "metadata": {},
   "outputs": [],
   "source": [
    "# Connect to STK\n",
    "stkApp = GetActiveObject('STK{}.Application'.format(stkVersion))\n",
    "stkRoot = stkApp.Personality2\n",
    "stkRoot.UnitPreferences.SetCurrentUnit('DateFormat','EpSec')\n",
    "stkRoot.ExecuteCommand('Units_SetConnect / Date \"EpochSeconds\"');\n",
    "stkRoot.ExecuteCommand('VO * ObjectLine DeleteAll');"
   ]
  },
  {
   "cell_type": "code",
   "execution_count": 4,
   "metadata": {},
   "outputs": [],
   "source": [
    "# # Example of how to adjust all transmitters power\n",
    "# transmitterPaths = FilterObjectsByType(stkRoot,'Transmitter')\n",
    "# for transmitterPath in transmitterPaths:\n",
    "#     transmitter = stkRoot.GetObjectFromPath(transmitterPath)\n",
    "#     transmitter2 = transmitter.QueryInterface(STKObjects.IAgTransmitter)\n",
    "#     transmitterModel = transmitter2.Model.QueryInterface(STKObjects.IAgTransmitterModelSimple)\n",
    "#     transmitterModel.Eirp = 16.9"
   ]
  },
  {
   "cell_type": "code",
   "execution_count": 5,
   "metadata": {},
   "outputs": [],
   "source": [
    "# Build chains and add node processing delays\n",
    "if not secondConnectingConstellation:\n",
    "    chainNames = createChains(stkRoot,startingConstellation,firstConnectingConstellation,endingConstellation)\n",
    "else:\n",
    "    chainNames = createChains(stkRoot,startingConstellation,firstConnectingConstellation,endingConstellation,secondConnectingConstellation=secondConnectingConstellation)\n",
    "nodeDelaysByNode = getNodeDelaysByNode(stkRoot,nodeDelays,chainNames=chainNames)"
   ]
  },
  {
   "cell_type": "markdown",
   "metadata": {},
   "source": [
    "## Compute  Strands and Distances"
   ]
  },
  {
   "cell_type": "code",
   "execution_count": 6,
   "metadata": {},
   "outputs": [
    {
     "name": "stdout",
     "output_type": "stream",
     "text": [
      "25.53555703163147\n"
     ]
    },
    {
     "data": {
      "text/html": [
       "<div>\n",
       "<style scoped>\n",
       "    .dataframe tbody tr th:only-of-type {\n",
       "        vertical-align: middle;\n",
       "    }\n",
       "\n",
       "    .dataframe tbody tr th {\n",
       "        vertical-align: top;\n",
       "    }\n",
       "\n",
       "    .dataframe thead th {\n",
       "        text-align: right;\n",
       "    }\n",
       "</style>\n",
       "<table border=\"1\" class=\"dataframe\">\n",
       "  <thead>\n",
       "    <tr style=\"text-align: right;\">\n",
       "      <th></th>\n",
       "      <th>strand</th>\n",
       "      <th>start</th>\n",
       "      <th>stop</th>\n",
       "      <th>dur</th>\n",
       "      <th>num hops</th>\n",
       "    </tr>\n",
       "  </thead>\n",
       "  <tbody>\n",
       "    <tr>\n",
       "      <td>380</td>\n",
       "      <td>(Satellite/LEO13/Transmitter/Transmitter5, Facility/Facility5/Rece...</td>\n",
       "      <td>0.000000</td>\n",
       "      <td>26.203969</td>\n",
       "      <td>26.203969</td>\n",
       "      <td>0.0</td>\n",
       "    </tr>\n",
       "    <tr>\n",
       "      <td>121</td>\n",
       "      <td>(Satellite/LEO21/Transmitter/Transmitter9, Satellite/LEO54/Receive...</td>\n",
       "      <td>0.000000</td>\n",
       "      <td>39.749043</td>\n",
       "      <td>39.749043</td>\n",
       "      <td>0.0</td>\n",
       "    </tr>\n",
       "    <tr>\n",
       "      <td>145</td>\n",
       "      <td>(Satellite/LEO24/Transmitter/Transmitter14, Satellite/LEO51/Receiv...</td>\n",
       "      <td>0.000000</td>\n",
       "      <td>39.749043</td>\n",
       "      <td>39.749043</td>\n",
       "      <td>0.0</td>\n",
       "    </tr>\n",
       "    <tr>\n",
       "      <td>271</td>\n",
       "      <td>(Satellite/LEO51/Transmitter/Transmitter29, Satellite/LEO24/Receiv...</td>\n",
       "      <td>0.000000</td>\n",
       "      <td>39.759454</td>\n",
       "      <td>39.759454</td>\n",
       "      <td>0.0</td>\n",
       "    </tr>\n",
       "    <tr>\n",
       "      <td>297</td>\n",
       "      <td>(Satellite/LEO54/Transmitter/Transmitter32, Satellite/LEO21/Receiv...</td>\n",
       "      <td>0.000000</td>\n",
       "      <td>39.759454</td>\n",
       "      <td>39.759454</td>\n",
       "      <td>0.0</td>\n",
       "    </tr>\n",
       "    <tr>\n",
       "      <td>...</td>\n",
       "      <td>...</td>\n",
       "      <td>...</td>\n",
       "      <td>...</td>\n",
       "      <td>...</td>\n",
       "      <td>...</td>\n",
       "    </tr>\n",
       "    <tr>\n",
       "      <td>406</td>\n",
       "      <td>(Satellite/LEO65/Transmitter/Transmitter39, Facility/Facility5/Rec...</td>\n",
       "      <td>3508.477478</td>\n",
       "      <td>3557.914630</td>\n",
       "      <td>49.437153</td>\n",
       "      <td>0.0</td>\n",
       "    </tr>\n",
       "    <tr>\n",
       "      <td>85</td>\n",
       "      <td>(Satellite/LEO13/Transmitter/Transmitter5, Satellite/LEO45/Receive...</td>\n",
       "      <td>3582.124408</td>\n",
       "      <td>3600.000000</td>\n",
       "      <td>17.875592</td>\n",
       "      <td>0.0</td>\n",
       "    </tr>\n",
       "    <tr>\n",
       "      <td>111</td>\n",
       "      <td>(Satellite/LEO16/Transmitter/Transmitter8, Satellite/LEO42/Receive...</td>\n",
       "      <td>3582.124408</td>\n",
       "      <td>3600.000000</td>\n",
       "      <td>17.875592</td>\n",
       "      <td>0.0</td>\n",
       "    </tr>\n",
       "    <tr>\n",
       "      <td>228</td>\n",
       "      <td>(Satellite/LEO42/Transmitter/Transmitter24, Satellite/LEO16/Receiv...</td>\n",
       "      <td>3582.134817</td>\n",
       "      <td>3600.000000</td>\n",
       "      <td>17.865183</td>\n",
       "      <td>0.0</td>\n",
       "    </tr>\n",
       "    <tr>\n",
       "      <td>254</td>\n",
       "      <td>(Satellite/LEO45/Transmitter/Transmitter27, Satellite/LEO13/Receiv...</td>\n",
       "      <td>3582.134817</td>\n",
       "      <td>3600.000000</td>\n",
       "      <td>17.865183</td>\n",
       "      <td>0.0</td>\n",
       "    </tr>\n",
       "  </tbody>\n",
       "</table>\n",
       "<p>408 rows × 5 columns</p>\n",
       "</div>"
      ],
      "text/plain": [
       "                                                                    strand  \\\n",
       "380  (Satellite/LEO13/Transmitter/Transmitter5, Facility/Facility5/Rece...   \n",
       "121  (Satellite/LEO21/Transmitter/Transmitter9, Satellite/LEO54/Receive...   \n",
       "145  (Satellite/LEO24/Transmitter/Transmitter14, Satellite/LEO51/Receiv...   \n",
       "271  (Satellite/LEO51/Transmitter/Transmitter29, Satellite/LEO24/Receiv...   \n",
       "297  (Satellite/LEO54/Transmitter/Transmitter32, Satellite/LEO21/Receiv...   \n",
       "..                                                                     ...   \n",
       "406  (Satellite/LEO65/Transmitter/Transmitter39, Facility/Facility5/Rec...   \n",
       "85   (Satellite/LEO13/Transmitter/Transmitter5, Satellite/LEO45/Receive...   \n",
       "111  (Satellite/LEO16/Transmitter/Transmitter8, Satellite/LEO42/Receive...   \n",
       "228  (Satellite/LEO42/Transmitter/Transmitter24, Satellite/LEO16/Receiv...   \n",
       "254  (Satellite/LEO45/Transmitter/Transmitter27, Satellite/LEO13/Receiv...   \n",
       "\n",
       "           start         stop        dur  num hops  \n",
       "380     0.000000    26.203969  26.203969       0.0  \n",
       "121     0.000000    39.749043  39.749043       0.0  \n",
       "145     0.000000    39.749043  39.749043       0.0  \n",
       "271     0.000000    39.759454  39.759454       0.0  \n",
       "297     0.000000    39.759454  39.759454       0.0  \n",
       "..           ...          ...        ...       ...  \n",
       "406  3508.477478  3557.914630  49.437153       0.0  \n",
       "85   3582.124408  3600.000000  17.875592       0.0  \n",
       "111  3582.124408  3600.000000  17.875592       0.0  \n",
       "228  3582.134817  3600.000000  17.865183       0.0  \n",
       "254  3582.134817  3600.000000  17.865183       0.0  \n",
       "\n",
       "[408 rows x 5 columns]"
      ]
     },
     "execution_count": 6,
     "metadata": {},
     "output_type": "execute_result"
    }
   ],
   "source": [
    "# Compute strands\n",
    "t1 = time.time()\n",
    "strands,dfStrands = getAllStrands(stkRoot,chainNames,start,stop)\n",
    "print(time.time()-t1)\n",
    "dfStrands"
   ]
  },
  {
   "cell_type": "code",
   "execution_count": 7,
   "metadata": {},
   "outputs": [
    {
     "name": "stdout",
     "output_type": "stream",
     "text": [
      "6.5429863929748535\n",
      "0.026993989944458008\n",
      "0.07700657844543457\n",
      "0.6397182941436768\n"
     ]
    }
   ],
   "source": [
    "# Compute node positions, distances and time delays\n",
    "\n",
    "# Time resolution of distance calculation\n",
    "step = 10 # sec\n",
    "\n",
    "t1 = time.time()\n",
    "nodesTimesPos = computeNodesPosOverTime(stkRoot,strands,start,stop,step) # Pull node position over time\n",
    "t2 = time.time()\n",
    "print(t2-t1)\n",
    "\n",
    "t1 = time.time()\n",
    "strandsAtTimes = getStrandsAtTimes(strands,start,stop,step) # Discretize strand intervals into times\n",
    "t2 = time.time()\n",
    "print(t2-t1)\n",
    "\n",
    "t1 = time.time()\n",
    "timeNodePos = computeTimeNodePos(strandsAtTimes,nodesTimesPos) # Nodes and positions at each time\n",
    "t2 = time.time()\n",
    "print(t2-t1)\n",
    "\n",
    "t1 = time.time()\n",
    "timesEdgesDistancesDelays = computeTimeEdgesDistancesDelays(strandsAtTimes,nodesTimesPos,nodeDelaysByNode)  # Edges, distances and delays at each time\n",
    "t2 = time.time()\n",
    "print(t2-t1)"
   ]
  },
  {
   "cell_type": "markdown",
   "metadata": {},
   "source": [
    "## Use NX for Network Metrics and Reliability Analysis\n"
   ]
  },
  {
   "cell_type": "code",
   "execution_count": 8,
   "metadata": {},
   "outputs": [
    {
     "data": {
      "text/plain": [
       "(['Target/Target1/Transmitter/Transmitter1',\n",
       "  'Target/Target2/Transmitter/Transmitter10',\n",
       "  'Target/Target3/Transmitter/Transmitter2'],\n",
       " ['Facility/Facility1/Receiver/Receiver1',\n",
       "  'Facility/Facility2/Receiver/Receiver2',\n",
       "  'Facility/Facility5/Receiver/Receiver7'])"
      ]
     },
     "execution_count": 8,
     "metadata": {},
     "output_type": "execute_result"
    }
   ],
   "source": [
    "# Get starting nodes and ending nodes\n",
    "startingNodes = getNodesFromConstellation(stkRoot,startingConstellation)\n",
    "endingNodes = getNodesFromConstellation(stkRoot,endingConstellation)\n",
    "startingNodes,endingNodes"
   ]
  },
  {
   "cell_type": "code",
   "execution_count": 9,
   "metadata": {},
   "outputs": [
    {
     "name": "stdout",
     "output_type": "stream",
     "text": [
      "0.7647426128387451\n"
     ]
    },
    {
     "data": {
      "text/html": [
       "<div>\n",
       "<style scoped>\n",
       "    .dataframe tbody tr th:only-of-type {\n",
       "        vertical-align: middle;\n",
       "    }\n",
       "\n",
       "    .dataframe tbody tr th {\n",
       "        vertical-align: top;\n",
       "    }\n",
       "\n",
       "    .dataframe thead th {\n",
       "        text-align: right;\n",
       "    }\n",
       "</style>\n",
       "<table border=\"1\" class=\"dataframe\">\n",
       "  <thead>\n",
       "    <tr style=\"text-align: right;\">\n",
       "      <th></th>\n",
       "      <th>time</th>\n",
       "      <th>strand</th>\n",
       "      <th>timeDelay</th>\n",
       "      <th>num hops</th>\n",
       "    </tr>\n",
       "  </thead>\n",
       "  <tbody>\n",
       "    <tr>\n",
       "      <td>0</td>\n",
       "      <td>0</td>\n",
       "      <td>[Target/Target1/Transmitter/Transmitter1, Satellite/LEO14/Receiver...</td>\n",
       "      <td>0.086775</td>\n",
       "      <td>8.0</td>\n",
       "    </tr>\n",
       "    <tr>\n",
       "      <td>1</td>\n",
       "      <td>10</td>\n",
       "      <td>[Target/Target1/Transmitter/Transmitter1, Satellite/LEO14/Receiver...</td>\n",
       "      <td>0.086328</td>\n",
       "      <td>8.0</td>\n",
       "    </tr>\n",
       "    <tr>\n",
       "      <td>2</td>\n",
       "      <td>20</td>\n",
       "      <td>[Target/Target1/Transmitter/Transmitter1, Satellite/LEO14/Receiver...</td>\n",
       "      <td>0.085894</td>\n",
       "      <td>8.0</td>\n",
       "    </tr>\n",
       "    <tr>\n",
       "      <td>3</td>\n",
       "      <td>30</td>\n",
       "      <td>[Target/Target1/Transmitter/Transmitter1, Satellite/LEO14/Receiver...</td>\n",
       "      <td>0.085473</td>\n",
       "      <td>8.0</td>\n",
       "    </tr>\n",
       "    <tr>\n",
       "      <td>4</td>\n",
       "      <td>40</td>\n",
       "      <td>[Target/Target1/Transmitter/Transmitter1, Satellite/LEO14/Receiver...</td>\n",
       "      <td>0.085067</td>\n",
       "      <td>8.0</td>\n",
       "    </tr>\n",
       "    <tr>\n",
       "      <td>...</td>\n",
       "      <td>...</td>\n",
       "      <td>...</td>\n",
       "      <td>...</td>\n",
       "      <td>...</td>\n",
       "    </tr>\n",
       "    <tr>\n",
       "      <td>356</td>\n",
       "      <td>3560</td>\n",
       "      <td>[Target/Target3/Transmitter/Transmitter2, Satellite/LEO43/Receiver...</td>\n",
       "      <td>0.110378</td>\n",
       "      <td>10.0</td>\n",
       "    </tr>\n",
       "    <tr>\n",
       "      <td>357</td>\n",
       "      <td>3570</td>\n",
       "      <td>[Target/Target3/Transmitter/Transmitter2, Satellite/LEO43/Receiver...</td>\n",
       "      <td>0.110323</td>\n",
       "      <td>10.0</td>\n",
       "    </tr>\n",
       "    <tr>\n",
       "      <td>358</td>\n",
       "      <td>3580</td>\n",
       "      <td>[Target/Target3/Transmitter/Transmitter2, Satellite/LEO43/Receiver...</td>\n",
       "      <td>0.110307</td>\n",
       "      <td>10.0</td>\n",
       "    </tr>\n",
       "    <tr>\n",
       "      <td>359</td>\n",
       "      <td>3590</td>\n",
       "      <td>[Target/Target3/Transmitter/Transmitter2, Satellite/LEO43/Receiver...</td>\n",
       "      <td>0.110330</td>\n",
       "      <td>10.0</td>\n",
       "    </tr>\n",
       "    <tr>\n",
       "      <td>360</td>\n",
       "      <td>3600</td>\n",
       "      <td>[Target/Target3/Transmitter/Transmitter2, Satellite/LEO43/Receiver...</td>\n",
       "      <td>0.110394</td>\n",
       "      <td>10.0</td>\n",
       "    </tr>\n",
       "  </tbody>\n",
       "</table>\n",
       "<p>361 rows × 4 columns</p>\n",
       "</div>"
      ],
      "text/plain": [
       "     time  \\\n",
       "0       0   \n",
       "1      10   \n",
       "2      20   \n",
       "3      30   \n",
       "4      40   \n",
       "..    ...   \n",
       "356  3560   \n",
       "357  3570   \n",
       "358  3580   \n",
       "359  3590   \n",
       "360  3600   \n",
       "\n",
       "                                                                    strand  \\\n",
       "0    [Target/Target1/Transmitter/Transmitter1, Satellite/LEO14/Receiver...   \n",
       "1    [Target/Target1/Transmitter/Transmitter1, Satellite/LEO14/Receiver...   \n",
       "2    [Target/Target1/Transmitter/Transmitter1, Satellite/LEO14/Receiver...   \n",
       "3    [Target/Target1/Transmitter/Transmitter1, Satellite/LEO14/Receiver...   \n",
       "4    [Target/Target1/Transmitter/Transmitter1, Satellite/LEO14/Receiver...   \n",
       "..                                                                     ...   \n",
       "356  [Target/Target3/Transmitter/Transmitter2, Satellite/LEO43/Receiver...   \n",
       "357  [Target/Target3/Transmitter/Transmitter2, Satellite/LEO43/Receiver...   \n",
       "358  [Target/Target3/Transmitter/Transmitter2, Satellite/LEO43/Receiver...   \n",
       "359  [Target/Target3/Transmitter/Transmitter2, Satellite/LEO43/Receiver...   \n",
       "360  [Target/Target3/Transmitter/Transmitter2, Satellite/LEO43/Receiver...   \n",
       "\n",
       "     timeDelay  num hops  \n",
       "0     0.086775       8.0  \n",
       "1     0.086328       8.0  \n",
       "2     0.085894       8.0  \n",
       "3     0.085473       8.0  \n",
       "4     0.085067       8.0  \n",
       "..         ...       ...  \n",
       "356   0.110378      10.0  \n",
       "357   0.110323      10.0  \n",
       "358   0.110307      10.0  \n",
       "359   0.110330      10.0  \n",
       "360   0.110394      10.0  \n",
       "\n",
       "[361 rows x 4 columns]"
      ]
     },
     "execution_count": 9,
     "metadata": {},
     "output_type": "execute_result"
    }
   ],
   "source": [
    "# Build new networks at each time and gather metrics\n",
    "t1 = time.time()\n",
    "\n",
    "strandsShort = []\n",
    "distances = []\n",
    "timeStrandMetric = []\n",
    "setsOfMinNodesToRemoveAll = []\n",
    "setsOfMinNodesToRemoveAny = []\n",
    "i = 0\n",
    "for t in np.arange(start,stop+step,step):\n",
    "    # Generate Network at each time\n",
    "    if secondConnectingConstellation:\n",
    "        G = generateDiNetwork(t,timesEdgesDistancesDelays,timeNodePos) # A directed network is needed when using two connecting constellations\n",
    "    else:\n",
    "        G = generateNetwork(t,timesEdgesDistancesDelays,timeNodePos)\n",
    "    \n",
    "    # Find shortest strand distance\n",
    "    if any([node in G.nodes() for node in startingNodes]) and any([node in G.nodes() for node in endingNodes]):\n",
    "        strandShort,metricVal = shortestStrandDistance(G,startingNodes,endingNodes,metric=metric)\n",
    "        timeStrandMetric.append((t,strandShort,metricVal))\n",
    "    else:\n",
    "        timeStrandMetric.append((t,'',np.nan))\n",
    "    \n",
    "df = pd.DataFrame(timeStrandMetric,columns=['time','strand',metric])\n",
    "df['num hops'] = df['strand'].apply(lambda x: len(x)-2)\n",
    "df.loc[df['num hops'] < 0,'num hops'] = np.nan\n",
    "df[metric] = df[metric].astype(float)\n",
    "if setsOfMinNodesToRemoveAny:\n",
    "    numSets = [len(sets) for sets in setsOfMinNodesToRemoveAll]\n",
    "    lengthOfSet = [len(sets[0]) if len(sets) > 0 else 0 for sets in setsOfMinNodesToRemoveAll]\n",
    "    df['min nodes to lose access to all'] = lengthOfSet\n",
    "    df['num of sets to lose access to all'] = numSets\n",
    "if setsOfMinNodesToRemoveAny:\n",
    "    numSets = [len(sets) for sets in setsOfMinNodesToRemoveAny]\n",
    "    lengthOfSet = [len(sets[0]) if len(sets) > 0 else 0 for sets in setsOfMinNodesToRemoveAny]\n",
    "    df['min nodes to lose access to any'] = lengthOfSet\n",
    "    df['num of sets to lose access to any'] = numSets\n",
    "print(time.time()-t1)\n",
    "df"
   ]
  },
  {
   "cell_type": "code",
   "execution_count": 10,
   "metadata": {},
   "outputs": [
    {
     "data": {
      "image/png": "[encoded data removed]",
      "text/plain": [
       "<Figure size 432x288 with 1 Axes>"
      ]
     },
     "metadata": {
      "needs_background": "light"
     },
     "output_type": "display_data"
    }
   ],
   "source": [
    "# Plot metric over time\n",
    "df.plot.line(x='time',y=metric);"
   ]
  },
  {
   "cell_type": "code",
   "execution_count": 11,
   "metadata": {},
   "outputs": [
    {
     "data": {
      "image/png": "[encoded data removed]",
      "text/plain": [
       "<Figure size 432x288 with 1 Axes>"
      ]
     },
     "metadata": {
      "needs_background": "light"
     },
     "output_type": "display_data"
    }
   ],
   "source": [
    "# Plot metric over time\n",
    "df.plot.line(x='time',y='num hops');"
   ]
  },
  {
   "cell_type": "code",
   "execution_count": 12,
   "metadata": {},
   "outputs": [],
   "source": [
    "# Create intervals for the strands and add to STK\n",
    "dfIntervals = createDfIntervals(df,stop,step)\n",
    "addStrandsAsObjectLines(stkRoot,dfIntervals,color='yellow')"
   ]
  },
  {
   "cell_type": "code",
   "execution_count": 13,
   "metadata": {},
   "outputs": [
    {
     "name": "stdout",
     "output_type": "stream",
     "text": [
      "0.8596909046173096\n"
     ]
    }
   ],
   "source": [
    "# Add data back into STK\n",
    "t1 = time.time()\n",
    "addDataToSTK(stkRoot,chainNames[0],df)\n",
    "print(time.time()-t1)"
   ]
  },
  {
   "cell_type": "markdown",
   "metadata": {},
   "source": [
    "## Example Scenario and Statistics"
   ]
  },
  {
   "cell_type": "code",
   "execution_count": 14,
   "metadata": {},
   "outputs": [
    {
     "data": {
      "text/html": [
       "<div>\n",
       "<style scoped>\n",
       "    .dataframe tbody tr th:only-of-type {\n",
       "        vertical-align: middle;\n",
       "    }\n",
       "\n",
       "    .dataframe tbody tr th {\n",
       "        vertical-align: top;\n",
       "    }\n",
       "\n",
       "    .dataframe thead th {\n",
       "        text-align: right;\n",
       "    }\n",
       "</style>\n",
       "<table border=\"1\" class=\"dataframe\">\n",
       "  <thead>\n",
       "    <tr style=\"text-align: right;\">\n",
       "      <th></th>\n",
       "      <th>sum dur</th>\n",
       "      <th>% time active</th>\n",
       "    </tr>\n",
       "    <tr>\n",
       "      <th>node</th>\n",
       "      <th></th>\n",
       "      <th></th>\n",
       "    </tr>\n",
       "  </thead>\n",
       "  <tbody>\n",
       "    <tr>\n",
       "      <td>Target/Target3/Transmitter/Transmitter2</td>\n",
       "      <td>2045.0</td>\n",
       "      <td>56.805556</td>\n",
       "    </tr>\n",
       "    <tr>\n",
       "      <td>Facility/Facility1/Receiver/Receiver1</td>\n",
       "      <td>1485.0</td>\n",
       "      <td>41.250000</td>\n",
       "    </tr>\n",
       "    <tr>\n",
       "      <td>Facility/Facility5/Receiver/Receiver7</td>\n",
       "      <td>1465.0</td>\n",
       "      <td>40.694444</td>\n",
       "    </tr>\n",
       "    <tr>\n",
       "      <td>Satellite/LEO11/Receiver/Receiver3</td>\n",
       "      <td>1300.0</td>\n",
       "      <td>36.111111</td>\n",
       "    </tr>\n",
       "    <tr>\n",
       "      <td>Satellite/LEO11/Transmitter/Transmitter3</td>\n",
       "      <td>1300.0</td>\n",
       "      <td>36.111111</td>\n",
       "    </tr>\n",
       "    <tr>\n",
       "      <td>Satellite/LEO12/Receiver/Receiver4</td>\n",
       "      <td>1280.0</td>\n",
       "      <td>35.555556</td>\n",
       "    </tr>\n",
       "    <tr>\n",
       "      <td>Satellite/LEO12/Transmitter/Transmitter4</td>\n",
       "      <td>1280.0</td>\n",
       "      <td>35.555556</td>\n",
       "    </tr>\n",
       "    <tr>\n",
       "      <td>Target/Target1/Transmitter/Transmitter1</td>\n",
       "      <td>1175.0</td>\n",
       "      <td>32.638889</td>\n",
       "    </tr>\n",
       "    <tr>\n",
       "      <td>Satellite/LEO13/Receiver/Receiver5</td>\n",
       "      <td>1095.0</td>\n",
       "      <td>30.416667</td>\n",
       "    </tr>\n",
       "    <tr>\n",
       "      <td>Satellite/LEO13/Transmitter/Transmitter5</td>\n",
       "      <td>1095.0</td>\n",
       "      <td>30.416667</td>\n",
       "    </tr>\n",
       "  </tbody>\n",
       "</table>\n",
       "</div>"
      ],
      "text/plain": [
       "                                          sum dur  % time active \n",
       "node                                                             \n",
       "Target/Target3/Transmitter/Transmitter2    2045.0       56.805556\n",
       "Facility/Facility1/Receiver/Receiver1      1485.0       41.250000\n",
       "Facility/Facility5/Receiver/Receiver7      1465.0       40.694444\n",
       "Satellite/LEO11/Receiver/Receiver3         1300.0       36.111111\n",
       "Satellite/LEO11/Transmitter/Transmitter3   1300.0       36.111111\n",
       "Satellite/LEO12/Receiver/Receiver4         1280.0       35.555556\n",
       "Satellite/LEO12/Transmitter/Transmitter4   1280.0       35.555556\n",
       "Target/Target1/Transmitter/Transmitter1    1175.0       32.638889\n",
       "Satellite/LEO13/Receiver/Receiver5         1095.0       30.416667\n",
       "Satellite/LEO13/Transmitter/Transmitter5   1095.0       30.416667"
      ]
     },
     "execution_count": 14,
     "metadata": {},
     "output_type": "execute_result"
    }
   ],
   "source": [
    "# Most active nodes\n",
    "strands = dfIntervals[['strand','start','stop']].values\n",
    "dfNodesIntervals = getNodesIntervalsFromStrands(strands)\n",
    "dfNodeActive = getActiveDuration(dfNodesIntervals,start,stop)\n",
    "dfNodeActive.sort_values('sum dur',ascending=False).head(10)"
   ]
  },
  {
   "cell_type": "code",
   "execution_count": 15,
   "metadata": {},
   "outputs": [
    {
     "data": {
      "text/plain": [
       "count      4.000000\n",
       "mean      95.000000\n",
       "std       34.156503\n",
       "min       50.000000\n",
       "25%       80.000000\n",
       "50%      100.000000\n",
       "75%      115.000000\n",
       "max      130.000000\n",
       "Name: dur, dtype: float64"
      ]
     },
     "execution_count": 15,
     "metadata": {},
     "output_type": "execute_result"
    }
   ],
   "source": [
    "# Summary stats for dur for each interval gap\n",
    "dfIntervals[dfIntervals['strand'] == ''].describe()['dur']"
   ]
  },
  {
   "cell_type": "code",
   "execution_count": 16,
   "metadata": {},
   "outputs": [
    {
     "data": {
      "text/plain": [
       "[['Target/Target1/Transmitter/Transmitter1',\n",
       "  'Satellite/LEO14/Receiver/Receiver6',\n",
       "  'Satellite/LEO14/Transmitter/Transmitter6',\n",
       "  'Satellite/LEO46/Receiver/Receiver28',\n",
       "  'Satellite/LEO46/Transmitter/Transmitter28',\n",
       "  'Satellite/LEO31/Receiver/Receiver17',\n",
       "  'Satellite/LEO31/Transmitter/Transmitter17',\n",
       "  'Satellite/LEO13/Receiver/Receiver5',\n",
       "  'Satellite/LEO13/Transmitter/Transmitter5',\n",
       "  'Facility/Facility1/Receiver/Receiver1']]"
      ]
     },
     "execution_count": 16,
     "metadata": {},
     "output_type": "execute_result"
    }
   ],
   "source": [
    "# Look at a strand\n",
    "t = 0\n",
    "list(df.loc[df['time'] == t]['strand'])"
   ]
  },
  {
   "cell_type": "markdown",
   "metadata": {},
   "source": [
    "## Add constraint"
   ]
  },
  {
   "cell_type": "code",
   "execution_count": 17,
   "metadata": {},
   "outputs": [],
   "source": [
    "# # Add a constraint and then recompute\n",
    "# receiverPaths = FilterObjectsByType(stkRoot,'Receiver')\n",
    "# for receiverPath in receiverPaths:\n",
    "#     receiver = stkRoot.GetObjectFromPath(receiverPath)\n",
    "#     try:\n",
    "#         cnConstraint = receiver.AccessConstraints.AddNamedConstraint('C/N')\n",
    "#     except:\n",
    "#         cnConstraint = receiver.AccessConstraints.GetActiveNamedConstraint('C/N')\n",
    "#     cnConstraint = cnConstraint.QueryInterface(STKObjects.IAgAccessCnstrMinMax)\n",
    "#     cnConstraint.EnableMin = True\n",
    "#     cnConstraint.Min = 1"
   ]
  }
 ],
 "metadata": {
  "kernelspec": {
   "display_name": "Python 3",
   "language": "python",
   "name": "python3"
  },
  "language_info": {
   "codemirror_mode": {
    "name": "ipython",
    "version": 3
   },
   "file_extension": ".py",
   "mimetype": "text/x-python",
   "name": "python",
   "nbconvert_exporter": "python",
   "pygments_lexer": "ipython3",
   "version": "3.7.4"
  }
 },
 "nbformat": 4,
 "nbformat_minor": 2
}
