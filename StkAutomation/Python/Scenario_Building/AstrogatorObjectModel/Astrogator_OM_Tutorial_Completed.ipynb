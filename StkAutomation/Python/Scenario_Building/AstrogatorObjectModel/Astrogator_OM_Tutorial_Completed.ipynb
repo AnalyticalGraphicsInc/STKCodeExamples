{
 "cells": [
  {
   "cell_type": "markdown",
   "metadata": {},
   "source": [
    "# Astrogator Object Model Walkthrough in Python#"
   ]
  },
  {
   "cell_type": "markdown",
   "metadata": {},
   "source": [
    "This tutorial builds a LEO to GEO transfer using a combined inclination and apogee raise maneuver at GEO."
   ]
  },
  {
   "cell_type": "markdown",
   "metadata": {},
   "source": [
    "## Uncomment and run the cell below the first time you connect to STK with Python on a new computer."
   ]
  },
  {
   "cell_type": "code",
   "execution_count": 1,
   "metadata": {
    "collapsed": true
   },
   "outputs": [],
   "source": [
    "# # Import the comtypes package to connect to an external application\n",
    "# import comtypes\n",
    "# from comtypes.client import CreateObject\n",
    "\n",
    "# # Create a new instance of STK\n",
    "# app = CreateObject('STK11.Application')\n",
    "# app.Visible = True # Needed to view the user interface application\n",
    "\n",
    "# # Get the IAgStkObjectRoot interface\n",
    "# root = app.Personality2\n",
    "\n",
    "# # Note: When 'root=uiApplication.Personality2' is executed, the comtypes library automatically creates a gen folder that contains\n",
    "# # STKObjects and other Python wrappers for the STK libraries. After running this at least once on your computer, the libraries\n",
    "# # should be imported before the 'uiApplication=CreateObject(\"STK11.Application\")' line for improved performance.\n",
    "\n",
    "# # The Astrogator wrapper needs to specifically be loaded with the line below, then AgStkGatorLib is created.\n",
    "# comtypes.client.GetModule((comtypes.GUID(\"{090D317C-31A7-4AF7-89CD-25FE18F4017C}\") ,1,0))\n",
    "\n",
    "# # View the location and newly generated wrappers\n",
    "# import os as os\n",
    "# print(comtypes.client.gen_dir, '\\n')\n",
    "# print(os.listdir(comtypes.client.gen_dir))\n",
    "\n",
    "# # After running this cell comment out this cell.\n",
    "# # Use \"Ctrl\" + \"a\" to select all of the cell content, then Use \"Ctrl\" + \"/\" to toggle comments in Jupyter Notebooks"
   ]
  },
  {
   "cell_type": "markdown",
   "metadata": {},
   "source": [
    "## Look in the comments for the word ACTION, which indicates code is needed ##"
   ]
  },
  {
   "cell_type": "markdown",
   "metadata": {},
   "source": [
    "## Connect to STK ##"
   ]
  },
  {
   "cell_type": "code",
   "execution_count": 2,
   "metadata": {
    "collapsed": true
   },
   "outputs": [],
   "source": [
    "# Import libraries\n",
    "import comtypes\n",
    "from comtypes.client import CreateObject\n",
    "from comtypes.gen import STKObjects\n",
    "from comtypes.gen import STKUtil\n",
    "from comtypes.gen import AgStkGatorLib"
   ]
  },
  {
   "cell_type": "code",
   "execution_count": 3,
   "metadata": {
    "collapsed": true
   },
   "outputs": [],
   "source": [
    "# Create a new instance of STK, grab the root, create a new scenario\n",
    "app = CreateObject(\"STK11.Application\")\n",
    "app.Visible = 1\n",
    "app.UserControl = 1\n",
    "root = app.Personality2\n",
    "root.NewScenario(\"LEOToGEOWithPython\");"
   ]
  },
  {
   "cell_type": "code",
   "execution_count": 4,
   "metadata": {
    "collapsed": true
   },
   "outputs": [],
   "source": [
    "# Grab scenario handles\n",
    "sc = root.CurrentScenario\n",
    "# ACTION: Get the scenario specific interface\n",
    "sc2 = sc.QueryInterface(STKObjects.IAgScenario)"
   ]
  },
  {
   "cell_type": "markdown",
   "metadata": {},
   "source": [
    "## Create an Astrogator Satellite ##"
   ]
  },
  {
   "cell_type": "code",
   "execution_count": 5,
   "metadata": {
    "collapsed": true
   },
   "outputs": [],
   "source": [
    "# Create a new satellite. Delete the satellite if it already exists.\n",
    "satName = \"AstrogatorSat\"\n",
    "if sc.Children.Contains(STKObjects.eSatellite, satName):\n",
    "    sat = root.GetObjectFromPath(\"*/Satellite/\" + satName)\n",
    "    sat.Unload()\n",
    "\n",
    "# ACTION: Insert a new satellite using the variable satName\n",
    "sat = sc.Children.New(STKObjects.eSatellite, satName)"
   ]
  },
  {
   "cell_type": "code",
   "execution_count": 6,
   "metadata": {
    "collapsed": true
   },
   "outputs": [],
   "source": [
    "# Get a handle to the IAgSatellite interface\n",
    "sat2 = sat.QueryInterface(STKObjects.IAgSatellite)\n",
    "# Set the propagator to ePropagatorAstrogator\n",
    "sat2.SetPropagatorType(STKObjects.ePropagatorAstrogator)\n",
    "# Cast the propagator to an IAgVADriverMCS\n",
    "ASTG = sat2.Propagator.QueryInterface(AgStkGatorLib.IAgVADriverMCS)"
   ]
  },
  {
   "cell_type": "code",
   "execution_count": 7,
   "metadata": {},
   "outputs": [
    {
     "data": {
      "text/plain": [
       "comtypes.POINTER(IAgVAMCSSegmentCollection)"
      ]
     },
     "execution_count": 7,
     "metadata": {},
     "output_type": "execute_result"
    }
   ],
   "source": [
    "# Get a handle to the MCS\n",
    "MCS = ASTG.MainSequence\n",
    "type(MCS)"
   ]
  },
  {
   "cell_type": "markdown",
   "metadata": {},
   "source": [
    "## Build the MCS ## "
   ]
  },
  {
   "cell_type": "markdown",
   "metadata": {},
   "source": [
    "### Switching the \"a\" and \"b\" notion for different interfaces instead of \"1\" and \"2\" ###"
   ]
  },
  {
   "cell_type": "code",
   "execution_count": 8,
   "metadata": {
    "collapsed": true
   },
   "outputs": [],
   "source": [
    "# Add a stopping condition of descending node\n",
    "prop1a = MCS.Item(\"Propagate\")\n",
    "prop1b = prop1a.QueryInterface(AgStkGatorLib.IAgVAMCSPropagate)\n",
    "# ACTION: Add a stopping condition of descending node\n",
    "prop1b.StoppingConditions.Add(\"DescendingNode\");"
   ]
  },
  {
   "cell_type": "code",
   "execution_count": 9,
   "metadata": {},
   "outputs": [
    {
     "data": {
      "text/plain": [
       "comtypes.POINTER(IAgVAMCSSegment)"
      ]
     },
     "execution_count": 9,
     "metadata": {},
     "output_type": "execute_result"
    }
   ],
   "source": [
    "# Add a target sequence\n",
    "ts1a = MCS.Insert(AgStkGatorLib.eVASegmentTypeTargetSequence, \"TargetApo\", \"-\")\n",
    "type(ts1a)"
   ]
  },
  {
   "cell_type": "code",
   "execution_count": 10,
   "metadata": {
    "collapsed": true
   },
   "outputs": [],
   "source": [
    "# Get the interface specifically for the target sequence\n",
    "ts1b = ts1a.QueryInterface(AgStkGatorLib.IAgVAMCSTargetSequence)"
   ]
  },
  {
   "cell_type": "code",
   "execution_count": 11,
   "metadata": {},
   "outputs": [
    {
     "data": {
      "text/plain": [
       "comtypes.POINTER(IAgVAMCSSegment)"
      ]
     },
     "execution_count": 11,
     "metadata": {},
     "output_type": "execute_result"
    }
   ],
   "source": [
    "# Add the the first implusive maneuver\n",
    "dV1a = ts1b.Segments.Insert(2, \"dV\", \"-\")\n",
    "type(dV1a)"
   ]
  },
  {
   "cell_type": "code",
   "execution_count": 12,
   "metadata": {
    "collapsed": true
   },
   "outputs": [],
   "source": [
    "# ACTION: Get the maneuver specific interface\n",
    "dV1b = dV1a.QueryInterface(AgStkGatorLib.IAgVAMCSManeuver)"
   ]
  },
  {
   "cell_type": "code",
   "execution_count": 13,
   "metadata": {},
   "outputs": [
    {
     "data": {
      "text/plain": [
       "comtypes.POINTER(IAgVAAttitudeControl)"
      ]
     },
     "execution_count": 13,
     "metadata": {},
     "output_type": "execute_result"
    }
   ],
   "source": [
    "# Get the attitude control interface (direction of the maneuver)\n",
    "dV1b.Maneuver.SetAttitudeControlType(AgStkGatorLib.eVAAttitudeControlThrustVector)\n",
    "type(dV1b.Maneuver.AttitudeControl)"
   ]
  },
  {
   "cell_type": "code",
   "execution_count": 14,
   "metadata": {
    "collapsed": true
   },
   "outputs": [],
   "source": [
    "# Get specific the attitude control thrust vector inteface\n",
    "attCon = dV1b.Maneuver.AttitudeControl.QueryInterface(\n",
    "    AgStkGatorLib.IAgVAAttitudeControlImpulsiveThrustVector\n",
    ")"
   ]
  },
  {
   "cell_type": "code",
   "execution_count": 15,
   "metadata": {
    "collapsed": true
   },
   "outputs": [],
   "source": [
    "# Set the direction and magnitude of the delta V vector\n",
    "dVx = 1  # [km/s]\n",
    "dVy = 0  # [km/s]\n",
    "dVz = 0  # [km/s]\n",
    "# ACTION: Assign the dV components to the delta V vector\n",
    "attCon.DeltaVVector.AssignCartesian(dVx, dVy, dVz);"
   ]
  },
  {
   "cell_type": "code",
   "execution_count": 16,
   "metadata": {
    "collapsed": true
   },
   "outputs": [],
   "source": [
    "# Insert a propagate segment into the first target sequence\n",
    "prop2a = ts1b.Segments.Insert(AgStkGatorLib.eVASegmentTypePropagate, \"PropToApo\", \"-\")\n",
    "prop2b = prop2a.QueryInterface(AgStkGatorLib.IAgVAMCSPropagate)"
   ]
  },
  {
   "cell_type": "code",
   "execution_count": 17,
   "metadata": {
    "collapsed": true
   },
   "outputs": [],
   "source": [
    "color = 65535  # yellow. Decimal value for BGR\n",
    "# ACTION: Change the segment color to use the color variable\n",
    "prop2a.Properties.Color = color"
   ]
  },
  {
   "cell_type": "code",
   "execution_count": 18,
   "metadata": {
    "collapsed": true
   },
   "outputs": [],
   "source": [
    "# Set a stopping condition of apoapsis\n",
    "prop2b.StoppingConditions.Add(\"AscendingNode\");"
   ]
  },
  {
   "cell_type": "code",
   "execution_count": 19,
   "metadata": {
    "collapsed": true
   },
   "outputs": [],
   "source": [
    "# ACTION: Insert a second target sequence called TargetCircularization, after the first target sequence\n",
    "ts2a = MCS.Insert(\n",
    "    AgStkGatorLib.eVASegmentTypeTargetSequence, \"TargetCircularization\", \"-\"\n",
    ")"
   ]
  },
  {
   "cell_type": "code",
   "execution_count": 20,
   "metadata": {
    "collapsed": true
   },
   "outputs": [],
   "source": [
    "# ACTION: Get the target sequence specific interface\n",
    "ts2b = ts2a.QueryInterface(AgStkGatorLib.IAgVAMCSTargetSequence)"
   ]
  },
  {
   "cell_type": "code",
   "execution_count": 21,
   "metadata": {
    "collapsed": true
   },
   "outputs": [],
   "source": [
    "# Add a second impulsive maneuver\n",
    "dV2a = ts2b.Segments.InsertCopy(dV1a, \"-\")\n",
    "dV2b = dV2a.QueryInterface(AgStkGatorLib.IAgVAMCSManeuver)"
   ]
  },
  {
   "cell_type": "code",
   "execution_count": 22,
   "metadata": {
    "collapsed": true
   },
   "outputs": [],
   "source": [
    "# Insert a Propagate Segment\n",
    "prop3a = ts2b.Segments.Insert(AgStkGatorLib.eVASegmentTypePropagate, \"Prop1Day\", \"-\")\n",
    "prop3b = prop3a.QueryInterface(AgStkGatorLib.IAgVAMCSPropagate)"
   ]
  },
  {
   "cell_type": "code",
   "execution_count": 23,
   "metadata": {
    "collapsed": true
   },
   "outputs": [],
   "source": [
    "color = 16711935  # Magenta. Decimal value for BGR\n",
    "# ACTION: Change the segment color to use the color variable\n",
    "prop3a.Properties.Color = color"
   ]
  },
  {
   "cell_type": "code",
   "execution_count": 24,
   "metadata": {
    "collapsed": true
   },
   "outputs": [],
   "source": [
    "# Insert a stoppping condtion\n",
    "scDura = prop3b.StoppingConditions.Item(0)\n",
    "tripVal = 86400  # [sec], 86400 sec = 1 day\n",
    "# ACTION: Add a stopping duration trip value using the tripVal variable (two lines of code)\n",
    "scDurb = scDura.Properties.QueryInterface(AgStkGatorLib.IAgVAStoppingCondition)\n",
    "scDurb.Trip = tripVal"
   ]
  },
  {
   "cell_type": "markdown",
   "metadata": {},
   "source": [
    "## Configure the Target Sequences ## "
   ]
  },
  {
   "cell_type": "code",
   "execution_count": 25,
   "metadata": {
    "collapsed": true
   },
   "outputs": [],
   "source": [
    "# Enable the control parameters\n",
    "# ACTION: Enable the impulsive cartesian X component on the first dV maneuver\n",
    "dV1b.EnableControlParameter(AgStkGatorLib.eVAControlManeuverImpulsiveCartesianX)\n",
    "# ACTION: Enable the impulsive cartesian X,Y, and Z components on the second dV maneuver (three lines of code)\n",
    "dV2b.EnableControlParameter(AgStkGatorLib.eVAControlManeuverImpulsiveCartesianX)\n",
    "dV2b.EnableControlParameter(AgStkGatorLib.eVAControlManeuverImpulsiveCartesianY)\n",
    "dV2b.EnableControlParameter(AgStkGatorLib.eVAControlManeuverImpulsiveCartesianZ);"
   ]
  },
  {
   "cell_type": "code",
   "execution_count": 26,
   "metadata": {
    "collapsed": true
   },
   "outputs": [],
   "source": [
    "# Add results\n",
    "prop2a.Results.Add(\"Spherical Elems\\\\R Mag\")\n",
    "dV2a.Results.Add(\"Keplerian Elems\\\\Eccentricity\")\n",
    "dV2a.Results.Add(\"Keplerian Elems\\\\Inclination\")\n",
    "dV2a.Results.Add(\"Spherical Elems\\\\Flight Path Angle\");"
   ]
  },
  {
   "cell_type": "code",
   "execution_count": 27,
   "metadata": {
    "collapsed": true
   },
   "outputs": [],
   "source": [
    "# Enable the control parameters and results for the first differentical corrector\n",
    "dc1a = ts1b.Profiles.Item(0)\n",
    "dc1b = dc1a.QueryInterface(AgStkGatorLib.IAgVAProfileDifferentialCorrector)\n",
    "cartXcp = dc1b.ControlParameters.Item(0)\n",
    "cartXcp.Enable = 1\n",
    "RMag = dc1b.Results.Item(0)\n",
    "RMag.Enable = 1\n",
    "# Set the desired radius to the GEO belt\n",
    "RMag.DesiredValue = 42164  # [km]"
   ]
  },
  {
   "cell_type": "code",
   "execution_count": 28,
   "metadata": {
    "collapsed": true
   },
   "outputs": [],
   "source": [
    "# Enable the control parameters and results for the second differentical corrector\n",
    "dc2a = ts2b.Profiles.Item(0)\n",
    "dc2b = dc2a.QueryInterface(AgStkGatorLib.IAgVAProfileDifferentialCorrector)\n",
    "# Alternative method of getting the control parameters\n",
    "cartXcp = dc2b.ControlParameters.GetControlByPaths(\"dV\", \"ImpulsiveMnvr.Cartesian.X\")\n",
    "cartYcp = dc2b.ControlParameters.GetControlByPaths(\"dV\", \"ImpulsiveMnvr.Cartesian.Y\")\n",
    "cartZcp = dc2b.ControlParameters.GetControlByPaths(\"dV\", \"ImpulsiveMnvr.Cartesian.Z\")\n",
    "cartXcp.Enable = 1\n",
    "cartYcp.Enable = 1\n",
    "cartZcp.Enable = 1"
   ]
  },
  {
   "cell_type": "code",
   "execution_count": 29,
   "metadata": {
    "collapsed": true
   },
   "outputs": [],
   "source": [
    "# ACTION: Get the results by path and save the handles as variables called: ecc, inc, fpa (three lines of code)\n",
    "ecc = dc2b.Results.GetResultByPaths(\"dV\", \"Eccentricity\")\n",
    "inc = dc2b.Results.GetResultByPaths(\"dV\", \"Inclination\")\n",
    "fpa = dc2b.Results.GetResultByPaths(\"dV\", \"Flight Path Angle\")\n",
    "ecc.Enable = 1\n",
    "inc.Enable = 1\n",
    "fpa.Enable = 1\n",
    "# Adjust the toleraces\n",
    "ecc.Tolerance = 0.001\n",
    "inc.Tolerance = 0.001\n",
    "fpa.Tolerance = 0.0001"
   ]
  },
  {
   "cell_type": "code",
   "execution_count": 30,
   "metadata": {
    "collapsed": true
   },
   "outputs": [],
   "source": [
    "# Set the Target Profiles Action to Run active profiles\n",
    "ts1b.Action = AgStkGatorLib.eVATargetSeqActionRunActiveProfiles\n",
    "ts2b.Action = AgStkGatorLib.eVATargetSeqActionRunActiveProfiles"
   ]
  },
  {
   "cell_type": "markdown",
   "metadata": {},
   "source": [
    "## Run the MCS ##"
   ]
  },
  {
   "cell_type": "code",
   "execution_count": 31,
   "metadata": {
    "collapsed": true
   },
   "outputs": [],
   "source": [
    "# Optionally turn on and off the targetting pop up windows\n",
    "DisplayStatus = 0  # 0 or 1, for don't show and show\n",
    "\n",
    "for i in range(0, MCS.Count):\n",
    "    seg = MCS.Item(i)\n",
    "    if seg.Type == 8:\n",
    "        ts = seg.QueryInterface(AgStkGatorLib.IAgVAMCSTargetSequence)\n",
    "        dc = ts.Profiles.Item(0)\n",
    "        dc = dc.QueryInterface(AgStkGatorLib.IAgVAProfileDifferentialCorrector)\n",
    "        dc.EnableDisplayStatus = DisplayStatus;"
   ]
  },
  {
   "cell_type": "code",
   "execution_count": 32,
   "metadata": {
    "collapsed": true
   },
   "outputs": [],
   "source": [
    "# Run the MCS\n",
    "ASTG.RunMCS();"
   ]
  },
  {
   "cell_type": "code",
   "execution_count": 33,
   "metadata": {
    "collapsed": true
   },
   "outputs": [],
   "source": [
    "# Apply the profile changes\n",
    "ASTG.ApplyAllProfileChanges();"
   ]
  },
  {
   "cell_type": "code",
   "execution_count": 34,
   "metadata": {
    "collapsed": true
   },
   "outputs": [],
   "source": [
    "# Loop through every segment and set all target sequences to run nominal sequence\n",
    "tsList = range(0, MCS.Count)\n",
    "for i in range(0, MCS.Count):\n",
    "    seg = MCS.Item(i)\n",
    "    if seg.Type == 8:\n",
    "        ts = seg.QueryInterface(AgStkGatorLib.IAgVAMCSTargetSequence)\n",
    "        ts.Action = AgStkGatorLib.eVATargetSeqActionRunNominalSeq"
   ]
  },
  {
   "cell_type": "code",
   "execution_count": 35,
   "metadata": {},
   "outputs": [
    {
     "data": {
      "text/plain": [
       "((1, 'All'),\n",
       " (8, 'Current Interval'),\n",
       " (2, 'Fraction'),\n",
       " (3, 'Full'),\n",
       " (4, 'Half'),\n",
       " (0, 'None'),\n",
       " (5, 'One Pass'),\n",
       " (6, 'Quarter'),\n",
       " (7, 'Time'))"
      ]
     },
     "execution_count": 35,
     "metadata": {},
     "output_type": "execute_result"
    }
   ],
   "source": [
    "# See what the options are for displaying orbits\n",
    "sat2.VO.Pass.TrackData.PassData.Orbit.SupportedDataTypes"
   ]
  },
  {
   "cell_type": "code",
   "execution_count": 36,
   "metadata": {
    "collapsed": true
   },
   "outputs": [],
   "source": [
    "# ACTION: Set the lead and trail type to All (two lines)\n",
    "sat2.VO.Pass.TrackData.PassData.Orbit.SetLeadDataType(1)\n",
    "sat2.VO.Pass.TrackData.PassData.Orbit.SetTrailDataType(1);"
   ]
  },
  {
   "cell_type": "code",
   "execution_count": 37,
   "metadata": {
    "collapsed": true
   },
   "outputs": [],
   "source": [
    "# Clear the graphics\n",
    "ASTG.ClearDWCGraphics();"
   ]
  }
 ],
 "metadata": {
  "kernelspec": {
   "display_name": "Python 3",
   "language": "python",
   "name": "python3"
  },
  "language_info": {
   "codemirror_mode": {
    "name": "ipython",
    "version": 3
   },
   "file_extension": ".py",
   "mimetype": "text/x-python",
   "name": "python",
   "nbconvert_exporter": "python",
   "pygments_lexer": "ipython3",
   "version": "3.6.2"
  }
 },
 "nbformat": 4,
 "nbformat_minor": 2
}
