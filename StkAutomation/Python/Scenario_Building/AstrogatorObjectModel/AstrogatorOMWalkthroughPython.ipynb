{
 "cells": [
  {
   "cell_type": "markdown",
   "metadata": {},
   "source": [
    "# Astrogator Object Model Walkthrough in Python#"
   ]
  },
  {
   "cell_type": "markdown",
   "metadata": {},
   "source": [
    "## Connect to STK ##"
   ]
  },
  {
   "cell_type": "code",
   "execution_count": 148,
   "metadata": {},
   "outputs": [],
   "source": [
    "# Import Libraries\n",
    "import comtypes\n",
    "from comtypes.client import CreateObject\n",
    "from comtypes.gen import STKObjects\n",
    "from comtypes.gen import STKUtil\n",
    "from comtypes.gen import AgStkGatorLib"
   ]
  },
  {
   "cell_type": "code",
   "execution_count": 122,
   "metadata": {},
   "outputs": [],
   "source": [
    "# Create a new instance of STK, grab the root, create a new scenario\n",
    "app = CreateObject(\"STK12.Application\")\n",
    "app.Visible = 1\n",
    "app.UserControl = 1\n",
    "root = app.Personality2\n",
    "root.NewScenario(\"HohmannTransferPython\");"
   ]
  },
  {
   "cell_type": "code",
   "execution_count": 123,
   "metadata": {
    "collapsed": true
   },
   "outputs": [],
   "source": [
    "# Grab scenario handles\n",
    "sc = root.CurrentScenario\n",
    "sc2 = sc.QueryInterface(STKObjects.IAgScenario)"
   ]
  },
  {
   "cell_type": "markdown",
   "metadata": {},
   "source": [
    "## Create an Astrogator Satellite ##"
   ]
  },
  {
   "cell_type": "code",
   "execution_count": 124,
   "metadata": {
    "collapsed": true
   },
   "outputs": [],
   "source": [
    "# Create a new satellite\n",
    "sat = sc.Children.New(STKObjects.eSatellite, \"AstrogatorSat\")"
   ]
  },
  {
   "cell_type": "code",
   "execution_count": 125,
   "metadata": {},
   "outputs": [],
   "source": [
    "# Get a handle to the IAgSatellite interface\n",
    "sat2 = sat.QueryInterface(STKObjects.IAgSatellite)\n",
    "# Set the propagator to ePropagatorAstrogator\n",
    "sat2.SetPropagatorType(STKObjects.ePropagatorAstrogator)\n",
    "# Cast the propagator to an IAgVADriverMCS\n",
    "ASTG = sat2.Propagator.QueryInterface(AgStkGatorLib.IAgVADriverMCS)"
   ]
  },
  {
   "cell_type": "code",
   "execution_count": 126,
   "metadata": {},
   "outputs": [
    {
     "data": {
      "text/plain": [
       "comtypes.POINTER(IAgVAMCSSegmentCollection)"
      ]
     },
     "execution_count": 126,
     "metadata": {},
     "output_type": "execute_result"
    }
   ],
   "source": [
    "# Get a handle to the MCS\n",
    "MCS = ASTG.MainSequence\n",
    "type(MCS)"
   ]
  },
  {
   "cell_type": "markdown",
   "metadata": {},
   "source": [
    "## Build the MCS ## "
   ]
  },
  {
   "cell_type": "code",
   "execution_count": 127,
   "metadata": {},
   "outputs": [
    {
     "data": {
      "text/plain": [
       "comtypes.POINTER(IAgVAMCSSegment)"
      ]
     },
     "execution_count": 127,
     "metadata": {},
     "output_type": "execute_result"
    }
   ],
   "source": [
    "ts1a = MCS.Insert(AgStkGatorLib.eVASegmentTypeTargetSequence, \"TargetApo\", \"-\")\n",
    "type(ts1a)"
   ]
  },
  {
   "cell_type": "code",
   "execution_count": 128,
   "metadata": {
    "collapsed": true
   },
   "outputs": [],
   "source": [
    "ts1b = ts1a.QueryInterface(AgStkGatorLib.IAgVAMCSTargetSequence)"
   ]
  },
  {
   "cell_type": "code",
   "execution_count": 129,
   "metadata": {},
   "outputs": [
    {
     "data": {
      "text/plain": [
       "comtypes.POINTER(IAgVAMCSSegment)"
      ]
     },
     "execution_count": 129,
     "metadata": {},
     "output_type": "execute_result"
    }
   ],
   "source": [
    "dV1a = ts1b.Segments.Insert(2, \"dV1\", \"-\")\n",
    "type(dV1a)"
   ]
  },
  {
   "cell_type": "code",
   "execution_count": 130,
   "metadata": {},
   "outputs": [],
   "source": [
    "dV1b = dV1a.QueryInterface(AgStkGatorLib.IAgVAMCSManeuver)"
   ]
  },
  {
   "cell_type": "code",
   "execution_count": 131,
   "metadata": {},
   "outputs": [
    {
     "data": {
      "text/plain": [
       "comtypes.POINTER(IAgVAAttitudeControl)"
      ]
     },
     "execution_count": 131,
     "metadata": {},
     "output_type": "execute_result"
    }
   ],
   "source": [
    "dV1b.Maneuver.SetAttitudeControlType(AgStkGatorLib.eVAAttitudeControlThrustVector)\n",
    "type(dV1b.Maneuver.AttitudeControl)"
   ]
  },
  {
   "cell_type": "code",
   "execution_count": 132,
   "metadata": {},
   "outputs": [],
   "source": [
    "attCon = dV1b.Maneuver.AttitudeControl.QueryInterface(\n",
    "    AgStkGatorLib.IAgVAAttitudeControlImpulsiveThrustVector\n",
    ")"
   ]
  },
  {
   "cell_type": "code",
   "execution_count": 133,
   "metadata": {},
   "outputs": [],
   "source": [
    "attCon.DeltaVVector.AssignCartesian(1, 0, 0);"
   ]
  },
  {
   "cell_type": "code",
   "execution_count": 134,
   "metadata": {},
   "outputs": [],
   "source": [
    "prop2a = ts1b.Segments.Insert(AgStkGatorLib.eVASegmentTypePropagate, \"PropToApo\", \"-\")\n",
    "prop2b = prop2a.QueryInterface(AgStkGatorLib.IAgVAMCSPropagate)"
   ]
  },
  {
   "cell_type": "code",
   "execution_count": 135,
   "metadata": {},
   "outputs": [
    {
     "data": {
      "text/plain": [
       "<POINTER(IAgVAStoppingConditionElement) ptr=0x1b74ddc41a8 at 1b74f1db348>"
      ]
     },
     "execution_count": 135,
     "metadata": {},
     "output_type": "execute_result"
    }
   ],
   "source": [
    "prop2b.StoppingConditions.Add(\"Apoapsis\")"
   ]
  },
  {
   "cell_type": "code",
   "execution_count": 138,
   "metadata": {
    "collapsed": true
   },
   "outputs": [],
   "source": [
    "ts2a = MCS.Insert(\n",
    "    AgStkGatorLib.eVASegmentTypeTargetSequence, \"TargetCircularization\", \"-\"\n",
    ")\n",
    "ts2b = ts2a.QueryInterface(AgStkGatorLib.IAgVAMCSTargetSequence)"
   ]
  },
  {
   "cell_type": "code",
   "execution_count": 139,
   "metadata": {},
   "outputs": [],
   "source": [
    "dV2a = ts2b.Segments.InsertCopy(dV1a, \"-\")\n",
    "dV2b = dV2a.QueryInterface(AgStkGatorLib.IAgVAMCSManeuver)\n",
    "dV2a.Properties"
   ]
  },
  {
   "cell_type": "code",
   "execution_count": 140,
   "metadata": {
    "collapsed": true
   },
   "outputs": [],
   "source": [
    "prop3a = ts2b.Segments.Insert(AgStkGatorLib.eVASegmentTypePropagate, \"Prop1Day\", \"-\")\n",
    "prop3b = prop3a.QueryInterface(AgStkGatorLib.IAgVAMCSPropagate)"
   ]
  },
  {
   "cell_type": "code",
   "execution_count": 141,
   "metadata": {},
   "outputs": [],
   "source": [
    "scDura = prop3b.StoppingConditions.Item(0)\n",
    "scDurb = scDura.Properties.QueryInterface(AgStkGatorLib.IAgVAStoppingCondition)\n",
    "scDurb.Trip = 86400"
   ]
  },
  {
   "cell_type": "markdown",
   "metadata": {},
   "source": [
    "## Configure the Target Sequences ## "
   ]
  },
  {
   "cell_type": "code",
   "execution_count": 158,
   "metadata": {},
   "outputs": [],
   "source": [
    "dV1b.EnableControlParameter(AgStkGatorLib.eVAControlManeuverImpulsiveCartesianX)\n",
    "dV2b.EnableControlParameter(AgStkGatorLib.eVAControlManeuverImpulsiveCartesianX)\n",
    "dV2b.EnableControlParameter(AgStkGatorLib.eVAControlManeuverImpulsiveCartesianY);"
   ]
  },
  {
   "cell_type": "code",
   "execution_count": 169,
   "metadata": {},
   "outputs": [
    {
     "data": {
      "text/plain": [
       "<POINTER(IAgComponentInfo) ptr=0x1b745de8ad8 at 1b75fa3e0c8>"
      ]
     },
     "execution_count": 169,
     "metadata": {},
     "output_type": "execute_result"
    }
   ],
   "source": [
    "# Add results\n",
    "dV1a.Results.Add(\"Spherical Elems\\\\R Mag\")\n",
    "dV2a.Results.Add(\"\")"
   ]
  },
  {
   "cell_type": "code",
   "execution_count": 144,
   "metadata": {},
   "outputs": [],
   "source": [
    "# Set the Target Profiles Action to Run active profiles\n",
    "ts1b.Action = AgStkGatorLib.eVATargetSeqActionRunActiveProfiles\n",
    "ts2b.Action = AgStkGatorLib.eVATargetSeqActionRunActiveProfiles"
   ]
  },
  {
   "cell_type": "markdown",
   "metadata": {},
   "source": [
    "## Run the MCS ##"
   ]
  },
  {
   "cell_type": "code",
   "execution_count": 156,
   "metadata": {},
   "outputs": [],
   "source": [
    "dV2b = dV2a.QueryInterface(AgStkGatorLib.IAgVAMCSManeuver)"
   ]
  },
  {
   "cell_type": "code",
   "execution_count": 161,
   "metadata": {},
   "outputs": [
    {
     "data": {
      "text/plain": [
       "comtypes.POINTER(IAgVACalcObjectCollection)"
      ]
     },
     "execution_count": 161,
     "metadata": {},
     "output_type": "execute_result"
    }
   ],
   "source": [
    "type(dV1a.Results)"
   ]
  },
  {
   "cell_type": "code",
   "execution_count": null,
   "metadata": {
    "collapsed": true
   },
   "outputs": [],
   "source": []
  }
 ],
 "metadata": {
  "kernelspec": {
   "display_name": "Python 3",
   "language": "python",
   "name": "python3"
  },
  "language_info": {
   "codemirror_mode": {
    "name": "ipython",
    "version": 3
   },
   "file_extension": ".py",
   "mimetype": "text/x-python",
   "name": "python",
   "nbconvert_exporter": "python",
   "pygments_lexer": "ipython3",
   "version": "3.7.4"
  }
 },
 "nbformat": 4,
 "nbformat_minor": 2
}
