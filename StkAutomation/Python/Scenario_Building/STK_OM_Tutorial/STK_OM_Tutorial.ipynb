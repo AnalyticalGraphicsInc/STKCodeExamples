{
 "cells": [
  {
   "cell_type": "markdown",
   "metadata": {},
   "source": [
    "# STK Object Model Walkthrough using Python"
   ]
  },
  {
   "cell_type": "markdown",
   "metadata": {},
   "source": [
    "## Uncomment and run the cell below the first time you connect to STK with Python on a new computer"
   ]
  },
  {
   "cell_type": "code",
   "execution_count": null,
   "metadata": {
    "collapsed": true,
    "scrolled": true
   },
   "outputs": [],
   "source": [
    "# # Import the comtypes package to connect to an external application\n",
    "# import comtypes\n",
    "# from comtypes.client import CreateObject\n",
    "\n",
    "# # Create a new instance of STK\n",
    "# app = CreateObject('STK12.Application')\n",
    "# app.Visible = True # Needed to view the user interface application\n",
    "\n",
    "# # Get the IAgStkObjectRoot interface\n",
    "# root = app.Personality2\n",
    "\n",
    "# # Note: When 'root=uiApplication.Personality2' is executed, the comtypes library automatically creates a gen folder that contains\n",
    "# # STKObjects and other Python wrappers for the STK libraries. After running this at least once on your computer, the libraries\n",
    "# # should be imported before the 'uiApplication=CreateObject(\"STK11.Application\")' line for improved performance.\n",
    "\n",
    "# # The Astrogator wrapper needs to specifically be loaded with the line below, then AgStkGatorLib is created.\n",
    "# comtypes.client.GetModule((comtypes.GUID(\"{FEAEF02E-48CE-42AE-B99B-FB9871A69E4B}\") ,1,0))\n",
    "\n",
    "# # View the location and newly generated wrappers\n",
    "# import os as os\n",
    "# print(comtypes.client.gen_dir, '\\n')\n",
    "# print(os.listdir(comtypes.client.gen_dir))\n",
    "\n",
    "# # After running this cell comment out this cell.\n",
    "# # Use \"Ctrl\" + \"a\" to select all of the cell content, then Use \"Ctrl\" + \"/\" to toggle comments in Jupyter Notebooks"
   ]
  },
  {
   "cell_type": "markdown",
   "metadata": {},
   "source": [
    "## After running the cell above, you can import the packages directly"
   ]
  },
  {
   "cell_type": "markdown",
   "metadata": {},
   "source": [
    "## A line of code must be added where the comments say ACTION ##"
   ]
  },
  {
   "cell_type": "code",
   "execution_count": null,
   "metadata": {
    "collapsed": true
   },
   "outputs": [],
   "source": [
    "# Import the needed packages\n",
    "import comtypes\n",
    "from comtypes.client import CreateObject\n",
    "from comtypes.client import GetActiveObject\n",
    "from comtypes.gen import STKObjects\n",
    "from comtypes.gen import AgSTKVgtLib"
   ]
  },
  {
   "cell_type": "code",
   "execution_count": null,
   "metadata": {
    "collapsed": true
   },
   "outputs": [],
   "source": [
    "# Create a new instance of STK\n",
    "app = CreateObject(\"STK12.Application\")\n",
    "app.Visible = True\n",
    "app.UserControl = True\n",
    "# Alternatively attach to an existing instance of STK, use the handle app\n",
    "# app = GetActiveObject('STK12.Application')"
   ]
  },
  {
   "cell_type": "markdown",
   "metadata": {},
   "source": [
    "## Build the scenario ## "
   ]
  },
  {
   "cell_type": "code",
   "execution_count": null,
   "metadata": {
    "collapsed": true
   },
   "outputs": [],
   "source": [
    "# Get the IAgStkObjectRoot interface, use the handle root\n",
    "root = app.Personality2\n",
    "# Personality2 is AGI's way for refering to the 2nd implementation of the Object Model"
   ]
  },
  {
   "cell_type": "code",
   "execution_count": null,
   "metadata": {
    "collapsed": true
   },
   "outputs": [],
   "source": [
    "# Create a new scenario called 'STKPythonTutorial' with the handle sc\n",
    "root.NewScenario(\"STKPythonTutorial\")\n",
    "# Attach to an existing Scenario\n",
    "sc = root.CurrentScenario"
   ]
  },
  {
   "cell_type": "code",
   "execution_count": null,
   "metadata": {
    "collapsed": true
   },
   "outputs": [],
   "source": [
    "# Reposition the STK application\n",
    "from win32api import GetSystemMetrics\n",
    "\n",
    "app.Top = 0\n",
    "app.Left = 0\n",
    "app.Width = int(GetSystemMetrics(0) / 2)\n",
    "app.Height = int(GetSystemMetrics(1) - 30)"
   ]
  },
  {
   "cell_type": "code",
   "execution_count": null,
   "metadata": {},
   "outputs": [],
   "source": [
    "# View the classes of each object\n",
    "print(type(app))\n",
    "print(type(root))\n",
    "print(type(sc))\n",
    "# The IAgSTKObject contains properties generic to all STK objects"
   ]
  },
  {
   "cell_type": "code",
   "execution_count": null,
   "metadata": {},
   "outputs": [],
   "source": [
    "# Cast sc into an IAgScenario called sc2 to get Scenario specific properties\n",
    "sc2 = sc.QueryInterface(STKObjects.IAgScenario)\n",
    "# Double check the type is now an IAgScenario\n",
    "type(sc2)"
   ]
  },
  {
   "cell_type": "code",
   "execution_count": null,
   "metadata": {
    "collapsed": true
   },
   "outputs": [],
   "source": [
    "# Set the Scenario time period\n",
    "time1 = \"Today\"\n",
    "time2 = \"+24\"\n",
    "# ACTION: Use time1 and time2 to set the scenario time period"
   ]
  },
  {
   "cell_type": "code",
   "execution_count": null,
   "metadata": {
    "collapsed": true
   },
   "outputs": [],
   "source": [
    "# Rewind the scenario to the start time\n",
    "root.Rewind();"
   ]
  },
  {
   "cell_type": "markdown",
   "metadata": {},
   "source": [
    "### Add a Facility ###"
   ]
  },
  {
   "cell_type": "code",
   "execution_count": null,
   "metadata": {
    "collapsed": true
   },
   "outputs": [],
   "source": [
    "# Add a new facility called 'AGI_Greenbelt' with the handle fac\n",
    "fac = sc.Children.New(STKObjects.eFacility, \"AGI_Greenbelt\")\n",
    "# Cast fac into an IAgFacility called fac2\n",
    "fac2 = fac.QueryInterface(STKObjects.IAgFacility)"
   ]
  },
  {
   "cell_type": "code",
   "execution_count": null,
   "metadata": {
    "collapsed": true
   },
   "outputs": [],
   "source": [
    "# Assign a new geodetic position\n",
    "lat = 39.0095\n",
    "lon = -76.896\n",
    "alt = 0\n",
    "# ACTION: Set the facility's location using lat, lon and alt"
   ]
  },
  {
   "cell_type": "markdown",
   "metadata": {},
   "source": [
    "### Add Satellites ###"
   ]
  },
  {
   "cell_type": "code",
   "execution_count": null,
   "metadata": {
    "collapsed": true
   },
   "outputs": [],
   "source": [
    "# Add a new satellite called 'LEOSat' with the handle sat\n",
    "sat = sc.Children.New(STKObjects.eSatellite, \"LEOSat\")\n",
    "# Get the IAgSatellite interface with the handle sat2\n",
    "sat2 = sat.QueryInterface(STKObjects.IAgSatellite)"
   ]
  },
  {
   "cell_type": "code",
   "execution_count": null,
   "metadata": {},
   "outputs": [],
   "source": [
    "# View Supported Propagator Types\n",
    "sat2.PropagatorSupportedTypes"
   ]
  },
  {
   "cell_type": "code",
   "execution_count": null,
   "metadata": {},
   "outputs": [],
   "source": [
    "# Set the Propagator to J2Perturbation\n",
    "sat2.SetPropagatorType(STKObjects.ePropagatorJ2Perturbation)\n",
    "# Grab a handle for the satellite propagator called prop\n",
    "prop = sat2.Propagator\n",
    "# View the type of the propagator\n",
    "type(prop)\n",
    "# Check the Programming Help for the class type"
   ]
  },
  {
   "cell_type": "code",
   "execution_count": null,
   "metadata": {
    "collapsed": true
   },
   "outputs": [],
   "source": [
    "# Cast prop to the IAgVePropagatorJ2Perturbation interface with the handle prop2\n",
    "prop2 = prop.QueryInterface(STKObjects.IAgVePropagatorJ2Perturbation)"
   ]
  },
  {
   "cell_type": "code",
   "execution_count": null,
   "metadata": {
    "collapsed": true
   },
   "outputs": [],
   "source": [
    "# Propagate the satellite. The UI will now reflect the changes to the propagator\n",
    "prop2.Propagate();"
   ]
  },
  {
   "cell_type": "code",
   "execution_count": null,
   "metadata": {
    "collapsed": true
   },
   "outputs": [],
   "source": [
    "# Update the satellite's Epoch\n",
    "epoch = \"17 Sep 2018 00:00:00.000\"\n",
    "prop2.InitialState.Epoch = epoch"
   ]
  },
  {
   "cell_type": "code",
   "execution_count": null,
   "metadata": {},
   "outputs": [],
   "source": [
    "# Determine the type of prop2.InitialState.Representation\n",
    "type(prop2.InitialState.Representation)\n",
    "# Look up the class in the Programming Help"
   ]
  },
  {
   "cell_type": "code",
   "execution_count": null,
   "metadata": {
    "collapsed": true
   },
   "outputs": [],
   "source": [
    "# Assign the satellite's orbit state using the classical orbital elements in the ICRF Coordinate System\n",
    "coordSys = 11\n",
    "sma = 7000\n",
    "e = 0.01\n",
    "i = 90\n",
    "aop = 270\n",
    "raan = 90\n",
    "ma = 10\n",
    "# ACTION: Assign the orbital elements and propagate the satellite.\n",
    "\n",
    "# ACTION: Propagate the satellite"
   ]
  },
  {
   "cell_type": "code",
   "execution_count": null,
   "metadata": {
    "collapsed": true
   },
   "outputs": [],
   "source": [
    "# Use the New Connect Command to create a 2nd satellite called ConnectSat. Reference the Programming Help\n",
    "cmd = \"New / */Satellite ConnectSat\"\n",
    "root.ExecuteCommand(cmd);"
   ]
  },
  {
   "cell_type": "code",
   "execution_count": null,
   "metadata": {},
   "outputs": [],
   "source": [
    "# Use the following command to set the state of ConnectSat\n",
    "# ACTION: Use the scenario start and stop time in the connect command. Fill in the blanks.\n",
    "cmd = (\n",
    "    'SetState */Satellite/ConnectSat Classical TwoBody \"'\n",
    "    + +'\" \"'\n",
    "    + +'\" 60 ICRF \"'\n",
    "    + +'\" 7000000.0 0.01 90 270 0 10.0'\n",
    ")\n",
    "print(cmd)\n",
    "# ACTION: Execute the Connect Command"
   ]
  },
  {
   "cell_type": "code",
   "execution_count": null,
   "metadata": {
    "collapsed": true
   },
   "outputs": [],
   "source": [
    "# Use the root to get a handle called conSat for ConnectSat by getting the object from a file path\n",
    "conSat = root.GetObjectFromPath(\"*/Satellite/ConnectSat\")"
   ]
  },
  {
   "cell_type": "code",
   "execution_count": null,
   "metadata": {
    "collapsed": true
   },
   "outputs": [],
   "source": [
    "# ACTION: Grab the IAgSatellite interface called conSat2"
   ]
  },
  {
   "cell_type": "code",
   "execution_count": null,
   "metadata": {
    "collapsed": true
   },
   "outputs": [],
   "source": [
    "# Change ConnectSat's color\n",
    "basicAtt = conSat2.Graphics.Attributes.QueryInterface(\n",
    "    STKObjects.IAgVeGfxAttributesBasic\n",
    ")\n",
    "basicAtt.Color = 16776960  # hexadecimal to decimal of the BGR value"
   ]
  },
  {
   "cell_type": "markdown",
   "metadata": {},
   "source": [
    "## Using Analysis Workbench ##"
   ]
  },
  {
   "cell_type": "code",
   "execution_count": null,
   "metadata": {},
   "outputs": [],
   "source": [
    "# Create a new vector from the vector factory\n",
    "vecFac = sat.Vgt.Vectors.Factory\n",
    "type(vecFac)\n",
    "# Create a new displacement vector\n",
    "try:\n",
    "    toFac = vecFac.Create(\n",
    "        \"ToAGI_Greenbelt\", \"Description\", AgSTKVgtLib.eCrdnVectorTypeDisplacement\n",
    "    )\n",
    "except:\n",
    "    toFac = sat.Vgt.Vectors.Item(\"ToAGI_Greenbelt\")\n",
    "type(toFac)"
   ]
  },
  {
   "cell_type": "code",
   "execution_count": null,
   "metadata": {
    "collapsed": true
   },
   "outputs": [],
   "source": [
    "# ACTION: Get a handle for the interface allowing you to access the displacement vector properties"
   ]
  },
  {
   "cell_type": "code",
   "execution_count": null,
   "metadata": {
    "collapsed": true
   },
   "outputs": [],
   "source": [
    "# Ensure the vector goes from LEOSat to AGI_Greenbelt\n",
    "toFac2.Origin.SetPath(\"Satellite/LEOSat Center\")\n",
    "toFac2.Destination.SetPath(\"Facility/AGI_Greenbelt Center\");"
   ]
  },
  {
   "cell_type": "code",
   "execution_count": null,
   "metadata": {
    "collapsed": true
   },
   "outputs": [],
   "source": [
    "# Add the newly created vector to LEOSat\n",
    "vecVO = sat2.VO.Vector.RefCrdns.Add(0, \"Satellite/LEOSat ToAGI_Greenbelt\")\n",
    "vecVO.Visible = 1"
   ]
  },
  {
   "cell_type": "markdown",
   "metadata": {},
   "source": [
    "## Calculate Access  ##"
   ]
  },
  {
   "cell_type": "code",
   "execution_count": null,
   "metadata": {
    "collapsed": true
   },
   "outputs": [],
   "source": [
    "# Get access to AGI_Greenbelt\n",
    "access = sat.GetAccessToObject(fac2)"
   ]
  },
  {
   "cell_type": "code",
   "execution_count": null,
   "metadata": {
    "collapsed": true
   },
   "outputs": [],
   "source": [
    "# ACTION: Compute the access"
   ]
  },
  {
   "cell_type": "code",
   "execution_count": null,
   "metadata": {
    "collapsed": true
   },
   "outputs": [],
   "source": [
    "# Push the computed access intervals into an array called accessTimes\n",
    "accessTimes = access.ComputedAccessIntervalTimes.ToArray(0, -1)\n",
    "# If the types are not all numeric, then the array will actually be a tuple"
   ]
  },
  {
   "cell_type": "code",
   "execution_count": null,
   "metadata": {
    "collapsed": true
   },
   "outputs": [],
   "source": [
    "# Import numpy and pandas to help out\n",
    "import numpy as np\n",
    "import pandas as pd"
   ]
  },
  {
   "cell_type": "code",
   "execution_count": null,
   "metadata": {},
   "outputs": [],
   "source": [
    "# Converts the tuple into an array and then displays the data\n",
    "accessTimes = np.asarray(accessTimes)\n",
    "df = pd.DataFrame({\"Start Time\": accessTimes[:, 0], \"Stop Time\": accessTimes[:, 1]})\n",
    "df"
   ]
  },
  {
   "cell_type": "markdown",
   "metadata": {},
   "source": [
    "## Pulling Data Providers ##"
   ]
  },
  {
   "cell_type": "code",
   "execution_count": null,
   "metadata": {},
   "outputs": [],
   "source": [
    "# Extract the folder called 'Cartesian Velocity' into the handle cartVel\n",
    "cartVel = sat.DataProviders.Item(\"Cartesian Velocity\")\n",
    "# View the type of cartVel\n",
    "type(cartVel)"
   ]
  },
  {
   "cell_type": "code",
   "execution_count": null,
   "metadata": {
    "collapsed": true
   },
   "outputs": [],
   "source": [
    "# Cast cartVel into an IAgDataProviderGroup\n",
    "cartVel = cartVel.QueryInterface(STKObjects.IAgDataProviderGroup)"
   ]
  },
  {
   "cell_type": "code",
   "execution_count": null,
   "metadata": {
    "collapsed": true
   },
   "outputs": [],
   "source": [
    "# Grab a handle for the ICRF folder called CartVelICRF\n",
    "cartVelICRF = cartVel.Group.Item(\"ICRF\")"
   ]
  },
  {
   "cell_type": "code",
   "execution_count": null,
   "metadata": {},
   "outputs": [],
   "source": [
    "# ACTION: Recast cartVelICRF to an IAgDataPrvTimeVar\n",
    "\n",
    "type(cartVelICRF)"
   ]
  },
  {
   "cell_type": "code",
   "execution_count": null,
   "metadata": {
    "collapsed": true
   },
   "outputs": [],
   "source": [
    "# Extract the Time, speed, radial and in-track data providers. Save the output as result\n",
    "elems = [\"Time\", \"speed\", \"radial\", \"in-track\"]\n",
    "startTime = sc2.StartTime\n",
    "stopTime = sc2.StopTime\n",
    "timeStep = 60\n",
    "\n",
    "# ACTION: Execute the desired elements, using the scenario start and stop time and with the desired time step"
   ]
  },
  {
   "cell_type": "code",
   "execution_count": null,
   "metadata": {
    "collapsed": true
   },
   "outputs": [],
   "source": [
    "# Grab each the values from each DataSet\n",
    "time = result.DataSets.Item(0).GetValues()\n",
    "speed = result.DataSets.Item(1).GetValues()\n",
    "radial = result.DataSets.Item(2).GetValues()\n",
    "intrack = result.DataSets.Item(3).GetValues()"
   ]
  },
  {
   "cell_type": "markdown",
   "metadata": {},
   "source": [
    "## Viewing Results ##"
   ]
  },
  {
   "cell_type": "code",
   "execution_count": null,
   "metadata": {},
   "outputs": [],
   "source": [
    "# Use Pandas to show the Satellite Velocity Data\n",
    "df = pd.DataFrame({\"Time\": time, \"Speed\": speed, \"Radial\": radial, \"In-Track\": intrack})\n",
    "df.head(10)"
   ]
  },
  {
   "cell_type": "code",
   "execution_count": null,
   "metadata": {
    "collapsed": true
   },
   "outputs": [],
   "source": [
    "# Import matlplotlib.pyplot to plot the speed\n",
    "import matplotlib.pyplot as plt"
   ]
  },
  {
   "cell_type": "code",
   "execution_count": null,
   "metadata": {},
   "outputs": [],
   "source": [
    "# Plot the speed vs time\n",
    "plt.plot(speed)\n",
    "plt.xlabel(\"Time [mins]\")\n",
    "plt.ylabel(\"[km/sec]\")\n",
    "plt.title(\"Speed vs Time\")\n",
    "plt.show()"
   ]
  },
  {
   "cell_type": "markdown",
   "metadata": {},
   "source": [
    "## Save and Close ##"
   ]
  },
  {
   "cell_type": "code",
   "execution_count": null,
   "metadata": {
    "collapsed": true
   },
   "outputs": [],
   "source": [
    "# Create a folder to save the scenario and contents\n",
    "# import os as os\n",
    "# userDir = root.ExecuteCommand('GetDirectory / DefaultUser').Item(0)\n",
    "# saveFolder =  userDir + '\\\\' + sc.InstanceName\n",
    "# os.mkdir(saveFolder)\n",
    "# # Save the scenario\n",
    "# root.SaveAs(saveFolder + '\\\\' + sc.InstanceName)\n",
    "# print(saveFolder)"
   ]
  },
  {
   "cell_type": "code",
   "execution_count": null,
   "metadata": {
    "collapsed": true
   },
   "outputs": [],
   "source": [
    "# Delete the handles and close STK\n",
    "# del root;\n",
    "# app.Quit();\n",
    "# del app;"
   ]
  }
 ],
 "metadata": {
  "kernelspec": {
   "display_name": "Python 3",
   "language": "python",
   "name": "python3"
  },
  "language_info": {
   "codemirror_mode": {
    "name": "ipython",
    "version": 3
   },
   "file_extension": ".py",
   "mimetype": "text/x-python",
   "name": "python",
   "nbconvert_exporter": "python",
   "pygments_lexer": "ipython3",
   "version": "3.7.4"
  }
 },
 "nbformat": 4,
 "nbformat_minor": 2
}
