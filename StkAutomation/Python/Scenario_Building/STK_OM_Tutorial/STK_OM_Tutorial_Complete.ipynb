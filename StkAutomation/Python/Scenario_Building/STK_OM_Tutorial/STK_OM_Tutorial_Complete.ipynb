{
 "cells": [
  {
   "cell_type": "markdown",
   "metadata": {},
   "source": [
    "# STK Object Model Walkthrough using Python"
   ]
  },
  {
   "cell_type": "markdown",
   "metadata": {},
   "source": [
    "## Uncomment and run the cell below the first time you connect to STK with Python on a new computer"
   ]
  },
  {
   "cell_type": "code",
   "execution_count": 1,
   "metadata": {
    "collapsed": true,
    "scrolled": true
   },
   "outputs": [],
   "source": [
    "# # Import the comtypes package to connect to an external application\n",
    "# import comtypes\n",
    "# from comtypes.client import CreateObject\n",
    "\n",
    "# # Create a new instance of STK\n",
    "# app = CreateObject('STK12.Application')\n",
    "# app.Visible = True # Needed to view the user interface application\n",
    "\n",
    "# # Get the IAgStkObjectRoot interface\n",
    "# root = app.Personality2\n",
    "\n",
    "# # Note: When 'root=uiApplication.Personality2' is executed, the comtypes library automatically creates a gen folder that contains\n",
    "# # STKObjects and other Python wrappers for the STK libraries. After running this at least once on your computer, the libraries\n",
    "# # should be imported before the 'uiApplication=CreateObject(\"STK12.Application\")' line for improved performance.\n",
    "\n",
    "# # The Astrogator wrapper needs to specifically be loaded with the line below, then AgStkGatorLib is created.\n",
    "# comtypes.client.GetModule((comtypes.GUID(\"{FEAEF02E-48CE-42AE-B99B-FB9871A69E4B}\") ,1,0))\n",
    "\n",
    "# # View the location and newly generated wrappers\n",
    "# import os as os\n",
    "# print(comtypes.client.gen_dir, '\\n')\n",
    "# print(os.listdir(comtypes.client.gen_dir))\n",
    "\n",
    "# # After running this cell comment out this cell.\n",
    "# # Use \"Ctrl\" + \"a\" to select all of the cell content, then Use \"Ctrl\" + \"/\" to toggle comments in Jupyter Notebooks"
   ]
  },
  {
   "cell_type": "markdown",
   "metadata": {},
   "source": [
    "## After running the cell above, you can import the packages directly"
   ]
  },
  {
   "cell_type": "markdown",
   "metadata": {},
   "source": [
    "## A line of code must be added where the comments say ACTION ##"
   ]
  },
  {
   "cell_type": "code",
   "execution_count": 2,
   "metadata": {
    "collapsed": true
   },
   "outputs": [],
   "source": [
    "# Import the needed packages\n",
    "import comtypes\n",
    "from comtypes.client import CreateObject\n",
    "from comtypes.client import GetActiveObject\n",
    "from comtypes.gen import STKObjects\n",
    "from comtypes.gen import AgSTKVgtLib"
   ]
  },
  {
   "cell_type": "code",
   "execution_count": 3,
   "metadata": {
    "collapsed": true
   },
   "outputs": [],
   "source": [
    "# Create a new instance of STK\n",
    "app = CreateObject(\"STK12.Application\")\n",
    "app.Visible = True\n",
    "app.UserControl = True\n",
    "# Alternatively attach to an existing instance of STK, use the handle app\n",
    "# app = GetActiveObject('STK11.Application')"
   ]
  },
  {
   "cell_type": "markdown",
   "metadata": {},
   "source": [
    "## Build the scenario ## "
   ]
  },
  {
   "cell_type": "code",
   "execution_count": 4,
   "metadata": {
    "collapsed": true
   },
   "outputs": [],
   "source": [
    "# Get the IAgStkObjectRoot interface, use the handle root\n",
    "root = app.Personality2\n",
    "# Personality2 is AGI's way for refering to the 2nd implementation of the Object Model"
   ]
  },
  {
   "cell_type": "code",
   "execution_count": 5,
   "metadata": {
    "collapsed": true
   },
   "outputs": [],
   "source": [
    "# Create a new scenario called 'STKPythonTutorial' with the handle sc\n",
    "root.NewScenario(\"STKPythonTutorial\")\n",
    "# Attach to an existing Scenario\n",
    "sc = root.CurrentScenario"
   ]
  },
  {
   "cell_type": "code",
   "execution_count": 6,
   "metadata": {
    "collapsed": true
   },
   "outputs": [],
   "source": [
    "# Reposition the STK application\n",
    "from win32api import GetSystemMetrics\n",
    "\n",
    "app.Top = 0\n",
    "app.Left = 0\n",
    "app.Width = int(GetSystemMetrics(0) / 2)\n",
    "app.Height = int(GetSystemMetrics(1) - 30)"
   ]
  },
  {
   "cell_type": "code",
   "execution_count": 7,
   "metadata": {},
   "outputs": [
    {
     "name": "stdout",
     "output_type": "stream",
     "text": [
      "<class 'comtypes.POINTER(_IAgUiApplication)'>\n",
      "<class 'comtypes.POINTER(_IAgStkObjectRoot)'>\n",
      "<class 'comtypes.POINTER(IAgStkObject)'>\n"
     ]
    }
   ],
   "source": [
    "# View the classes of each object\n",
    "print(type(app))\n",
    "print(type(root))\n",
    "print(type(sc))\n",
    "# The IAgSTKObject contains properties generic to all STK objects"
   ]
  },
  {
   "cell_type": "code",
   "execution_count": 8,
   "metadata": {},
   "outputs": [
    {
     "data": {
      "text/plain": [
       "comtypes.POINTER(IAgScenario)"
      ]
     },
     "execution_count": 8,
     "metadata": {},
     "output_type": "execute_result"
    }
   ],
   "source": [
    "# Cast sc into an IAgScenario called sc2 to get Scenario specific properties\n",
    "sc2 = sc.QueryInterface(STKObjects.IAgScenario)\n",
    "# Double check the type is now an IAgScenario\n",
    "type(sc2)"
   ]
  },
  {
   "cell_type": "code",
   "execution_count": 9,
   "metadata": {
    "collapsed": true
   },
   "outputs": [],
   "source": [
    "# Set the Scenario time period\n",
    "time1 = \"Today\"\n",
    "time2 = \"+24\"\n",
    "# ACTION: Use time1 and time2 to set the scenario time period\n",
    "sc2.SetTimePeriod(time1, time2);"
   ]
  },
  {
   "cell_type": "code",
   "execution_count": 10,
   "metadata": {
    "collapsed": true
   },
   "outputs": [],
   "source": [
    "# Rewind the scenario to the start time\n",
    "root.Rewind();"
   ]
  },
  {
   "cell_type": "markdown",
   "metadata": {},
   "source": [
    "### Add a Facility ###"
   ]
  },
  {
   "cell_type": "code",
   "execution_count": 11,
   "metadata": {
    "collapsed": true
   },
   "outputs": [],
   "source": [
    "# Add a new facility called 'AGI_Greenbelt' with the handle fac\n",
    "fac = sc.Children.New(STKObjects.eFacility, \"AGI_Greenbelt\")\n",
    "# Cast fac into an IAgFacility called fac2\n",
    "fac2 = fac.QueryInterface(STKObjects.IAgFacility)"
   ]
  },
  {
   "cell_type": "code",
   "execution_count": 12,
   "metadata": {
    "collapsed": true
   },
   "outputs": [],
   "source": [
    "# Assign a new geodetic position\n",
    "lat = 39.0095\n",
    "lon = -76.896\n",
    "alt = 0\n",
    "# ACTION: Set the facility's location using lat, lon and alt\n",
    "fac2.Position.AssignGeodetic(lat, lon, alt);"
   ]
  },
  {
   "cell_type": "markdown",
   "metadata": {},
   "source": [
    "### Add Satellites ###"
   ]
  },
  {
   "cell_type": "code",
   "execution_count": 13,
   "metadata": {
    "collapsed": true
   },
   "outputs": [],
   "source": [
    "# Add a new satellite called 'LEOSat' with the handle sat\n",
    "sat = sc.Children.New(STKObjects.eSatellite, \"LEOSat\")\n",
    "# Get the IAgSatellite interface with the handle sat2\n",
    "sat2 = sat.QueryInterface(STKObjects.IAgSatellite)"
   ]
  },
  {
   "cell_type": "code",
   "execution_count": 14,
   "metadata": {},
   "outputs": [
    {
     "data": {
      "text/plain": [
       "((16, '11Parameter'),\n",
       " (12, 'Astrogator'),\n",
       " (14, 'GPS'),\n",
       " (0, 'HPOP'),\n",
       " (1, 'J2Perturbation'),\n",
       " (2, 'J4Perturbation'),\n",
       " (3, 'LOP'),\n",
       " (13, 'RealTime'),\n",
       " (4, 'SGP4'),\n",
       " (17, 'SP3'),\n",
       " (5, 'SPICE'),\n",
       " (6, 'StkExternal'),\n",
       " (7, 'TwoBody'),\n",
       " (8, 'UserExternal'))"
      ]
     },
     "execution_count": 14,
     "metadata": {},
     "output_type": "execute_result"
    }
   ],
   "source": [
    "# View Supported Propagator Types\n",
    "sat2.PropagatorSupportedTypes"
   ]
  },
  {
   "cell_type": "code",
   "execution_count": 15,
   "metadata": {},
   "outputs": [
    {
     "data": {
      "text/plain": [
       "comtypes.POINTER(IAgVePropagator)"
      ]
     },
     "execution_count": 15,
     "metadata": {},
     "output_type": "execute_result"
    }
   ],
   "source": [
    "# Set the Propagator to J2Perturbation\n",
    "sat2.SetPropagatorType(STKObjects.ePropagatorJ2Perturbation)\n",
    "# Grab a handle for the satellite propagator called prop\n",
    "prop = sat2.Propagator\n",
    "# View the type of the propagator\n",
    "type(prop)\n",
    "# Check the Programming Help for the class type"
   ]
  },
  {
   "cell_type": "code",
   "execution_count": 16,
   "metadata": {
    "collapsed": true
   },
   "outputs": [],
   "source": [
    "# Cast prop to the IAgVePropagatorJ2Perturbation interface with the handle prop2\n",
    "prop2 = prop.QueryInterface(STKObjects.IAgVePropagatorJ2Perturbation)"
   ]
  },
  {
   "cell_type": "code",
   "execution_count": 17,
   "metadata": {
    "collapsed": true
   },
   "outputs": [],
   "source": [
    "# Propagate the satellite. The UI will now reflect the changes to the propagator\n",
    "prop2.Propagate();"
   ]
  },
  {
   "cell_type": "code",
   "execution_count": 18,
   "metadata": {
    "collapsed": true
   },
   "outputs": [],
   "source": [
    "# Update the satellite's Epoch\n",
    "epoch = \"17 Sep 2018 00:00:00.000\"\n",
    "prop2.InitialState.Epoch = epoch"
   ]
  },
  {
   "cell_type": "code",
   "execution_count": 19,
   "metadata": {},
   "outputs": [
    {
     "data": {
      "text/plain": [
       "comtypes.POINTER(IAgOrbitState)"
      ]
     },
     "execution_count": 19,
     "metadata": {},
     "output_type": "execute_result"
    }
   ],
   "source": [
    "# Determine the type of prop2.InitialState.Representation\n",
    "type(prop2.InitialState.Representation)\n",
    "# Look up the class in the Programming Help"
   ]
  },
  {
   "cell_type": "code",
   "execution_count": 20,
   "metadata": {
    "collapsed": true
   },
   "outputs": [],
   "source": [
    "# Assign the satellite's orbit state using the classical orbital elements in the ICRF Coordinate System\n",
    "coordSys = 11\n",
    "sma = 7000\n",
    "e = 0.01\n",
    "i = 90\n",
    "aop = 270\n",
    "raan = 90\n",
    "ma = 10\n",
    "# ACTION: Assign the orbital elements and propagate the satellite.\n",
    "prop2.InitialState.Representation.AssignClassical(coordSys, sma, e, i, aop, raan, ma)\n",
    "# ACTION: Propagate the satellite\n",
    "prop2.Propagate();"
   ]
  },
  {
   "cell_type": "code",
   "execution_count": 21,
   "metadata": {
    "collapsed": true
   },
   "outputs": [],
   "source": [
    "# Use the New Connect Command to create a 2nd satellite called ConnectSat. Reference the Programming Help\n",
    "cmd = \"New / */Satellite ConnectSat\"\n",
    "root.ExecuteCommand(cmd);"
   ]
  },
  {
   "cell_type": "code",
   "execution_count": 22,
   "metadata": {},
   "outputs": [
    {
     "name": "stdout",
     "output_type": "stream",
     "text": [
      "SetState */Satellite/ConnectSat Classical TwoBody \"6 Nov 2018 05:00:00.000\" \"7 Nov 2018 05:00:00.000\" 60 ICRF \"6 Nov 2018 05:00:00.000\" 7000000.0 0.01 90 270 0 10.0\n"
     ]
    }
   ],
   "source": [
    "# Use the following command to set the state of ConnectSat\n",
    "# ACTION: Use the scenario start and stop time in the connect command. Fill in the blanks.\n",
    "cmd = (\n",
    "    'SetState */Satellite/ConnectSat Classical TwoBody \"'\n",
    "    + sc2.StartTime\n",
    "    + '\" \"'\n",
    "    + sc2.StopTime\n",
    "    + '\" 60 ICRF \"'\n",
    "    + sc2.StartTime\n",
    "    + '\" 7000000.0 0.01 90 270 0 10.0'\n",
    ")\n",
    "print(cmd)\n",
    "# ACTION: Execute the Connect Command\n",
    "root.ExecuteCommand(cmd);"
   ]
  },
  {
   "cell_type": "code",
   "execution_count": 23,
   "metadata": {
    "collapsed": true
   },
   "outputs": [],
   "source": [
    "# Use the root to get a handle called conSat for ConnectSat by getting the object from a file path\n",
    "conSat = root.GetObjectFromPath(\"*/Satellite/ConnectSat\")"
   ]
  },
  {
   "cell_type": "code",
   "execution_count": 24,
   "metadata": {
    "collapsed": true
   },
   "outputs": [],
   "source": [
    "# ACTION: Grab the IAgSatellite interface called conSat2\n",
    "conSat2 = conSat.QueryInterface(STKObjects.IAgSatellite)"
   ]
  },
  {
   "cell_type": "code",
   "execution_count": 25,
   "metadata": {
    "collapsed": true
   },
   "outputs": [],
   "source": [
    "# Change ConnectSat's color\n",
    "basicAtt = conSat2.Graphics.Attributes.QueryInterface(\n",
    "    STKObjects.IAgVeGfxAttributesBasic\n",
    ")\n",
    "basicAtt.Color = 16776960  # hexadecimal to decimal of the BGR value"
   ]
  },
  {
   "cell_type": "markdown",
   "metadata": {},
   "source": [
    "## Using Analysis Workbench ##"
   ]
  },
  {
   "cell_type": "code",
   "execution_count": 26,
   "metadata": {},
   "outputs": [
    {
     "data": {
      "text/plain": [
       "comtypes.POINTER(IAgCrdnVector)"
      ]
     },
     "execution_count": 26,
     "metadata": {},
     "output_type": "execute_result"
    }
   ],
   "source": [
    "# Create a new vector from the vector factory\n",
    "vecFac = sat.Vgt.Vectors.Factory\n",
    "type(vecFac)\n",
    "# Create a new displacement vector\n",
    "try:\n",
    "    toFac = vecFac.Create(\n",
    "        \"ToAGI_Greenbelt\", \"Description\", AgSTKVgtLib.eCrdnVectorTypeDisplacement\n",
    "    )\n",
    "except:\n",
    "    toFac = sat.Vgt.Vectors.Item(\"ToAGI_Greenbelt\")\n",
    "type(toFac)"
   ]
  },
  {
   "cell_type": "code",
   "execution_count": 27,
   "metadata": {
    "collapsed": true
   },
   "outputs": [],
   "source": [
    "# ACTION: Get a handle for the interface allowing you to access the displacement vector properties\n",
    "toFac2 = toFac.QueryInterface(AgSTKVgtLib.IAgCrdnVectorDisplacement)"
   ]
  },
  {
   "cell_type": "code",
   "execution_count": 28,
   "metadata": {
    "collapsed": true
   },
   "outputs": [],
   "source": [
    "# Ensure the vector goes from LEOSat to AGI_Greenbelt\n",
    "toFac2.Origin.SetPath(\"Satellite/LEOSat Center\")\n",
    "toFac2.Destination.SetPath(\"Facility/AGI_Greenbelt Center\");"
   ]
  },
  {
   "cell_type": "code",
   "execution_count": 29,
   "metadata": {
    "collapsed": true
   },
   "outputs": [],
   "source": [
    "# Add the newly created vector to LEOSat\n",
    "vecVO = sat2.VO.Vector.RefCrdns.Add(0, \"Satellite/LEOSat ToAGI_Greenbelt\")\n",
    "vecVO.Visible = 1"
   ]
  },
  {
   "cell_type": "markdown",
   "metadata": {},
   "source": [
    "## Calculate Access  ##"
   ]
  },
  {
   "cell_type": "code",
   "execution_count": 30,
   "metadata": {
    "collapsed": true
   },
   "outputs": [],
   "source": [
    "# Get access to AGI_Greenbelt\n",
    "access = sat.GetAccessToObject(fac2)"
   ]
  },
  {
   "cell_type": "code",
   "execution_count": 31,
   "metadata": {
    "collapsed": true
   },
   "outputs": [],
   "source": [
    "# ACTION: Compute the access\n",
    "access.ComputeAccess();"
   ]
  },
  {
   "cell_type": "code",
   "execution_count": 32,
   "metadata": {
    "collapsed": true
   },
   "outputs": [],
   "source": [
    "# Push the computed access intervals into an array called accessTimes\n",
    "accessTimes = access.ComputedAccessIntervalTimes.ToArray(0, -1)\n",
    "# If the types are not all numeric, then the array will actually be a tuple"
   ]
  },
  {
   "cell_type": "code",
   "execution_count": 33,
   "metadata": {
    "collapsed": true
   },
   "outputs": [],
   "source": [
    "# Import numpy and pandas to help out\n",
    "import numpy as np\n",
    "import pandas as pd"
   ]
  },
  {
   "cell_type": "code",
   "execution_count": 34,
   "metadata": {},
   "outputs": [
    {
     "data": {
      "text/html": [
       "<div>\n",
       "<style>\n",
       "    .dataframe thead tr:only-child th {\n",
       "        text-align: right;\n",
       "    }\n",
       "\n",
       "    .dataframe thead th {\n",
       "        text-align: left;\n",
       "    }\n",
       "\n",
       "    .dataframe tbody tr th {\n",
       "        vertical-align: top;\n",
       "    }\n",
       "</style>\n",
       "<table border=\"1\" class=\"dataframe\">\n",
       "  <thead>\n",
       "    <tr style=\"text-align: right;\">\n",
       "      <th></th>\n",
       "      <th>Start Time</th>\n",
       "      <th>Stop Time</th>\n",
       "    </tr>\n",
       "  </thead>\n",
       "  <tbody>\n",
       "    <tr>\n",
       "      <th>0</th>\n",
       "      <td>6 Nov 2018 06:39:20.349</td>\n",
       "      <td>6 Nov 2018 06:48:52.610</td>\n",
       "    </tr>\n",
       "    <tr>\n",
       "      <th>1</th>\n",
       "      <td>6 Nov 2018 08:14:23.724</td>\n",
       "      <td>6 Nov 2018 08:26:58.207</td>\n",
       "    </tr>\n",
       "    <tr>\n",
       "      <th>2</th>\n",
       "      <td>6 Nov 2018 09:56:14.114</td>\n",
       "      <td>6 Nov 2018 10:01:07.890</td>\n",
       "    </tr>\n",
       "    <tr>\n",
       "      <th>3</th>\n",
       "      <td>6 Nov 2018 18:26:51.911</td>\n",
       "      <td>6 Nov 2018 18:35:42.321</td>\n",
       "    </tr>\n",
       "    <tr>\n",
       "      <th>4</th>\n",
       "      <td>6 Nov 2018 20:02:35.168</td>\n",
       "      <td>6 Nov 2018 20:15:15.172</td>\n",
       "    </tr>\n",
       "    <tr>\n",
       "      <th>5</th>\n",
       "      <td>6 Nov 2018 21:41:41.752</td>\n",
       "      <td>6 Nov 2018 21:48:35.619</td>\n",
       "    </tr>\n",
       "  </tbody>\n",
       "</table>\n",
       "</div>"
      ],
      "text/plain": [
       "                Start Time                Stop Time\n",
       "0  6 Nov 2018 06:39:20.349  6 Nov 2018 06:48:52.610\n",
       "1  6 Nov 2018 08:14:23.724  6 Nov 2018 08:26:58.207\n",
       "2  6 Nov 2018 09:56:14.114  6 Nov 2018 10:01:07.890\n",
       "3  6 Nov 2018 18:26:51.911  6 Nov 2018 18:35:42.321\n",
       "4  6 Nov 2018 20:02:35.168  6 Nov 2018 20:15:15.172\n",
       "5  6 Nov 2018 21:41:41.752  6 Nov 2018 21:48:35.619"
      ]
     },
     "execution_count": 34,
     "metadata": {},
     "output_type": "execute_result"
    }
   ],
   "source": [
    "# Converts the tuple into an array and then displays the data\n",
    "accessTimes = np.asarray(accessTimes)\n",
    "df = pd.DataFrame({\"Start Time\": accessTimes[:, 0], \"Stop Time\": accessTimes[:, 1]})\n",
    "df"
   ]
  },
  {
   "cell_type": "markdown",
   "metadata": {},
   "source": [
    "## Pulling Data Providers ##"
   ]
  },
  {
   "cell_type": "code",
   "execution_count": 35,
   "metadata": {},
   "outputs": [
    {
     "data": {
      "text/plain": [
       "comtypes.POINTER(IAgDataProviderInfo)"
      ]
     },
     "execution_count": 35,
     "metadata": {},
     "output_type": "execute_result"
    }
   ],
   "source": [
    "# Extract the folder called 'Cartesian Velocity' into the handle cartVel\n",
    "cartVel = sat.DataProviders.Item(\"Cartesian Velocity\")\n",
    "# View the type of cartVel\n",
    "type(cartVel)"
   ]
  },
  {
   "cell_type": "code",
   "execution_count": 36,
   "metadata": {
    "collapsed": true
   },
   "outputs": [],
   "source": [
    "# Cast cartVel into an IAgDataProviderGroup\n",
    "cartVel = cartVel.QueryInterface(STKObjects.IAgDataProviderGroup)"
   ]
  },
  {
   "cell_type": "code",
   "execution_count": 37,
   "metadata": {
    "collapsed": true
   },
   "outputs": [],
   "source": [
    "# Grab a handle for the ICRF folder called CartVelICRF\n",
    "cartVelICRF = cartVel.Group.Item(\"ICRF\")"
   ]
  },
  {
   "cell_type": "code",
   "execution_count": 38,
   "metadata": {},
   "outputs": [
    {
     "data": {
      "text/plain": [
       "comtypes.POINTER(IAgDataPrvTimeVar)"
      ]
     },
     "execution_count": 38,
     "metadata": {},
     "output_type": "execute_result"
    }
   ],
   "source": [
    "# ACTION: Recast cartVelICRF to an IAgDataPrvTimeVar\n",
    "cartVelICRF = cartVelICRF.QueryInterface(STKObjects.IAgDataPrvTimeVar)\n",
    "type(cartVelICRF)"
   ]
  },
  {
   "cell_type": "code",
   "execution_count": 39,
   "metadata": {
    "collapsed": true
   },
   "outputs": [],
   "source": [
    "# Extract the Time, speed, radial and in-track data providers. Save the output as result\n",
    "elems = [\"Time\", \"speed\", \"radial\", \"in-track\"]\n",
    "startTime = sc2.StartTime\n",
    "stopTime = sc2.StopTime\n",
    "timeStep = 60\n",
    "\n",
    "# ACTION: Execute the desired elements, using the scenario start and stop time and with the desired time step\n",
    "result = cartVelICRF.ExecElements(startTime, stopTime, timeStep, elems)"
   ]
  },
  {
   "cell_type": "code",
   "execution_count": 40,
   "metadata": {
    "collapsed": true
   },
   "outputs": [],
   "source": [
    "# Grab each the values from each DataSet\n",
    "time = result.DataSets.Item(0).GetValues()\n",
    "speed = result.DataSets.Item(1).GetValues()\n",
    "radial = result.DataSets.Item(2).GetValues()\n",
    "intrack = result.DataSets.Item(3).GetValues()"
   ]
  },
  {
   "cell_type": "markdown",
   "metadata": {},
   "source": [
    "## Viewing Results ##"
   ]
  },
  {
   "cell_type": "code",
   "execution_count": 41,
   "metadata": {},
   "outputs": [
    {
     "data": {
      "text/html": [
       "<div>\n",
       "<style>\n",
       "    .dataframe thead tr:only-child th {\n",
       "        text-align: right;\n",
       "    }\n",
       "\n",
       "    .dataframe thead th {\n",
       "        text-align: left;\n",
       "    }\n",
       "\n",
       "    .dataframe tbody tr th {\n",
       "        vertical-align: top;\n",
       "    }\n",
       "</style>\n",
       "<table border=\"1\" class=\"dataframe\">\n",
       "  <thead>\n",
       "    <tr style=\"text-align: right;\">\n",
       "      <th></th>\n",
       "      <th>In-Track</th>\n",
       "      <th>Radial</th>\n",
       "      <th>Speed</th>\n",
       "      <th>Time</th>\n",
       "    </tr>\n",
       "  </thead>\n",
       "  <tbody>\n",
       "    <tr>\n",
       "      <th>0</th>\n",
       "      <td>7.567318</td>\n",
       "      <td>-0.072516</td>\n",
       "      <td>7.567666</td>\n",
       "      <td>6 Nov 2018 05:00:00.000000000</td>\n",
       "    </tr>\n",
       "    <tr>\n",
       "      <th>1</th>\n",
       "      <td>7.571988</td>\n",
       "      <td>-0.071005</td>\n",
       "      <td>7.572321</td>\n",
       "      <td>6 Nov 2018 05:01:00.000000000</td>\n",
       "    </tr>\n",
       "    <tr>\n",
       "      <th>2</th>\n",
       "      <td>7.576554</td>\n",
       "      <td>-0.069191</td>\n",
       "      <td>7.576870</td>\n",
       "      <td>6 Nov 2018 05:02:00.000000000</td>\n",
       "    </tr>\n",
       "    <tr>\n",
       "      <th>3</th>\n",
       "      <td>7.580999</td>\n",
       "      <td>-0.067081</td>\n",
       "      <td>7.581295</td>\n",
       "      <td>6 Nov 2018 05:03:00.000000000</td>\n",
       "    </tr>\n",
       "    <tr>\n",
       "      <th>4</th>\n",
       "      <td>7.585301</td>\n",
       "      <td>-0.064684</td>\n",
       "      <td>7.585577</td>\n",
       "      <td>6 Nov 2018 05:04:00.000000000</td>\n",
       "    </tr>\n",
       "    <tr>\n",
       "      <th>5</th>\n",
       "      <td>7.589442</td>\n",
       "      <td>-0.062007</td>\n",
       "      <td>7.589695</td>\n",
       "      <td>6 Nov 2018 05:05:00.000000000</td>\n",
       "    </tr>\n",
       "    <tr>\n",
       "      <th>6</th>\n",
       "      <td>7.593404</td>\n",
       "      <td>-0.059063</td>\n",
       "      <td>7.593633</td>\n",
       "      <td>6 Nov 2018 05:06:00.000000000</td>\n",
       "    </tr>\n",
       "    <tr>\n",
       "      <th>7</th>\n",
       "      <td>7.597168</td>\n",
       "      <td>-0.055862</td>\n",
       "      <td>7.597373</td>\n",
       "      <td>6 Nov 2018 05:07:00.000000000</td>\n",
       "    </tr>\n",
       "    <tr>\n",
       "      <th>8</th>\n",
       "      <td>7.600718</td>\n",
       "      <td>-0.052419</td>\n",
       "      <td>7.600899</td>\n",
       "      <td>6 Nov 2018 05:08:00.000000000</td>\n",
       "    </tr>\n",
       "    <tr>\n",
       "      <th>9</th>\n",
       "      <td>7.604038</td>\n",
       "      <td>-0.048747</td>\n",
       "      <td>7.604194</td>\n",
       "      <td>6 Nov 2018 05:09:00.000000000</td>\n",
       "    </tr>\n",
       "  </tbody>\n",
       "</table>\n",
       "</div>"
      ],
      "text/plain": [
       "   In-Track    Radial     Speed                           Time\n",
       "0  7.567318 -0.072516  7.567666  6 Nov 2018 05:00:00.000000000\n",
       "1  7.571988 -0.071005  7.572321  6 Nov 2018 05:01:00.000000000\n",
       "2  7.576554 -0.069191  7.576870  6 Nov 2018 05:02:00.000000000\n",
       "3  7.580999 -0.067081  7.581295  6 Nov 2018 05:03:00.000000000\n",
       "4  7.585301 -0.064684  7.585577  6 Nov 2018 05:04:00.000000000\n",
       "5  7.589442 -0.062007  7.589695  6 Nov 2018 05:05:00.000000000\n",
       "6  7.593404 -0.059063  7.593633  6 Nov 2018 05:06:00.000000000\n",
       "7  7.597168 -0.055862  7.597373  6 Nov 2018 05:07:00.000000000\n",
       "8  7.600718 -0.052419  7.600899  6 Nov 2018 05:08:00.000000000\n",
       "9  7.604038 -0.048747  7.604194  6 Nov 2018 05:09:00.000000000"
      ]
     },
     "execution_count": 41,
     "metadata": {},
     "output_type": "execute_result"
    }
   ],
   "source": [
    "# Use Pandas to show the Satellite Velocity Data\n",
    "df = pd.DataFrame({\"Time\": time, \"Speed\": speed, \"Radial\": radial, \"In-Track\": intrack})\n",
    "df.head(10)"
   ]
  },
  {
   "cell_type": "code",
   "execution_count": 42,
   "metadata": {
    "collapsed": true
   },
   "outputs": [],
   "source": [
    "# Import matlplotlib.pyplot to plot the speed\n",
    "import matplotlib.pyplot as plt"
   ]
  },
  {
   "cell_type": "code",
   "execution_count": 43,
   "metadata": {},
   "outputs": [
    {
     "data": {
      "image/png": "[encoded data removed]",
      "text/plain": [
       "<matplotlib.figure.Figure at 0x253c4f7f470>"
      ]
     },
     "metadata": {},
     "output_type": "display_data"
    }
   ],
   "source": [
    "# Plot the speed vs time\n",
    "plt.plot(speed)\n",
    "plt.xlabel(\"Time [mins]\")\n",
    "plt.ylabel(\"[km/sec]\")\n",
    "plt.title(\"Speed vs Time\")\n",
    "plt.show()"
   ]
  },
  {
   "cell_type": "markdown",
   "metadata": {},
   "source": [
    "## Save and Close ##"
   ]
  },
  {
   "cell_type": "code",
   "execution_count": 44,
   "metadata": {
    "collapsed": true
   },
   "outputs": [],
   "source": [
    "# Create a folder to save the scenario and contents\n",
    "# import os as os\n",
    "# userDir = root.ExecuteCommand('GetDirectory / DefaultUser').Item(0)\n",
    "# saveFolder =  userDir + '\\\\' + sc.InstanceName\n",
    "# os.mkdir(saveFolder)\n",
    "# # Save the scenario\n",
    "# root.SaveAs(saveFolder + '\\\\' + sc.InstanceName)\n",
    "# print(saveFolder)"
   ]
  },
  {
   "cell_type": "code",
   "execution_count": 45,
   "metadata": {
    "collapsed": true
   },
   "outputs": [],
   "source": [
    "# Delete the handles and close STK\n",
    "# del root;\n",
    "# app.Quit();\n",
    "# del app;"
   ]
  }
 ],
 "metadata": {
  "kernelspec": {
   "display_name": "Python 3",
   "language": "python",
   "name": "python3"
  },
  "language_info": {
   "codemirror_mode": {
    "name": "ipython",
    "version": 3
   },
   "file_extension": ".py",
   "mimetype": "text/x-python",
   "name": "python",
   "nbconvert_exporter": "python",
   "pygments_lexer": "ipython3",
   "version": "3.7.4"
  }
 },
 "nbformat": 4,
 "nbformat_minor": 2
}
