{
 "cells": [
  {
   "cell_type": "markdown",
   "id": "9fd37373-d1c6-4e27-aef0-a8f6fc5fc979",
   "metadata": {},
   "source": [
    "#### this script demostrates the use of single segment mode (or individual segment mode)\n",
    "##### it will create a new satellite and raise apogee to 10000 km using small maneuvers at perigee using single segment mode. This is similar to the auto-sequence tutorial. The script assumes a scenario is open and does not contain a satellite named SingleSegmentSat\n",
    "##### author: jens ramrath, agi\n",
    "##### date: 23 oct 2024"
   ]
  },
  {
   "cell_type": "markdown",
   "id": "6e82508a-32be-479b-961f-427f006b95d3",
   "metadata": {},
   "source": [
    "### connect to running instance of STK"
   ]
  },
  {
   "cell_type": "code",
   "execution_count": null,
   "id": "bed5a81c-df08-4274-8fed-b44de3a94c76",
   "metadata": {},
   "outputs": [],
   "source": [
    "from agi.stk12.stkdesktop import STKDesktop\n",
    "from agi.stk12.stkobjects import *\n",
    "from agi.stk12.stkobjects.astrogator import *\n",
    "\n",
    "stk = STKDesktop.AttachToApplication()\n",
    "root = stk.Root\n",
    "sc = root.CurrentScenario\n",
    "\n",
    "print('connected to ' + sc.InstanceName)"
   ]
  },
  {
   "cell_type": "markdown",
   "id": "bb783e0a-c93e-4d41-a22b-6458dc8f7689",
   "metadata": {},
   "source": [
    "### create new satellite and set up MCS\n",
    "we'll have\n",
    "1. Initial State - keep the default\n",
    "2. Propagate - replace Duration stopping condition with Periapsis\n",
    "3. Maneuver - 20 m/sec intrack"
   ]
  },
  {
   "cell_type": "code",
   "execution_count": null,
   "id": "6c8ed73e-e6d4-41d2-ab4e-dd08c97e631b",
   "metadata": {},
   "outputs": [],
   "source": [
    "# create new satellite\n",
    "sat = sc.Children.New(AgESTKObjectType.eSatellite, 'SingleSegmentSat')\n",
    "sat.SetPropagatorType(AgEVePropagatorType.ePropagatorAstrogator)\n",
    "prop = sat.Propagator\n",
    "\n",
    "# initial state\n",
    "# get handle to initial state\n",
    "iSegment = prop.MainSequence.Item(0)\n",
    "\n",
    "# propagate\n",
    "# get handle to propagate segment\n",
    "pSegment = prop.MainSequence.Item(1)\n",
    "# add periapsis stopping condition\n",
    "pSegment.StoppingConditions.Add('Periapsis')\n",
    "# remove default Duration stopping condition\n",
    "pSegment.StoppingConditions.Remove('Duration')\n",
    "# add apoapsis radius result so we can rasily query it\n",
    "pSegment.Results.Add('Radius of Apoapsis')\n",
    "\n",
    "# maneuver\n",
    "# add maneuver at end\n",
    "mSegment = prop.MainSequence.InsertByName('Maneuver', '-')\n",
    "# specify small thrust\n",
    "mSegment.Maneuver.AttitudeControl.DeltaVMagnitude = 0.02"
   ]
  },
  {
   "cell_type": "markdown",
   "id": "f159b2b0-35fe-45ae-98ac-b2b596da7e7e",
   "metadata": {},
   "source": [
    "### RUN"
   ]
  },
  {
   "cell_type": "code",
   "execution_count": null,
   "id": "d0c0598e-58a5-4d60-ada9-86af511cbdfc",
   "metadata": {},
   "outputs": [],
   "source": [
    "# start new run\n",
    "prop.BeginRun()\n",
    "\n",
    "# add initial state\n",
    "iSegment.Run()\n",
    "\n",
    "# add propagate segment\n",
    "pSegment.Run()\n",
    "\n",
    "# propagate\n",
    "prop.EndRun()\n",
    "\n",
    "# get final apo radius\n",
    "rop = pSegment.GetResultValue('Radius of Apoapsis')\n",
    "print('apogee radius: ' + str(rop))\n",
    "\n",
    "# add maneuver and propagate segments until perigee radius is above limit\n",
    "while rop < 10000:\n",
    "    # last segment state\n",
    "    rSegment = prop.MainSequence.GetItemByName('-')\n",
    "    \n",
    "    # append to last segment\n",
    "    prop.AppendRun()\n",
    "\n",
    "    # add maneuver and propagate\n",
    "    mSegment.Run()\n",
    "    pSegment.Run()\n",
    "\n",
    "    # propagate\n",
    "    prop.EndRun()\n",
    "    \n",
    "    # get apo radius\n",
    "    rop = pSegment.GetResultValue('Radius of Apoapsis')\n",
    "    print('apogee radius: ' + str(rop))"
   ]
  },
  {
   "cell_type": "code",
   "execution_count": null,
   "id": "d293642a-19a1-4afe-87fb-d1f808ebb1f1",
   "metadata": {},
   "outputs": [],
   "source": []
  }
 ],
 "metadata": {
  "kernelspec": {
   "display_name": "Python 3 (ipykernel)",
   "language": "python",
   "name": "python3"
  },
  "language_info": {
   "codemirror_mode": {
    "name": "ipython",
    "version": 3
   },
   "file_extension": ".py",
   "mimetype": "text/x-python",
   "name": "python",
   "nbconvert_exporter": "python",
   "pygments_lexer": "ipython3",
   "version": "3.10.9"
  }
 },
 "nbformat": 4,
 "nbformat_minor": 5
}
