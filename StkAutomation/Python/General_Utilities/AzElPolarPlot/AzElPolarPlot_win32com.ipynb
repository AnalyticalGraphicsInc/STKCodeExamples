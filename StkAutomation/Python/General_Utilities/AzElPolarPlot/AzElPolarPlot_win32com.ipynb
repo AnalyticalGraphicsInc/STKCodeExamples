{
 "cells": [
  {
   "cell_type": "code",
   "execution_count": null,
   "metadata": {},
   "outputs": [],
   "source": [
    "#Imports\n",
    "import matplotlib.pyplot as plt\n",
    "import numpy as np\n",
    "import win32com.client"
   ]
  },
  {
   "cell_type": "code",
   "execution_count": null,
   "metadata": {},
   "outputs": [],
   "source": [
    "#Open STK, get the IAgSTKObjectRoot\n",
    "uiApplication = win32com.client.Dispatch(\"STK12.Application\")\n",
    "uiApplication.Visible=True\n",
    "stkRoot = uiApplication.Personality2"
   ]
  },
  {
   "cell_type": "code",
   "execution_count": null,
   "metadata": {},
   "outputs": [],
   "source": [
    "#Create a new scenario\n",
    "stkRoot.NewScenario(\"Python_AER_Polar_Plot\")\n",
    "scenario = stkRoot.CurrentScenario"
   ]
  },
  {
   "cell_type": "code",
   "execution_count": null,
   "metadata": {},
   "outputs": [],
   "source": [
    "#Add a satellite\n",
    "satellite = scenario.Children.New(18, \"MySatellite\") #eSatellite\n",
    "\n",
    "#Set and get the propagator\n",
    "satellite.SetPropagatorType(7) #ePropagatorTwoBody)\n",
    "twoBodyProp = satellite.Propagator\n",
    "\n",
    "#Get initial state and change the inclination\n",
    "initialState = twoBodyProp.InitialState.Representation.ConvertTo(1) #eOrbitStateClassical\n",
    "initialState.Orientation.Inclination = 60\n",
    "\n",
    "#Assign initial state and propagate\n",
    "twoBodyProp.InitialState.Representation.Assign(initialState)\n",
    "twoBodyProp.Propagate()"
   ]
  },
  {
   "cell_type": "code",
   "execution_count": null,
   "metadata": {},
   "outputs": [],
   "source": [
    "#Add a default facility\n",
    "facility = scenario.Children.New(8, \"MyFacility\") #eFacility"
   ]
  },
  {
   "cell_type": "code",
   "execution_count": null,
   "metadata": {},
   "outputs": [],
   "source": [
    "#Compute access\n",
    "access = facility.GetAccessToObject(satellite)\n",
    "access.ComputeAccess()"
   ]
  },
  {
   "cell_type": "code",
   "execution_count": null,
   "metadata": {},
   "outputs": [],
   "source": [
    "#Get all the access interval start and stop times\n",
    "accessReport = access.DataProviders.Item(\"Access Data\")\n",
    "accessIntervals = accessReport.ExecElements(scenario.StartTime, scenario.Stoptime, [\"Access Number\",\"Start Time\", \"Stop Time\"])\n",
    "accessIntervals = list(accessIntervals.DataSets.ToArray())"
   ]
  },
  {
   "cell_type": "code",
   "execution_count": null,
   "metadata": {},
   "outputs": [],
   "source": [
    "#Get Az El data for each access interval\n",
    "aerData = []\n",
    "for accessInterval in accessIntervals:\n",
    "    aerReport = access.DataProviders.GetDataPrvInfoFromPath(\"AER Data/Default\").ExecElements(accessInterval[1], accessInterval[2], 20, [\"Azimuth\", \"Elevation\"])\n",
    "    aerData.append(list(aerReport.DataSets.ToArray()))"
   ]
  },
  {
   "cell_type": "code",
   "execution_count": null,
   "metadata": {},
   "outputs": [],
   "source": [
    "#Plot Az El for each interval on a polar plot with North up.\n",
    "figure = plt.figure(figsize=(12,7.5))\n",
    "axes = plt.axes(projection=\"polar\")\n",
    "axes.set_theta_zero_location(\"N\")\n",
    "axes.set_theta_direction(-1) #Theta increase clockwise\n",
    "axes.set_rgrids(range(-90,1,15), labels=[\"\",\"75\"+u\"\\u00b0\",\"60\"+u\"\\u00b0\",\"45\"+u\"\\u00b0\",\"30\"+u\"\\u00b0\",\"15\"+u\"\\u00b0\"], angle=90) #Custom ticks\n",
    "axes.set_rlim(-90,0) #set hard limits on r values\n",
    "axes.set_title(\"Az El Polar Plot MyFacility-MySatellite\")\n",
    "for aer, accessInterval in zip(aerData, accessIntervals):\n",
    "    aer = np.array(aer)\n",
    "    az = np.deg2rad(aer[:,0]) #convert azimuth from deg to rad\n",
    "    el = -aer[:,1] #plot the negative of elevation\n",
    "    \n",
    "    axes.plot(az[0],el[0], 'g^', markersize=15, clip_on=False) #mark rise location with green up\n",
    "    axes.plot(az[1:-1],el[1:-1], label=f\"{accessInterval[1][:-10]} - {accessInterval[2][:-10]}\", linewidth=4)\n",
    "    axes.plot(az[-1],el[-1], 'rv', markersize=15, clip_on=False) #mark set location with red down\n",
    "\n",
    "legend = figure.legend()"
   ]
  },
  {
   "cell_type": "code",
   "execution_count": null,
   "metadata": {},
   "outputs": [],
   "source": []
  }
 ],
 "metadata": {
  "kernelspec": {
   "display_name": "Python 3",
   "language": "python",
   "name": "python3"
  },
  "language_info": {
   "codemirror_mode": {
    "name": "ipython",
    "version": 3
   },
   "file_extension": ".py",
   "mimetype": "text/x-python",
   "name": "python",
   "nbconvert_exporter": "python",
   "pygments_lexer": "ipython3",
   "version": "3.7.4"
  }
 },
 "nbformat": 4,
 "nbformat_minor": 4
}
