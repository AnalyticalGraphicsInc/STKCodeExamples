{
 "cells": [
  {
   "cell_type": "code",
   "execution_count": null,
   "metadata": {},
   "outputs": [],
   "source": [
    "# Imports\n",
    "import matplotlib.pyplot as plt\n",
    "import numpy as np\n",
    "from comtypes.client import CreateObject"
   ]
  },
  {
   "cell_type": "code",
   "execution_count": null,
   "metadata": {},
   "outputs": [],
   "source": [
    "# Open STK, get the IAgSTKObjectRoot\n",
    "uiApplication = CreateObject(\"STK12.Application\")\n",
    "uiApplication.Visible = True\n",
    "stkRoot = uiApplication.Personality2"
   ]
  },
  {
   "cell_type": "code",
   "execution_count": null,
   "metadata": {},
   "outputs": [],
   "source": [
    "# Import comptypes generated wrappers\n",
    "from comtypes.gen import STKObjects\n",
    "from comtypes.gen import STKUtil"
   ]
  },
  {
   "cell_type": "code",
   "execution_count": null,
   "metadata": {},
   "outputs": [],
   "source": [
    "# Create a new scenario\n",
    "stkRoot.NewScenario(\"Python_AER_Polar_Plot\")\n",
    "scenario = stkRoot.CurrentScenario\n",
    "scenario2 = scenario.QueryInterface(STKObjects.IAgScenario)"
   ]
  },
  {
   "cell_type": "code",
   "execution_count": null,
   "metadata": {},
   "outputs": [],
   "source": [
    "# Add a satellite\n",
    "satellite = scenario.Children.New(STKObjects.eSatellite, \"MySatellite\")\n",
    "satellite2 = satellite.QueryInterface(STKObjects.IAgSatellite)\n",
    "\n",
    "# Set and get the propagator\n",
    "satellite2.SetPropagatorType(STKObjects.ePropagatorTwoBody)\n",
    "twoBodyProp = satellite2.Propagator.QueryInterface(STKObjects.IAgVePropagatorTwoBody)\n",
    "\n",
    "# Get initial state and change the inclination\n",
    "initialState = twoBodyProp.InitialState.Representation.ConvertTo(\n",
    "    STKUtil.eOrbitStateClassical\n",
    ").QueryInterface(STKObjects.IAgOrbitStateClassical)\n",
    "initialState.Orientation.Inclination = 60\n",
    "\n",
    "# Assign initial state and propagate\n",
    "twoBodyProp.InitialState.Representation.Assign(initialState)\n",
    "twoBodyProp.Propagate()"
   ]
  },
  {
   "cell_type": "code",
   "execution_count": null,
   "metadata": {},
   "outputs": [],
   "source": [
    "# Add a default facility\n",
    "facility = scenario.Children.New(STKObjects.eFacility, \"MyFacility\")"
   ]
  },
  {
   "cell_type": "code",
   "execution_count": null,
   "metadata": {},
   "outputs": [],
   "source": [
    "# Compute access\n",
    "access = facility.GetAccessToObject(satellite)\n",
    "access.ComputeAccess()"
   ]
  },
  {
   "cell_type": "code",
   "execution_count": null,
   "metadata": {},
   "outputs": [],
   "source": [
    "# Get all the access interval start and stop times\n",
    "accessReport = access.DataProviders.Item(\"Access Data\").QueryInterface(\n",
    "    STKObjects.IAgDataPrvInterval\n",
    ")\n",
    "accessIntervals = accessReport.ExecElements(\n",
    "    scenario2.StartTime,\n",
    "    scenario2.Stoptime,\n",
    "    [\"Access Number\", \"Start Time\", \"Stop Time\"],\n",
    ")\n",
    "accessIntervals = list(accessIntervals.DataSets.ToArray())"
   ]
  },
  {
   "cell_type": "code",
   "execution_count": null,
   "metadata": {},
   "outputs": [],
   "source": [
    "# Get Az El data for each access interval\n",
    "aerData = []\n",
    "for accessInterval in accessIntervals:\n",
    "    aerReport = (\n",
    "        access.DataProviders.GetDataPrvInfoFromPath(\"AER Data/Default\")\n",
    "        .QueryInterface(STKObjects.IAgDataPrvTimeVar)\n",
    "        .ExecElements(\n",
    "            accessInterval[1], accessInterval[2], 20, [\"Azimuth\", \"Elevation\"]\n",
    "        )\n",
    "    )\n",
    "    aerData.append(list(aerReport.DataSets.ToArray()))"
   ]
  },
  {
   "cell_type": "code",
   "execution_count": null,
   "metadata": {},
   "outputs": [],
   "source": [
    "# Plot Az El for each interval on a polar plot with North up.\n",
    "figure = plt.figure(figsize=(12, 7.5))\n",
    "axes = plt.axes(projection=\"polar\")\n",
    "axes.set_theta_zero_location(\"N\")\n",
    "axes.set_theta_direction(-1)  # Theta increase clockwise\n",
    "axes.set_rgrids(\n",
    "    range(-90, 1, 15),\n",
    "    labels=[\n",
    "        \"\",\n",
    "        \"75\" + \"\\u00b0\",\n",
    "        \"60\" + \"\\u00b0\",\n",
    "        \"45\" + \"\\u00b0\",\n",
    "        \"30\" + \"\\u00b0\",\n",
    "        \"15\" + \"\\u00b0\",\n",
    "    ],\n",
    "    angle=90,\n",
    ")  # Custom ticks\n",
    "axes.set_rlim(-90, 0)  # set hard limits on r values\n",
    "axes.set_title(\"Az El Polar Plot MyFacility-MySatellite\")\n",
    "for aer, accessInterval in zip(aerData, accessIntervals):\n",
    "    aer = np.array(aer)\n",
    "    az = np.deg2rad(aer[:, 0])  # convert azimuth from deg to rad\n",
    "    el = -aer[:, 1]  # plot the negative of elevation\n",
    "\n",
    "    axes.plot(\n",
    "        az[0], el[0], \"g^\", markersize=15, clip_on=False\n",
    "    )  # mark rise location with green up\n",
    "    axes.plot(\n",
    "        az[1:-1],\n",
    "        el[1:-1],\n",
    "        label=f\"{accessInterval[1][:-10]} - {accessInterval[2][:-10]}\",\n",
    "        linewidth=4,\n",
    "    )\n",
    "    axes.plot(\n",
    "        az[-1], el[-1], \"rv\", markersize=15, clip_on=False\n",
    "    )  # mark set location with red down\n",
    "\n",
    "legend = figure.legend()"
   ]
  },
  {
   "cell_type": "code",
   "execution_count": null,
   "metadata": {},
   "outputs": [],
   "source": []
  }
 ],
 "metadata": {
  "kernelspec": {
   "display_name": "Python 3",
   "language": "python",
   "name": "python3"
  },
  "language_info": {
   "codemirror_mode": {
    "name": "ipython",
    "version": 3
   },
   "file_extension": ".py",
   "mimetype": "text/x-python",
   "name": "python",
   "nbconvert_exporter": "python",
   "pygments_lexer": "ipython3",
   "version": "3.7.4"
  }
 },
 "nbformat": 4,
 "nbformat_minor": 4
}
