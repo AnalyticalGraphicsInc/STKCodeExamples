{
 "cells": [
  {
   "cell_type": "code",
   "execution_count": 1,
   "metadata": {},
   "outputs": [],
   "source": [
    "# Imports and inputs\n",
    "import h5py\n",
    "import matplotlib.pyplot as plt\n",
    "import numpy as np\n",
    "\n",
    "h5File = r\"C:\\Users\\alam\\Desktop\\EOIRData\\VNP46A2.A2021045.h08v06.001.2021104025532.h5\"\n",
    "outputFile = r\"C:\\Users\\alam\\Desktop\\EOIRData\\RadianceData.csv\""
   ]
  },
  {
   "cell_type": "code",
   "execution_count": 7,
   "metadata": {},
   "outputs": [
    {
     "name": "stdout",
     "output_type": "stream",
     "text": [
      "<KeysViewHDF5 ['AlgorithmType', 'DataResolution', 'DayNightFlag', 'EastBoundingCoord', 'EndTime', 'GRingPointLatitude', 'GRingPointLongitude', 'GranuleDayNightFlag', 'HorizontalTileNumber', 'InputPointer', 'LSIPS_AlgorithmVersion', 'LocalGranuleID', 'LongName', 'NorthBoundingCoord', 'PGENumber', 'PGEVersion', 'PGE_EndTime', 'PGE_Name', 'PGE_StartTime', 'PlatformShortName', 'ProcessingCenter', 'ProcessingEnvironment', 'ProductionTime', 'RangeBeginningDate', 'RangeBeginningTime', 'RangeEndingDate', 'RangeEndingTime', 'SatelliteInstrument', 'SensorShortname', 'ShortName', 'SouthBoundingCoord', 'StartTime', 'TileID', 'VersionID', 'VerticalTileNumber', 'WestBoundingCoord', 'identifier_product_doi', 'identifier_product_doi_authority']>\n"
     ]
    }
   ],
   "source": [
    "h5 = h5py.File(h5File, \"r\")\n",
    "\n",
    "# Print attributes to find GRingPointLongitude and GRingPointLatitude to find corner points\n",
    "print(h5.attrs.keys())\n",
    "boundingLat = h5.attrs[\"GRingPointLatitude\"]\n",
    "boundingLon = h5.attrs[\"GRingPointLongitude\"]"
   ]
  },
  {
   "cell_type": "code",
   "execution_count": 17,
   "metadata": {},
   "outputs": [
    {
     "name": "stdout",
     "output_type": "stream",
     "text": [
      "<KeysViewHDF5 ['DNB_BRDF-Corrected_NTL', 'DNB_Lunar_Irradiance', 'Gap_Filled_DNB_BRDF-Corrected_NTL', 'Latest_High_Quality_Retrieval', 'Mandatory_Quality_Flag', 'QF_Cloud_Mask', 'Snow_Flag']>\n"
     ]
    }
   ],
   "source": [
    "# Use the .keys() method to continue indexing down until the desired dataset is found\n",
    "print(h5[\"HDFEOS\"][\"GRIDS\"][\"VNP_Grid_DNB\"][\"Data Fields\"].keys())"
   ]
  },
  {
   "cell_type": "code",
   "execution_count": 21,
   "metadata": {},
   "outputs": [
    {
     "name": "stdout",
     "output_type": "stream",
     "text": [
      "<KeysViewHDF5 ['_FillValue', 'long_name', 'offset', 'scale_factor', 'units', 'valid_range']>\n"
     ]
    }
   ],
   "source": [
    "# Print attributes to find data-specific metadata and store them in variables\n",
    "print(\n",
    "    h5[\"HDFEOS\"][\"GRIDS\"][\"VNP_Grid_DNB\"][\"Data Fields\"][\n",
    "        \"Gap_Filled_DNB_BRDF-Corrected_NTL\"\n",
    "    ].attrs.keys()\n",
    ")\n",
    "fillValue = h5[\"HDFEOS\"][\"GRIDS\"][\"VNP_Grid_DNB\"][\"Data Fields\"][\n",
    "    \"Gap_Filled_DNB_BRDF-Corrected_NTL\"\n",
    "].attrs[\"_FillValue\"]\n",
    "offset = h5[\"HDFEOS\"][\"GRIDS\"][\"VNP_Grid_DNB\"][\"Data Fields\"][\n",
    "    \"Gap_Filled_DNB_BRDF-Corrected_NTL\"\n",
    "].attrs[\"offset\"]\n",
    "scale_factor = h5[\"HDFEOS\"][\"GRIDS\"][\"VNP_Grid_DNB\"][\"Data Fields\"][\n",
    "    \"Gap_Filled_DNB_BRDF-Corrected_NTL\"\n",
    "].attrs[\"scale_factor\"]\n",
    "units = h5[\"HDFEOS\"][\"GRIDS\"][\"VNP_Grid_DNB\"][\"Data Fields\"][\n",
    "    \"Gap_Filled_DNB_BRDF-Corrected_NTL\"\n",
    "].attrs[\"units\"]"
   ]
  },
  {
   "cell_type": "code",
   "execution_count": 31,
   "metadata": {},
   "outputs": [
    {
     "data": {
      "text/plain": [
       "<matplotlib.image.AxesImage at 0x293154a5750>"
      ]
     },
     "execution_count": 31,
     "metadata": {},
     "output_type": "execute_result"
    },
    {
     "data": {
      "image/png": "[encoded data removed]",
      "text/plain": [
       "<Figure size 432x288 with 1 Axes>"
      ]
     },
     "metadata": {
      "needs_background": "light"
     },
     "output_type": "display_data"
    }
   ],
   "source": [
    "# Get night lights data and update fill value to 0 radiance\n",
    "data = np.array(\n",
    "    h5[\"HDFEOS\"][\"GRIDS\"][\"VNP_Grid_DNB\"][\"Data Fields\"][\n",
    "        \"Gap_Filled_DNB_BRDF-Corrected_NTL\"\n",
    "    ]\n",
    ")\n",
    "data[data == fillValue] = 0\n",
    "\n",
    "# Apply scale factor, convert nW to W, and then divide by VIIRS DNB bandwidth of 0.4 um\n",
    "data = data * scale_factor * 1e-9 / 0.4\n",
    "\n",
    "# Write to csv and show image\n",
    "np.savetxt(outputFile, data, delimiter=\",\", fmt=\"%1g\")\n",
    "plt.imshow(data, cmap=\"gray\")"
   ]
  }
 ],
 "metadata": {
  "kernelspec": {
   "display_name": "Python 3.10.5 ('stk_base')",
   "language": "python",
   "name": "python3"
  },
  "language_info": {
   "codemirror_mode": {
    "name": "ipython",
    "version": 3
   },
   "file_extension": ".py",
   "mimetype": "text/x-python",
   "name": "python",
   "nbconvert_exporter": "python",
   "pygments_lexer": "ipython3",
   "version": "3.10.5"
  },
  "orig_nbformat": 4,
  "vscode": {
   "interpreter": {
    "hash": "53156bc7314572268b57d836f601c9b23f1ab3860524a4dbf3fd74a05fa96f7b"
   }
  }
 },
 "nbformat": 4,
 "nbformat_minor": 2
}
