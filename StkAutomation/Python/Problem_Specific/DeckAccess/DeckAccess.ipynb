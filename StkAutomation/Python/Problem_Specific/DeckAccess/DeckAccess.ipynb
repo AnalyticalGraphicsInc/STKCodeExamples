{
 "cells": [
  {
   "cell_type": "markdown",
   "metadata": {},
   "source": [
    "# Deck Access Visualization and Analysis"
   ]
  },
  {
   "cell_type": "markdown",
   "metadata": {},
   "source": [
    "### Modify the file paths below to be your desired save location. Then click Cell->Run All"
   ]
  },
  {
   "cell_type": "markdown",
   "metadata": {},
   "source": [
    "Double '\\\\\\\\' are required in the filepath because Python uses the '\\\\' character as a break character."
   ]
  },
  {
   "cell_type": "code",
   "execution_count": 1,
   "metadata": {},
   "outputs": [],
   "source": [
    "# The file path to save the Deck Access report and Deck Access TLEs\n",
    "deckAccessFile = \"C:\\\\deckAccessRpt.txt\"\n",
    "deckAccessTLE = \"C:\\\\deckAccessTLE.tce\""
   ]
  },
  {
   "cell_type": "markdown",
   "metadata": {},
   "source": [
    "### Connect and Configure STK"
   ]
  },
  {
   "cell_type": "code",
   "execution_count": 2,
   "metadata": {},
   "outputs": [],
   "source": [
    "# Import the needed packages\n",
    "from comtypes.client import CreateObject\n",
    "from comtypes.client import GetActiveObject\n",
    "from comtypes.gen import STKObjects\n",
    "\n",
    "# Sometimes autocomplete takes a while. This line fixes that.\n",
    "%config Completer.use_jedi = False"
   ]
  },
  {
   "cell_type": "code",
   "execution_count": 3,
   "metadata": {},
   "outputs": [
    {
     "name": "stdout",
     "output_type": "stream",
     "text": [
      "Now = 16 Jul 2021 17:16:36\n",
      "Scenario Start = 16 Jul 2021 00:00:00.000\n",
      "Scenario Stop = 16 Jul 2021 23:59:59.999\n"
     ]
    }
   ],
   "source": [
    "# Get the current time and add 1 second\n",
    "from datetime import datetime\n",
    "from datetime import timedelta\n",
    "\n",
    "now = datetime.now()\n",
    "nowSTK = now.strftime(\"%d %b %Y %H:%M:%S\")\n",
    "nowplus = now + timedelta(seconds=1)\n",
    "nowSTKplus = nowplus.strftime(\"%d %b %Y %H:%M:%S\")\n",
    "startTime = nowSTK\n",
    "stopTime = nowSTKplus\n",
    "print(\"Now = \" + nowSTK)\n",
    "\n",
    "# Create times to set the scenario time period which includes now\n",
    "strs = nowSTK.split(\" \")\n",
    "start = strs[0] + \" \" + strs[1] + \" \" + strs[2] + \" 00:00:00.000\"\n",
    "stop = strs[0] + \" \" + strs[1] + \" \" + strs[2] + \" 23:59:59.999\"\n",
    "print(\"Scenario Start = \" + start)\n",
    "print(\"Scenario Stop = \" + stop)"
   ]
  },
  {
   "cell_type": "code",
   "execution_count": 4,
   "metadata": {},
   "outputs": [],
   "source": [
    "# Launch or connect to STK\n",
    "try:\n",
    "    app = GetActiveObject(\"STK12.Application\")\n",
    "    root = app.Personality2\n",
    "    app.Visible = True\n",
    "    app.UserControl = True\n",
    "except:\n",
    "    app = CreateObject(\"STK12.Application\")\n",
    "    app.Visible = True\n",
    "    app.UserControl = True\n",
    "    root = app.Personality2\n",
    "    sc = root.NewScenario(\"DeckAccessVis\")\n",
    "\n",
    "\n",
    "# Set the scenario time period\n",
    "sc = root.CurrentScenario\n",
    "sc2 = sc.QueryInterface(STKObjects.IAgScenario)\n",
    "sc2.StopTime = stop\n",
    "sc2.StartTime = start\n",
    "sc2.Animation.AnimStepValue = (\n",
    "    30  # Set the animation time to be the same as the MTO data resolution\n",
    ")\n",
    "\n",
    "# Turn on Antialiasing for better visualization. Options are: Off,FXAA,2,3,4\n",
    "cmd = \"SoftVtr3d * AntiAlias 2\"\n",
    "root.ExecuteCommand(cmd)\n",
    "\n",
    "# Set Animation time to the time used for the deck Access Report\n",
    "root.CurrentTime = float(root.ConversionUtility.ConvertDate(\"UTCG\", \"EpSec\", nowSTK))"
   ]
  },
  {
   "cell_type": "code",
   "execution_count": 5,
   "metadata": {},
   "outputs": [],
   "source": [
    "# Remove any deck access satellites from previous runs\n",
    "from DeckAccessReader import FilterObjectsByType\n",
    "\n",
    "objType = \"Satellite\"\n",
    "name = \"deck\"\n",
    "objPaths = FilterObjectsByType(objType, name)\n",
    "\n",
    "for i in range(len(objPaths)):\n",
    "    obj = root.GetObjectFromPath(objPaths[i])\n",
    "    obj.Unload()\n",
    "\n",
    "name = \"tle\"\n",
    "objPaths = FilterObjectsByType(objType, name)\n",
    "for i in range(len(objPaths)):\n",
    "    obj = root.GetObjectFromPath(objPaths[i])\n",
    "    obj.Unload()"
   ]
  },
  {
   "cell_type": "markdown",
   "metadata": {},
   "source": [
    "Try moving the ground station to a different location. Then rerun the script by clicking Kernel -> Restart & Run All"
   ]
  },
  {
   "cell_type": "code",
   "execution_count": 6,
   "metadata": {},
   "outputs": [],
   "source": [
    "# Add a facility\n",
    "facName = \"Observer\"\n",
    "\n",
    "if sc.Children.Contains(STKObjects.eFacility, facName):\n",
    "    fac = root.GetObjectFromPath(\"Facility/\" + facName)\n",
    "    fac.Unload()\n",
    "fac = sc.Children.New(STKObjects.eFacility, facName)\n",
    "\n",
    "# Cast fac into an IAgFacility called fac2\n",
    "fac2 = fac.QueryInterface(STKObjects.IAgFacility)\n",
    "# Assign a new geodetic position\n",
    "# San Diego\n",
    "lat = 32.7157\n",
    "lon = -117.1611\n",
    "# AGI_HQ\n",
    "# lat = 40.0326\n",
    "# lon = -75.6275\n",
    "# Kiruna (part of the European tracking network Estrack)\n",
    "# lat = 67.8558\n",
    "# lon = 20.2253\n",
    "alt = 0\n",
    "fac2.Position.AssignGeodetic(lat, lon, alt);"
   ]
  },
  {
   "cell_type": "code",
   "execution_count": 7,
   "metadata": {},
   "outputs": [],
   "source": [
    "# Add an elevation angle constraint\n",
    "elAng = 20\n",
    "\n",
    "if fac2.AccessConstraints.IsConstraintActive(STKObjects.eCstrElevationAngle):\n",
    "    elCon = fac2.AccessConstraints.GetActiveConstraint(STKObjects.eCstrElevationAngle)\n",
    "else:\n",
    "    elCon = fac2.AccessConstraints.AddConstraint(STKObjects.eCstrElevationAngle)\n",
    "\n",
    "elCon2 = elCon.QueryInterface(STKObjects.IAgAccessCnstrMinMax)\n",
    "elCon2.EnableMin = True\n",
    "elCon2.Min = elAng"
   ]
  },
  {
   "cell_type": "code",
   "execution_count": 8,
   "metadata": {},
   "outputs": [],
   "source": [
    "# Add a constraint satellite template\n",
    "satName = \"ConstraintSat\"\n",
    "\n",
    "if sc.Children.Contains(STKObjects.eSatellite, satName):\n",
    "    sat = root.GetObjectFromPath(\"Satellite/\" + satName)\n",
    "    sat.Unload()\n",
    "sat = sc.Children.New(STKObjects.eSatellite, satName)\n",
    "\n",
    "# Cast fac into an IAgFacility called fac2\n",
    "sat2 = sat.QueryInterface(STKObjects.IAgSatellite)\n",
    "\n",
    "# Add an elevation angle constraint\n",
    "light = (\n",
    "    STKObjects.eDirectSun\n",
    ")  # eDirectSun,ePenumbra,ePenumbraOrDirectSun,ePenumbraOrUmbra,eUmbra,eUmbraOrDirectSun\n",
    "\n",
    "if sat2.AccessConstraints.IsConstraintActive(STKObjects.eCstrLighting):\n",
    "    lightCon = sat2.AccessConstraints.GetActiveConstraint(STKObjects.eCstrLighting)\n",
    "else:\n",
    "    lightCon = sat2.AccessConstraints.AddConstraint(STKObjects.eCstrLighting)\n",
    "\n",
    "lightCon2 = lightCon.QueryInterface(STKObjects.IAgAccessCnstrCondition)\n",
    "lightCon2.Condition = light"
   ]
  },
  {
   "cell_type": "code",
   "execution_count": 9,
   "metadata": {},
   "outputs": [],
   "source": [
    "# # Additional constraints options\n",
    "\n",
    "# # Modify the deck access time to consider a custom time range and not just now\n",
    "# startTime= start # 18 Oct 2019 00:00:00\n",
    "# stopTime = stop # 18 Oct 2019 01:00:00\n",
    "\n",
    "# # Add Umbra constraint for the facility\n",
    "# light = STKObjects.eUmbra # eDirectSun,ePenumbra,ePenumbraOrDirectSun,ePenumbraOrUmbra,eUmbra,eUmbraOrDirectSun\n",
    "# if fac2.AccessConstraints.IsConstraintActive(STKObjects.eCstrLighting):\n",
    "#     lightCon = fac2.AccessConstraints.GetActiveConstraint(STKObjects.eCstrLighting)\n",
    "# else:\n",
    "#     lightCon = fac2.AccessConstraints.AddConstraint(STKObjects.eCstrLighting)\n",
    "# lightCon2 = lightCon.QueryInterface(STKObjects.IAgAccessCnstrCondition)\n",
    "# lightCon2.Condition = light"
   ]
  },
  {
   "cell_type": "markdown",
   "metadata": {},
   "source": [
    "### Run Deck Access, Create a TLE file for all visible satellites, Import them into an MTO, Add in specific satellites"
   ]
  },
  {
   "cell_type": "code",
   "execution_count": 10,
   "metadata": {},
   "outputs": [
    {
     "name": "stdout",
     "output_type": "stream",
     "text": [
      "DeckAccess */Facility/Observer \"16 Jul 2021 17:16:36\" \"16 Jul 2021 17:16:37\" Satellite \"C:\\ProgramData\\AGI\\STK 12\\Databases\\Satellite\\stkAllTLE.tce\" SortObj OutFile \"C:\\Users\\alam\\Desktop\\deckAccessRpt.txt\" ConstraintObject */Satellite/ConstraintSat\n",
      "Output file created: C:\\Users\\alam\\Desktop\\deckAccessRpt.txt\n"
     ]
    }
   ],
   "source": [
    "# Deck Access for the current time. Save the deck access file to the specified\n",
    "tleFilepath = \"C:\\\\ProgramData\\\\AGI\\\\STK 12\\\\Databases\\\\Satellite\\\\stkAllTLE.tce\"\n",
    "cmd = (\n",
    "    \"DeckAccess */Facility/\"\n",
    "    + facName\n",
    "    + ' \"'\n",
    "    + startTime\n",
    "    + '\" \"'\n",
    "    + stopTime\n",
    "    + '\" Satellite \"'\n",
    "    + tleFilepath\n",
    "    + '\" SortObj OutFile \"'\n",
    "    + deckAccessFile\n",
    "    + '\" ConstraintObject */Satellite/'\n",
    "    + satName\n",
    ")\n",
    "print(cmd)\n",
    "cmdOut = root.ExecuteCommand(cmd)\n",
    "print(cmdOut.Item(0))"
   ]
  },
  {
   "cell_type": "code",
   "execution_count": 11,
   "metadata": {},
   "outputs": [
    {
     "name": "stdout",
     "output_type": "stream",
     "text": [
      "Number of Visible Satellites: 1293\n"
     ]
    }
   ],
   "source": [
    "# Read the deck access report and write the TLEs to a file\n",
    "from DeckAccessReader import writeTLEs\n",
    "\n",
    "NumOfSC = writeTLEs(tleFilepath, deckAccessFile, deckAccessTLE)\n",
    "print(\"Number of Visible Satellites: \" + str(NumOfSC))"
   ]
  },
  {
   "cell_type": "code",
   "execution_count": 12,
   "metadata": {},
   "outputs": [
    {
     "name": "stdout",
     "output_type": "stream",
     "text": [
      "Inserting MTO deckAccessMTO\n",
      "Updating MTO deckAccessMTO\n"
     ]
    }
   ],
   "source": [
    "# Add all visibile satellites as an MTO\n",
    "try:\n",
    "    cmd = \"Unload / */MTO/deckAccessMTO\"\n",
    "    root.ExecuteCommand(cmd)\n",
    "except:\n",
    "    print(\"Inserting MTO deckAccessMTO\")\n",
    "\n",
    "print(\"Updating MTO deckAccessMTO\")\n",
    "cmd = \"New / */MTO deckAccessMTO\"\n",
    "root.ExecuteCommand(cmd)\n",
    "cmd = \"VO */MTO/deckAccessMTO MTOAttributes ShowAlllabels off\"\n",
    "root.ExecuteCommand(cmd)\n",
    "cmd = \"VO */MTO/deckAccessMTO MTOAttributes ShowAllLines off\"\n",
    "root.ExecuteCommand(cmd)\n",
    "cmd = (\n",
    "    'Track */MTO/deckAccessMTO TleFile Filename \"' + deckAccessTLE + '\" TimeStep 30'\n",
    ")  # Decrease the TimeStep for better resolution at the cost of computation time\n",
    "root.ExecuteCommand(cmd);"
   ]
  },
  {
   "cell_type": "code",
   "execution_count": 13,
   "metadata": {},
   "outputs": [],
   "source": [
    "# Add in a specific satellite\n",
    "scID = 43226  # Select a desired satellite\n",
    "cmd = (\n",
    "    'ImportTLEFile * \"'\n",
    "    + deckAccessTLE\n",
    "    + '\" SSCNumber '\n",
    "    + str(scID)\n",
    "    + ' AutoPropagate On Merge On StartStop \"'\n",
    "    + sc2.StartTime\n",
    "    + '\" \"'\n",
    "    + sc2.StopTime\n",
    "    + '\"'\n",
    ")\n",
    "try:\n",
    "    cmdOut = root.ExecuteCommand(cmd)\n",
    "except:\n",
    "    print(\"Satellite \" + str(scID) + \" is not visible\")"
   ]
  },
  {
   "cell_type": "code",
   "execution_count": 14,
   "metadata": {},
   "outputs": [
    {
     "name": "stdout",
     "output_type": "stream",
     "text": [
      "DeckAccess */Facility/Observer \"16 Jul 2021 00:00:00.000\" \"16 Jul 2021 23:59:59.999\" Satellite \"C:\\Users\\alam\\Desktop\\deckAccessTLE.tce\" SortObj OutReport AddSatellites 5 ConstraintObject */Satellite/ConstraintSat\n"
     ]
    }
   ],
   "source": [
    "# Add a fixed number of satellites from the deck access and pass back the deck access data for the entire day\n",
    "NumSatsToAdd = 5\n",
    "if NumSatsToAdd == 0:\n",
    "    cmd = (\n",
    "        \"DeckAccess */Facility/\"\n",
    "        + facName\n",
    "        + ' \"'\n",
    "        + sc2.StartTime\n",
    "        + '\" \"'\n",
    "        + sc2.StopTime\n",
    "        + '\" Satellite \"'\n",
    "        + deckAccessTLE\n",
    "        + '\" SortObj OutReport ConstraintObject */Satellite/'\n",
    "        + satName\n",
    "    )  # Doesn't add satellites but runs the report\n",
    "else:\n",
    "    cmd = (\n",
    "        \"DeckAccess */Facility/\"\n",
    "        + facName\n",
    "        + ' \"'\n",
    "        + sc2.StartTime\n",
    "        + '\" \"'\n",
    "        + sc2.StopTime\n",
    "        + '\" Satellite \"'\n",
    "        + deckAccessTLE\n",
    "        + '\" SortObj OutReport AddSatellites '\n",
    "        + str(NumSatsToAdd)\n",
    "        + \" ConstraintObject */Satellite/\"\n",
    "        + satName\n",
    "    )\n",
    "print(cmd)\n",
    "cmdOutDA = root.ExecuteCommand(cmd)"
   ]
  },
  {
   "cell_type": "markdown",
   "metadata": {},
   "source": [
    "### Looking at the Deck Access Data"
   ]
  },
  {
   "cell_type": "code",
   "execution_count": 15,
   "metadata": {},
   "outputs": [
    {
     "ename": "AttributeError",
     "evalue": "Can only use .str accessor with string values!",
     "output_type": "error",
     "traceback": [
      "\u001b[1;31m---------------------------------------------------------------------------\u001b[0m",
      "\u001b[1;31mAttributeError\u001b[0m                            Traceback (most recent call last)",
      "\u001b[1;32m<ipython-input-15-a82742676d7d>\u001b[0m in \u001b[0;36m<module>\u001b[1;34m\u001b[0m\n\u001b[0;32m     18\u001b[0m \u001b[0mdf\u001b[0m \u001b[1;33m=\u001b[0m \u001b[0mdf\u001b[0m\u001b[1;33m.\u001b[0m\u001b[0mT\u001b[0m\u001b[1;33m\u001b[0m\u001b[1;33m\u001b[0m\u001b[0m\n\u001b[0;32m     19\u001b[0m \u001b[0mdf\u001b[0m\u001b[1;33m.\u001b[0m\u001b[0mcolumns\u001b[0m \u001b[1;33m=\u001b[0m \u001b[1;33m[\u001b[0m\u001b[1;34m'SSC Num'\u001b[0m\u001b[1;33m,\u001b[0m\u001b[1;34m'Start'\u001b[0m\u001b[1;33m,\u001b[0m\u001b[1;34m'Stop'\u001b[0m\u001b[1;33m,\u001b[0m\u001b[1;34m'Dur (sec)'\u001b[0m\u001b[1;33m]\u001b[0m \u001b[1;31m# cmdOutDA.Item(0).split(',')\u001b[0m\u001b[1;33m\u001b[0m\u001b[1;33m\u001b[0m\u001b[0m\n\u001b[1;32m---> 20\u001b[1;33m \u001b[0mdf\u001b[0m\u001b[1;33m[\u001b[0m\u001b[0mdf\u001b[0m\u001b[1;33m.\u001b[0m\u001b[0mcolumns\u001b[0m\u001b[1;33m[\u001b[0m\u001b[1;36m0\u001b[0m\u001b[1;33m]\u001b[0m\u001b[1;33m]\u001b[0m \u001b[1;33m=\u001b[0m \u001b[0mdf\u001b[0m\u001b[1;33m[\u001b[0m\u001b[0mdf\u001b[0m\u001b[1;33m.\u001b[0m\u001b[0mcolumns\u001b[0m\u001b[1;33m[\u001b[0m\u001b[1;36m0\u001b[0m\u001b[1;33m]\u001b[0m\u001b[1;33m]\u001b[0m\u001b[1;33m.\u001b[0m\u001b[0mstr\u001b[0m\u001b[1;33m.\u001b[0m\u001b[0mreplace\u001b[0m\u001b[1;33m(\u001b[0m\u001b[1;34m'\"'\u001b[0m\u001b[1;33m,\u001b[0m\u001b[1;34m''\u001b[0m\u001b[1;33m)\u001b[0m\u001b[1;33m\u001b[0m\u001b[1;33m\u001b[0m\u001b[0m\n\u001b[0m\u001b[0;32m     21\u001b[0m \u001b[0mdf\u001b[0m\u001b[1;33m.\u001b[0m\u001b[0mhead\u001b[0m\u001b[1;33m(\u001b[0m\u001b[1;36m10\u001b[0m\u001b[1;33m)\u001b[0m\u001b[1;33m\u001b[0m\u001b[1;33m\u001b[0m\u001b[0m\n",
      "\u001b[1;32mC:\\ProgramData\\Anaconda3\\lib\\site-packages\\pandas\\core\\generic.py\u001b[0m in \u001b[0;36m__getattr__\u001b[1;34m(self, name)\u001b[0m\n\u001b[0;32m   5133\u001b[0m             \u001b[1;32mor\u001b[0m \u001b[0mname\u001b[0m \u001b[1;32min\u001b[0m \u001b[0mself\u001b[0m\u001b[1;33m.\u001b[0m\u001b[0m_accessors\u001b[0m\u001b[1;33m\u001b[0m\u001b[1;33m\u001b[0m\u001b[0m\n\u001b[0;32m   5134\u001b[0m         ):\n\u001b[1;32m-> 5135\u001b[1;33m             \u001b[1;32mreturn\u001b[0m \u001b[0mobject\u001b[0m\u001b[1;33m.\u001b[0m\u001b[0m__getattribute__\u001b[0m\u001b[1;33m(\u001b[0m\u001b[0mself\u001b[0m\u001b[1;33m,\u001b[0m \u001b[0mname\u001b[0m\u001b[1;33m)\u001b[0m\u001b[1;33m\u001b[0m\u001b[1;33m\u001b[0m\u001b[0m\n\u001b[0m\u001b[0;32m   5136\u001b[0m         \u001b[1;32melse\u001b[0m\u001b[1;33m:\u001b[0m\u001b[1;33m\u001b[0m\u001b[1;33m\u001b[0m\u001b[0m\n\u001b[0;32m   5137\u001b[0m             \u001b[1;32mif\u001b[0m \u001b[0mself\u001b[0m\u001b[1;33m.\u001b[0m\u001b[0m_info_axis\u001b[0m\u001b[1;33m.\u001b[0m\u001b[0m_can_hold_identifiers_and_holds_name\u001b[0m\u001b[1;33m(\u001b[0m\u001b[0mname\u001b[0m\u001b[1;33m)\u001b[0m\u001b[1;33m:\u001b[0m\u001b[1;33m\u001b[0m\u001b[1;33m\u001b[0m\u001b[0m\n",
      "\u001b[1;32mC:\\ProgramData\\Anaconda3\\lib\\site-packages\\pandas\\core\\accessor.py\u001b[0m in \u001b[0;36m__get__\u001b[1;34m(self, obj, cls)\u001b[0m\n\u001b[0;32m    185\u001b[0m             \u001b[1;31m# we're accessing the attribute of the class, i.e., Dataset.geo\u001b[0m\u001b[1;33m\u001b[0m\u001b[1;33m\u001b[0m\u001b[1;33m\u001b[0m\u001b[0m\n\u001b[0;32m    186\u001b[0m             \u001b[1;32mreturn\u001b[0m \u001b[0mself\u001b[0m\u001b[1;33m.\u001b[0m\u001b[0m_accessor\u001b[0m\u001b[1;33m\u001b[0m\u001b[1;33m\u001b[0m\u001b[0m\n\u001b[1;32m--> 187\u001b[1;33m         \u001b[0maccessor_obj\u001b[0m \u001b[1;33m=\u001b[0m \u001b[0mself\u001b[0m\u001b[1;33m.\u001b[0m\u001b[0m_accessor\u001b[0m\u001b[1;33m(\u001b[0m\u001b[0mobj\u001b[0m\u001b[1;33m)\u001b[0m\u001b[1;33m\u001b[0m\u001b[1;33m\u001b[0m\u001b[0m\n\u001b[0m\u001b[0;32m    188\u001b[0m         \u001b[1;31m# Replace the property with the accessor object. Inspired by:\u001b[0m\u001b[1;33m\u001b[0m\u001b[1;33m\u001b[0m\u001b[1;33m\u001b[0m\u001b[0m\n\u001b[0;32m    189\u001b[0m         \u001b[1;31m# https://www.pydanny.com/cached-property.html\u001b[0m\u001b[1;33m\u001b[0m\u001b[1;33m\u001b[0m\u001b[1;33m\u001b[0m\u001b[0m\n",
      "\u001b[1;32mC:\\ProgramData\\Anaconda3\\lib\\site-packages\\pandas\\core\\strings.py\u001b[0m in \u001b[0;36m__init__\u001b[1;34m(self, data)\u001b[0m\n\u001b[0;32m   2098\u001b[0m \u001b[1;33m\u001b[0m\u001b[0m\n\u001b[0;32m   2099\u001b[0m     \u001b[1;32mdef\u001b[0m \u001b[0m__init__\u001b[0m\u001b[1;33m(\u001b[0m\u001b[0mself\u001b[0m\u001b[1;33m,\u001b[0m \u001b[0mdata\u001b[0m\u001b[1;33m)\u001b[0m\u001b[1;33m:\u001b[0m\u001b[1;33m\u001b[0m\u001b[1;33m\u001b[0m\u001b[0m\n\u001b[1;32m-> 2100\u001b[1;33m         \u001b[0mself\u001b[0m\u001b[1;33m.\u001b[0m\u001b[0m_inferred_dtype\u001b[0m \u001b[1;33m=\u001b[0m \u001b[0mself\u001b[0m\u001b[1;33m.\u001b[0m\u001b[0m_validate\u001b[0m\u001b[1;33m(\u001b[0m\u001b[0mdata\u001b[0m\u001b[1;33m)\u001b[0m\u001b[1;33m\u001b[0m\u001b[1;33m\u001b[0m\u001b[0m\n\u001b[0m\u001b[0;32m   2101\u001b[0m         \u001b[0mself\u001b[0m\u001b[1;33m.\u001b[0m\u001b[0m_is_categorical\u001b[0m \u001b[1;33m=\u001b[0m \u001b[0mis_categorical_dtype\u001b[0m\u001b[1;33m(\u001b[0m\u001b[0mdata\u001b[0m\u001b[1;33m.\u001b[0m\u001b[0mdtype\u001b[0m\u001b[1;33m)\u001b[0m\u001b[1;33m\u001b[0m\u001b[1;33m\u001b[0m\u001b[0m\n\u001b[0;32m   2102\u001b[0m         \u001b[0mself\u001b[0m\u001b[1;33m.\u001b[0m\u001b[0m_is_string\u001b[0m \u001b[1;33m=\u001b[0m \u001b[0mdata\u001b[0m\u001b[1;33m.\u001b[0m\u001b[0mdtype\u001b[0m\u001b[1;33m.\u001b[0m\u001b[0mname\u001b[0m \u001b[1;33m==\u001b[0m \u001b[1;34m\"string\"\u001b[0m\u001b[1;33m\u001b[0m\u001b[1;33m\u001b[0m\u001b[0m\n",
      "\u001b[1;32mC:\\ProgramData\\Anaconda3\\lib\\site-packages\\pandas\\core\\strings.py\u001b[0m in \u001b[0;36m_validate\u001b[1;34m(data)\u001b[0m\n\u001b[0;32m   2155\u001b[0m \u001b[1;33m\u001b[0m\u001b[0m\n\u001b[0;32m   2156\u001b[0m         \u001b[1;32mif\u001b[0m \u001b[0minferred_dtype\u001b[0m \u001b[1;32mnot\u001b[0m \u001b[1;32min\u001b[0m \u001b[0mallowed_types\u001b[0m\u001b[1;33m:\u001b[0m\u001b[1;33m\u001b[0m\u001b[1;33m\u001b[0m\u001b[0m\n\u001b[1;32m-> 2157\u001b[1;33m             \u001b[1;32mraise\u001b[0m \u001b[0mAttributeError\u001b[0m\u001b[1;33m(\u001b[0m\u001b[1;34m\"Can only use .str accessor with string values!\"\u001b[0m\u001b[1;33m)\u001b[0m\u001b[1;33m\u001b[0m\u001b[1;33m\u001b[0m\u001b[0m\n\u001b[0m\u001b[0;32m   2158\u001b[0m         \u001b[1;32mreturn\u001b[0m \u001b[0minferred_dtype\u001b[0m\u001b[1;33m\u001b[0m\u001b[1;33m\u001b[0m\u001b[0m\n\u001b[0;32m   2159\u001b[0m \u001b[1;33m\u001b[0m\u001b[0m\n",
      "\u001b[1;31mAttributeError\u001b[0m: Can only use .str accessor with string values!"
     ]
    }
   ],
   "source": [
    "# Store the deck access data into a Pandas DataFrame for further analysis\n",
    "import numpy as np\n",
    "import pandas as pd\n",
    "\n",
    "names = []\n",
    "starts = []\n",
    "stops = []\n",
    "durs = []\n",
    "for i in range(1, cmdOutDA.Count - 1):\n",
    "    stri = cmdOutDA.Item(i)\n",
    "    strs = stri.split(\",\")\n",
    "    names.append(strs[0])\n",
    "    starts.append(strs[1])\n",
    "    stops.append(strs[2])\n",
    "    durs.append(strs[3])\n",
    "\n",
    "df = pd.DataFrame([names, starts, stops, durs])\n",
    "df = df.T\n",
    "df.columns = [\"SSC Num\", \"Start\", \"Stop\", \"Dur (sec)\"]  # cmdOutDA.Item(0).split(',')\n",
    "df[df.columns[0]] = df[df.columns[0]].str.replace('\"', \"\")\n",
    "df.head(10)"
   ]
  },
  {
   "cell_type": "code",
   "execution_count": null,
   "metadata": {},
   "outputs": [],
   "source": [
    "# Find satellites with access during the entire scenario time period\n",
    "df[df[\"Dur (sec)\"].astype(float) >= 86399].head(10)"
   ]
  },
  {
   "cell_type": "code",
   "execution_count": null,
   "metadata": {},
   "outputs": [],
   "source": [
    "# Sort dataframe by duration of access\n",
    "dfSortedByDur = df.iloc[df[\"Dur (sec)\"].astype(float).sort_values().index]\n",
    "dfSortedByDur.head(10)"
   ]
  },
  {
   "cell_type": "code",
   "execution_count": null,
   "metadata": {},
   "outputs": [],
   "source": [
    "# Sort by SSC Num and secondarily by Duration\n",
    "df.set_index([\"SSC Num\", \"Dur (sec)\"]).sort_values([\"SSC Num\", \"Dur (sec)\"]).head(10)"
   ]
  },
  {
   "cell_type": "markdown",
   "metadata": {},
   "source": [
    "### Look at the TLE Data"
   ]
  },
  {
   "cell_type": "code",
   "execution_count": null,
   "metadata": {},
   "outputs": [],
   "source": [
    "# Get TLE data into a dataframe for more analysis\n",
    "# Find more details on the TLE format here: https://en.wikipedia.org/wiki/Two-line_element_set\n",
    "from DeckAccessReader import getTLEs\n",
    "\n",
    "tleList = getTLEs(deckAccessTLE, deckAccessFile)\n",
    "\n",
    "for i in range(len(tleList)):\n",
    "    tleList[i] = tleList[i].replace(\"  \", \" \").replace(\"  \", \" \")\n",
    "dfTLEList = pd.DataFrame(tleList)\n",
    "\n",
    "# new data frame with split value columns\n",
    "tleSplit = dfTLEList[dfTLEList.columns[0]].str.split(\" \", expand=True)\n",
    "line1 = tleSplit[0::2]\n",
    "line2 = tleSplit[1::2]\n",
    "\n",
    "line1 = line1.reset_index(drop=True)\n",
    "line2 = line2.reset_index(drop=True)\n",
    "line1.loc[:, line1.columns[-1]] = line1[line1.columns[-1]].str.replace(\"\\n\", \"\").values\n",
    "line2.loc[:, line2.columns[-1]] = line2[line2.columns[-1]].str.replace(\"\\n\", \"\").values\n",
    "line2.loc[:, line2.columns[-2]] = line2[line2.columns[-2]].str.replace(\"\\n\", \"\").values\n",
    "line1.columns = [\n",
    "    \"Line1\",\n",
    "    \"Ssc\",\n",
    "    \"Launch\",\n",
    "    \"Epoch\",\n",
    "    \"Mean motion 1st\",\n",
    "    \"Mean motion 2nd\",\n",
    "    \"Drag\",\n",
    "    \"Eph Type\",\n",
    "    \"Elem Set\",\n",
    "]\n",
    "line2.columns = [\"Line2\", \"Ssc2\", \"i\", \"RAAN\", \"e\", \"AoP\", \"MA\", \"Mean motion\", \"temp\"]\n",
    "# Need to handle the space in some of the second lines. Replacing this with a 0\n",
    "tempVal = line2[\"temp\"][line2[\"temp\"].values != None]\n",
    "mmVal = line2[\"Mean motion\"][line2[\"temp\"].values != None]\n",
    "mmValnew = mmVal + \"0\" + tempVal\n",
    "line2[\"Mean motion\"][line2[\"temp\"].values != None] = mmValnew\n",
    "line2 = line2.drop(\"temp\", axis=1)\n",
    "\n",
    "# Create new data frame with both lines in the same row\n",
    "dfTLE = pd.concat([line1, line2], axis=1)\n",
    "\n",
    "# Convert mean motion to approximate semimajor axis and add this as a column to the dataframe\n",
    "dfTLE[\"i\"] = dfTLE[\"i\"].astype(float)\n",
    "dfTLE[\"Mean motion\"] = dfTLE[\"Mean motion\"].astype(float)\n",
    "mu = 3.986004e14\n",
    "n = (\n",
    "    dfTLE[\"Mean motion\"] / (86400) * 2 * np.pi\n",
    ")  # Technically the mean motion is only the first 8 digits past the decimal but removing the extra digits won't affect much\n",
    "a = (mu / (n**2)) ** (1 / 3) / 1000\n",
    "dfTLE[\"a\"] = a\n",
    "\n",
    "dfTLE.head()"
   ]
  },
  {
   "cell_type": "code",
   "execution_count": null,
   "metadata": {},
   "outputs": [],
   "source": [
    "# Start to filter objects by orbital elements\n",
    "dfTLE[dfTLE[\"i\"].astype(float) < 1].head()  # sort by inclination"
   ]
  },
  {
   "cell_type": "markdown",
   "metadata": {},
   "source": [
    "### Plots of TLE Data Distribution"
   ]
  },
  {
   "cell_type": "code",
   "execution_count": null,
   "metadata": {},
   "outputs": [],
   "source": [
    "# Import useful plotting libraries and change the default plotting style\n",
    "import matplotlib.pyplot as plt\n",
    "\n",
    "%matplotlib inline\n",
    "import seaborn as sns\n",
    "\n",
    "sns.set_style(\"white\")\n",
    "sns.set_context(\"talk\")"
   ]
  },
  {
   "cell_type": "code",
   "execution_count": null,
   "metadata": {},
   "outputs": [],
   "source": [
    "# Plot the cumulative percentage of satellites vs inclination\n",
    "inc = dfTLE[\"i\"][dfTLE[\"i\"].sort_values().index].values\n",
    "plt.plot(inc, np.arange(1, len(dfTLE) + 1, 1) / len(dfTLE) * 100)\n",
    "plt.xlabel(\"Inc [deg]\")\n",
    "plt.ylabel(\"Cumulative % of satellites\");"
   ]
  },
  {
   "cell_type": "code",
   "execution_count": null,
   "metadata": {},
   "outputs": [],
   "source": [
    "# Plot the density of inclination in a histogram\n",
    "plt.hist(dfTLE[\"i\"], bins=np.arange(0, 110, 5))\n",
    "plt.xlabel(\"Inc [deg]\")\n",
    "plt.ylabel(\"Count\")\n",
    "plt.xlim(0, 105);"
   ]
  },
  {
   "cell_type": "code",
   "execution_count": null,
   "metadata": {
    "scrolled": true
   },
   "outputs": [],
   "source": [
    "# Look at inclination vs semimajor axis utilizing pandas built in plots\n",
    "dfTLE.plot.scatter(\"i\", \"a\", alpha=0.2, s=50, figsize=(5, 5))\n",
    "xlims = plt.xlim(0, 105)\n",
    "ylims = plt.ylim(6578, 50000);"
   ]
  },
  {
   "cell_type": "code",
   "execution_count": null,
   "metadata": {},
   "outputs": [],
   "source": [
    "# Utilize Seaborn's built in jointplot to learn more about the distribution of inclination vs semimajor axis\n",
    "ax = sns.jointplot(\n",
    "    dfTLE[\"i\"],\n",
    "    dfTLE[\"a\"],\n",
    "    kind=\"kde\",\n",
    "    cut=0,\n",
    "    space=0,\n",
    "    n_levels=100,\n",
    "    height=10,\n",
    "    kernel=\"epa\",\n",
    "    bw=\"silverman\",\n",
    "    marginal_kws={\"kernel\": \"epa\", \"bw\": \"silverman\"},\n",
    ")\n",
    "ax.plot_joint(plt.scatter, c=\"k\", s=50, linewidth=0.8, marker=\"+\", alpha=0.2)\n",
    "# ax.set_axis_labels('i [deg]','a [km]')\n",
    "ax.ax_joint.set_xlim(xlims)\n",
    "ax.ax_joint.set_ylim(ylims);"
   ]
  },
  {
   "cell_type": "markdown",
   "metadata": {},
   "source": [
    "### Remember to also look at STK! You can see all of the satellites in the scenario and can animate to watch the satellites move."
   ]
  }
 ],
 "metadata": {
  "kernelspec": {
   "display_name": "Python 3",
   "language": "python",
   "name": "python3"
  },
  "language_info": {
   "codemirror_mode": {
    "name": "ipython",
    "version": 3
   },
   "file_extension": ".py",
   "mimetype": "text/x-python",
   "name": "python",
   "nbconvert_exporter": "python",
   "pygments_lexer": "ipython3",
   "version": "3.8.5"
  }
 },
 "nbformat": 4,
 "nbformat_minor": 2
}
