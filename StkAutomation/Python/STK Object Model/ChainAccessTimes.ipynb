{
 "cells": [
  {
   "cell_type": "code",
   "execution_count": 1,
   "metadata": {},
   "outputs": [],
   "source": [
    "# this script helps calculate the data stored on a satellite over time as a function of the times it is recording data\n",
    "# and the times it can downlink\n",
    "#\n",
    "# this script calculates the access times of two chains and write them to .txt files for use in a Matlab code\n",
    "# to use this script requires some set-up of your relevant chains\n",
    "# in the scenario built for this, the satellite only captures data when it is above land, and downlinks when it has access with ground stations\n",
    "# \n",
    "#To use it this way: create constellations of your ground stations receivers and all land area targets imported using the Land shapefile. Chain between satellite transmitter and receiver constellation, and chain between satellite and land constellation\n",
    "# To use it another way: create two chains, one for your Downlinking communications setup and the other for relevant chain of when you will collect data\n",
    "#\n",
    "# author: Kyle Schmauk\n",
    "# Date: 8/11/2020\n",
    "\n",
    "# Note you may need to change the scenario times, and name of chains within the code to adapt to your scenario\n",
    "\n",
    "%config IPCompleter.greedy=True  #Ensures intellisense in Jupyter is on\n",
    "\n",
    "#Import basic utilities\n",
    "import datetime as dt\n",
    "import numpy as np\n",
    "import os\n",
    "\n",
    "##Needed to interact with COM\n",
    "from comtypes.client import CreateObject"
   ]
  },
  {
   "cell_type": "code",
   "execution_count": 2,
   "metadata": {},
   "outputs": [],
   "source": [
    "##Start STK12 Application\n",
    "#uiApp = CreateObject(\"STK12.Application\")\n",
    "\n",
    "## Connect to running instance of STK\n",
    "from comtypes.client import GetActiveObject\n",
    "uiApplication = GetActiveObject(\"STK12.Application\")"
   ]
  },
  {
   "cell_type": "code",
   "execution_count": 3,
   "metadata": {},
   "outputs": [],
   "source": [
    "import comtypes\n",
    "from comtypes.client import CreateObject\n"
   ]
  },
  {
   "cell_type": "code",
   "execution_count": 4,
   "metadata": {},
   "outputs": [],
   "source": [
    "uiApplication.Visible = True\n",
    "\n",
    "\n",
    "uiApplication.UserControl = True"
   ]
  },
  {
   "cell_type": "code",
   "execution_count": 5,
   "metadata": {},
   "outputs": [],
   "source": [
    "#Get the STK Object Model Root\n",
    "root = uiApplication.Personality2"
   ]
  },
  {
   "cell_type": "code",
   "execution_count": 6,
   "metadata": {},
   "outputs": [],
   "source": [
    "#Import the STKObjects and STKUtil COM libraries\n",
    "from comtypes.gen import STKObjects\n",
    "from comtypes.gen import STKUtil"
   ]
  },
  {
   "cell_type": "code",
   "execution_count": 7,
   "metadata": {},
   "outputs": [
    {
     "name": "stdout",
     "output_type": "stream",
     "text": [
      "C:\\Users\\kschmauk\\AppData\\Local\\Continuum\\anaconda3\\lib\\site-packages\\comtypes\\gen\n"
     ]
    },
    {
     "data": {
      "text/plain": [
       "['AgSTKGraphicsLib.py',\n",
       " 'AgSTKVgtLib.py',\n",
       " 'AgUiApplicationLib.py',\n",
       " 'AgUiCoreLib.py',\n",
       " 'stdole.py',\n",
       " 'STKObjects.py',\n",
       " 'STKUtil.py',\n",
       " '_00020430_0000_0000_C000_000000000046_0_2_0.py',\n",
       " '_04C3E93C_A86F_4EB6_ADC5_FB4C61CB1489_0_1_0.py',\n",
       " '_39FCFC4F_D14A_4630_BF0E_E7C530880E31_0_1_0.py',\n",
       " '_3BE3E949_CFB2_45D3_BDDE_0D8324DFC3E2_0_1_0.py',\n",
       " '_51602B4D_7756_4200_8561_D2D287D520E2_0_1_0.py',\n",
       " '_C5056BCE_6206_4ECE_BF04_1C440C0F557C_0_1_0.py',\n",
       " '_CBA9FFF0_F6A6_4E53_9A4A_738832A1C9B6_0_1_0.py',\n",
       " '__init__.py',\n",
       " '__pycache__']"
      ]
     },
     "execution_count": 7,
     "metadata": {},
     "output_type": "execute_result"
    }
   ],
   "source": [
    "from comtypes.client import gen_dir\n",
    "print(gen_dir)\n",
    "os.listdir(gen_dir)"
   ]
  },
  {
   "cell_type": "code",
   "execution_count": 8,
   "metadata": {},
   "outputs": [],
   "source": [
    "######## Replace the StartTime and StopTime with your relevant scenario analysis times ###############\n",
    "scenario = root.CurrentScenario\n",
    "\n",
    "scenario2 = scenario.QueryInterface(STKObjects.IAgScenario)\n",
    "\n",
    "scenario2.StartTime = \"17 Jul 2020 16:00:00.000\"\n",
    "scenario2.StopTime = \"18 Jul 2020 16:00:00.000\""
   ]
  },
  {
   "cell_type": "code",
   "execution_count": 9,
   "metadata": {},
   "outputs": [
    {
     "data": {
      "text/plain": [
       "comtypes.POINTER(IAgStkObject)"
      ]
     },
     "execution_count": 9,
     "metadata": {},
     "output_type": "execute_result"
    }
   ],
   "source": [
    "type(scenario)"
   ]
  },
  {
   "cell_type": "code",
   "execution_count": 10,
   "metadata": {},
   "outputs": [
    {
     "data": {
      "text/plain": [
       "['AccessConstraints',\n",
       " 'AddRef',\n",
       " 'CentralBodyName',\n",
       " 'Children',\n",
       " 'ClassName',\n",
       " 'ClassType',\n",
       " 'CopyObject',\n",
       " 'CreateOnePointAccess',\n",
       " 'DataProviders',\n",
       " 'Export',\n",
       " 'GetAccess',\n",
       " 'GetAccessToObject',\n",
       " 'HasChildren',\n",
       " 'InstanceName',\n",
       " 'IsAccessSupported',\n",
       " 'IsObjectCoverageSupported',\n",
       " 'IsVgtSupported',\n",
       " 'LongDescription',\n",
       " 'Metadata',\n",
       " 'ObjectCoverage',\n",
       " 'ObjectFiles',\n",
       " 'Parent',\n",
       " 'Path',\n",
       " 'QueryInterface',\n",
       " 'Release',\n",
       " 'Root',\n",
       " 'ShortDescription',\n",
       " 'Unload',\n",
       " 'Vgt',\n",
       " '_AddRef',\n",
       " '_IAgStkObject__com_CopyObject',\n",
       " '_IAgStkObject__com_CreateOnePointAccess',\n",
       " '_IAgStkObject__com_Export',\n",
       " '_IAgStkObject__com_GetAccess',\n",
       " '_IAgStkObject__com_GetAccessToObject',\n",
       " '_IAgStkObject__com_IsAccessSupported',\n",
       " '_IAgStkObject__com_IsObjectCoverageSupported',\n",
       " '_IAgStkObject__com_IsVgtSupported',\n",
       " '_IAgStkObject__com_Unload',\n",
       " '_IAgStkObject__com__get_AccessConstraints',\n",
       " '_IAgStkObject__com__get_CentralBodyName',\n",
       " '_IAgStkObject__com__get_Children',\n",
       " '_IAgStkObject__com__get_ClassName',\n",
       " '_IAgStkObject__com__get_ClassType',\n",
       " '_IAgStkObject__com__get_DataProviders',\n",
       " '_IAgStkObject__com__get_HasChildren',\n",
       " '_IAgStkObject__com__get_InstanceName',\n",
       " '_IAgStkObject__com__get_LongDescription',\n",
       " '_IAgStkObject__com__get_Metadata',\n",
       " '_IAgStkObject__com__get_ObjectCoverage',\n",
       " '_IAgStkObject__com__get_ObjectFiles',\n",
       " '_IAgStkObject__com__get_Parent',\n",
       " '_IAgStkObject__com__get_Path',\n",
       " '_IAgStkObject__com__get_Root',\n",
       " '_IAgStkObject__com__get_ShortDescription',\n",
       " '_IAgStkObject__com__get_Vgt',\n",
       " '_IAgStkObject__com__set_InstanceName',\n",
       " '_IAgStkObject__com__set_LongDescription',\n",
       " '_IAgStkObject__com__set_ShortDescription',\n",
       " '_IUnknown__com_AddRef',\n",
       " '_IUnknown__com_QueryInterface',\n",
       " '_IUnknown__com_Release',\n",
       " '_QueryInterface',\n",
       " '_Release',\n",
       " '__bool__',\n",
       " '__class__',\n",
       " '__cmp__',\n",
       " '__com_interface__',\n",
       " '__ctypes_from_outparam__',\n",
       " '__del__',\n",
       " '__delattr__',\n",
       " '__dict__',\n",
       " '__dir__',\n",
       " '__doc__',\n",
       " '__eq__',\n",
       " '__format__',\n",
       " '__ge__',\n",
       " '__getattr__',\n",
       " '__getattribute__',\n",
       " '__gt__',\n",
       " '__hash__',\n",
       " '__init__',\n",
       " '__init_subclass__',\n",
       " '__le__',\n",
       " '__lt__',\n",
       " '__map_case__',\n",
       " '__module__',\n",
       " '__ne__',\n",
       " '__new__',\n",
       " '__reduce__',\n",
       " '__reduce_ex__',\n",
       " '__repr__',\n",
       " '__setattr__',\n",
       " '__setstate__',\n",
       " '__sizeof__',\n",
       " '__str__',\n",
       " '__subclasshook__',\n",
       " '__weakref__',\n",
       " '_b_base_',\n",
       " '_b_needsfree_',\n",
       " '_case_insensitive_',\n",
       " '_compointer_base__get_value',\n",
       " '_idlflags_',\n",
       " '_iid_',\n",
       " '_methods_',\n",
       " '_needs_com_addref_',\n",
       " '_objects',\n",
       " '_type_',\n",
       " 'from_param',\n",
       " 'value']"
      ]
     },
     "execution_count": 10,
     "metadata": {},
     "output_type": "execute_result"
    }
   ],
   "source": [
    "dir(scenario)"
   ]
  },
  {
   "cell_type": "code",
   "execution_count": 16,
   "metadata": {},
   "outputs": [
    {
     "data": {
      "text/plain": [
       "0"
      ]
     },
     "execution_count": 16,
     "metadata": {},
     "output_type": "execute_result"
    }
   ],
   "source": [
    "######## This code uses a 90 degree elevation angle constraint of all the land area targets to create a distinction when a satellite is directly over land versus over water\n",
    "root.ExecuteCommand('SetConstraint */AreaTarget/* ElevationAngle 90.0')\n",
    "\n",
    "root.UnitPreferences.Item('DateFormat').SetCurrentUnit('UTCG')"
   ]
  },
  {
   "cell_type": "code",
   "execution_count": 17,
   "metadata": {},
   "outputs": [
    {
     "name": "stdout",
     "output_type": "stream",
     "text": [
      "Over_Land\n",
      "DownLink\n"
     ]
    }
   ],
   "source": [
    "############ For preexisting Chain Elements #########\n",
    "\n",
    "ChainList = scenario.Children.GetElements(STKObjects.eChain)\n",
    "for num in range(0,len(ChainList)):\n",
    "    print(ChainList[num].InstanceName)"
   ]
  },
  {
   "cell_type": "code",
   "execution_count": 18,
   "metadata": {},
   "outputs": [
    {
     "name": "stdout",
     "output_type": "stream",
     "text": [
      "('Access Number', 'Start Time', 'Stop Time', 'Duration')\n",
      "\n",
      "EOIR chain access data\n",
      "Access Number,Start Time,Stop Time,Duration\n",
      "1,1121.834330196,1453.954654279,332.1203240834582\n",
      "2,1455.066363733,1549.219636573,94.15327283950273\n",
      "3,1604.009827365,1670.18721889,66.17739152475224\n",
      "4,1670.448750889,1672.090301509,1.6415506206533337\n",
      "5,2566.169090062,2854.247467345,288.0783772830332\n",
      "6,4514.007036749,4517.053814173,3.046777424116044\n",
      "7,4520.36089063,4523.102778909,2.7418882793253943\n",
      "8,4532.878547972,4537.786403278,4.907855306051715\n",
      "9,5233.65800782,5525.594980123,291.9369723025884\n",
      "10,5806.392160535,5809.163765008,2.7716044728895213\n",
      "11,7046.360122088,7472.549122564,426.1890004754996\n",
      "12,7474.540022512,7618.588383432,144.0483609201492\n",
      "13,7641.607036401,7648.654653881,7.047617479419387\n",
      "14,7660.978787114,7671.157346489,10.178559374846373\n",
      "15,7691.676666304,7697.53183012,5.855163815283959\n",
      "16,7715.223628379,7964.472175599,249.24854721945303\n",
      "17,7992.228333253,8019.19206087,26.963727616533106\n",
      "18,10362.745318486,10421.962714099,59.217395612718974\n",
      "19,11246.928087893,11594.503235085,347.5751471918411\n",
      "20,11719.635463047,11732.159620103,12.524157056306649\n",
      "21,11790.174273352,11815.362344732,25.188071380292968\n",
      "22,11819.417337291,11845.87137233,26.454035039227165\n",
      "23,12885.34575531,12887.214632189,1.868876879419986\n",
      "24,13168.846137215,14121.524865731,952.6787285158898\n",
      "25,14495.640363286,14495.963948611,0.32358532564830966\n",
      "26,14506.109571885,14507.589162055,1.4795901702545962\n",
      "27,14643.92239494,14644.560377074,0.6379821344471566\n",
      "28,14651.813990657,15278.7695058,626.9555151424538\n",
      "29,17656.23736828,17682.456115027,26.21874674649007\n",
      "30,17730.830863599,17739.67396476,8.843101160968217\n",
      "31,17782.371078901,17820.053727343,37.68264844180521\n",
      "32,18225.023078075,18226.952183919,1.9291058442831854\n",
      "33,18229.118338402,18333.006097024,103.88775862123293\n",
      "34,18354.32839276,18356.147512496,1.819119736464927\n",
      "35,18474.702747663,18794.808740819,320.10599315583386\n",
      "36,18930.510914684,19183.59705275,253.08613806590074\n",
      "37,19183.610835799,19228.936483861,45.32564806183291\n",
      "38,19293.905588622,20219.337374887,925.431786265035\n",
      "39,20398.236767906,20518.509059886,120.27229197945417\n",
      "40,21295.058143276,21532.27922732,237.2210840445805\n",
      "41,24096.607758956,25280.580865305,1183.9731063485742\n",
      "42,25280.593380546,25344.570020128,63.97663958171688\n",
      "43,25425.297244895,25537.006635939,111.70939104424542\n",
      "44,27901.034600801,27903.384637184,2.3500363832135918\n",
      "45,27930.444525093,27933.66265729,3.2181321965617826\n",
      "46,27934.041157115,27937.13799539,3.0968382744722476\n",
      "47,30072.36883282,31386.869335166,1314.5005023460253\n",
      "48,33976.6209049,33977.847214342,1.2263094418813125\n",
      "49,33984.034077695,33997.074693574,13.04061587878823\n",
      "50,34948.736488012,35852.61389473,903.8774067179766\n",
      "51,35857.232443417,35859.832039813,2.5995963960667723\n",
      "52,35913.383837649,37356.294432381,1442.9105947320495\n",
      "53,40062.235669971,40066.71775231,4.482082339214685\n",
      "54,40071.681947342,40092.870386434,21.18843909221323\n",
      "55,41486.099828945,42096.302427769,610.2025988238165\n",
      "56,42141.631270691,42148.109492846,6.478222154772084\n",
      "57,42202.059014292,42205.207164639,3.1481503467366565\n",
      "58,42212.713145264,42217.027387908,4.314242644439219\n",
      "59,42251.652586631,42262.532350886,10.879764254874317\n",
      "60,42354.53414287,43379.69313647,1025.158993599107\n",
      "61,44847.548665859,44849.251596192,1.7029303336748853\n",
      "62,47574.559325638,48080.648464399,506.08913876049337\n",
      "63,48140.203231259,48144.521929168,4.318697909271577\n",
      "64,48227.551091283,48450.575014568,223.0239232845488\n",
      "65,48542.748459235,48549.523655947,6.775196711307217\n",
      "66,48550.055371805,48551.363069693,1.3076978883254924\n",
      "67,48601.934693319,48943.351768214,341.4170748944016\n",
      "68,48955.803633924,49609.903657721,654.1000237970366\n",
      "69,49740.316148103,49774.547057243,34.230909139274445\n",
      "70,51171.445567795,51199.210383188,27.76481539280212\n",
      "71,52346.935799137,52347.966753645,1.0309545080235694\n",
      "72,52351.460700913,52357.393838345,5.933137431522482\n",
      "73,52380.707041144,52382.957602402,2.250561257576919\n",
      "74,52387.971023071,52404.052840329,16.081817258775118\n",
      "75,52735.106134844,53313.348742483,578.2426076388729\n",
      "76,54361.213912523,54380.469310982,19.255398459346907\n",
      "77,54388.086261936,54404.741347331,16.655085394872003\n",
      "78,54432.036177705,54459.615149493,27.57897178872372\n",
      "79,54553.828481489,54701.747154229,147.91867273946264\n",
      "80,54702.083153952,54778.459021152,76.37586719970568\n",
      "81,54780.812143871,54835.251140414,54.4389965430164\n",
      "82,54853.963094775,55898.605520087,1044.6424253118603\n",
      "83,56009.475013671,56054.704692886,45.229679215626675\n",
      "84,56106.867144798,56110.197534229,3.330389430906507\n",
      "85,56123.51272795,56131.811109777,8.29838182729145\n",
      "86,56134.436591206,56146.527355165,12.090763959553442\n",
      "87,56150.549435912,56155.914151984,5.364716071773728\n",
      "88,56183.770603326,56225.212693063,41.442089737116476\n",
      "89,56263.463309602,56266.440862798,2.9775531960767694\n",
      "90,56337.449764391,56338.954510325,1.5047459346460528\n",
      "91,56341.266448791,56343.782620977,2.5161721856275108\n",
      "92,56354.903029282,56360.529383509,5.626354227453703\n",
      "93,56383.851619076,56386.455964208,2.6043451324585476\n",
      "94,56392.911890264,56395.727596865,2.8157066007333924\n",
      "95,56468.203955547,56472.940917639,4.736962091825262\n",
      "96,56531.204361084,56539.936583412,8.732222327991622\n",
      "97,56547.249161557,57031.286349511,484.0371879541344\n",
      "98,57071.355729717,57119.956439439,48.600709721700696\n",
      "99,57121.529802732,57123.289333858,1.7595311264012707\n",
      "100,57349.919003419,57350.589773853,0.6707704347645631\n",
      "101,58987.30259154,59471.7010282,484.39843666048546\n",
      "102,60749.161653138,60750.122466753,0.9608136151582585\n",
      "103,60750.453887242,60879.380181819,128.92629457672592\n",
      "104,60925.246026729,61967.255780398,1042.0097536690664\n",
      "105,62139.907593727,62142.064092961,2.156499234144576\n",
      "106,62144.963548474,62147.450557382,2.4870089081596234\n",
      "107,62227.880733596,62347.208104816,119.32737121959508\n",
      "108,62444.383307236,62445.475386101,1.0920788651928888\n",
      "109,62860.667203314,62890.990544639,30.32334132520191\n",
      "110,65217.091731903,65219.16036121,2.0686293074686546\n",
      "111,65431.340694738,65507.531153909,76.1904591703933\n",
      "112,65629.272489558,65637.895145374,8.622655815503094\n",
      "113,65674.000581663,65708.440041977,34.43946031364612\n",
      "114,65869.638758827,65869.923777231,0.28501840376702603\n",
      "115,65968.412119572,65969.22494098,0.8128214086173102\n",
      "116,65975.502051065,66002.991140579,27.489089513837826\n",
      "117,66024.635985294,66131.803174266,107.1671889720601\n",
      "118,66143.706148868,66146.704660785,2.998511916724965\n",
      "119,66154.264916747,66249.600431321,95.33551457428257\n",
      "120,66249.949546102,66252.213277042,2.2637309397978242\n",
      "121,66400.789397172,66438.879490705,38.090093533159234\n",
      "122,66595.892418832,66601.126538363,5.234119531349279\n",
      "123,66838.578287253,67764.463168335,925.8848810826457\n",
      "124,71573.740895978,72188.229802406,614.4889064282906\n",
      "125,72224.81590423,72225.736876888,0.9209726578556001\n",
      "126,72226.393790879,72227.238153471,0.8443625926302047\n",
      "127,72257.673655796,72333.813900581,76.14024478524516\n",
      "128,72388.792975573,72391.328361625,2.53538605220092\n",
      "129,72489.681624502,72623.137620106,133.4559956034791\n",
      "130,72738.401284311,72743.669773835,5.268489523601602\n",
      "131,72913.33538064,72915.448063882,2.11268324284174\n",
      "132,72972.417971144,73044.491542407,72.07357126328861\n",
      "133,73045.984897979,73048.346720159,2.3618221799843013\n",
      "134,73096.046944647,73278.799284304,182.75233965713414\n",
      "135,73354.657751895,73988.804081452,634.1463295562426\n",
      "136,75518.638275314,75644.138228021,125.49995270685758\n",
      "137,77785.874202565,78285.065896048,499.191693483328\n",
      "138,78287.805614706,78287.810165754,0.004551048070425168\n",
      "139,78343.048286218,78383.49039639,40.442110172109096\n",
      "140,78444.155789239,78521.200386293,77.04459705391491\n",
      "141,78586.154789509,78698.875574198,112.72078468964901\n",
      "142,78700.272467503,78701.327570126,1.055102623271523\n",
      "143,79031.067313349,79033.756295847,2.6889824982499704\n",
      "144,79054.213234221,79106.219998398,52.006764176810975\n",
      "145,79125.020777261,79254.526992397,129.50621513684746\n",
      "146,79303.344022559,79327.434790464,24.090767904621316\n",
      "147,79456.562940754,80450.166604795,993.6036640411767\n",
      "148,81442.734389367,81582.848093841,140.11370447337686\n",
      "149,82281.568057072,82283.537279114,1.9692220415890915\n",
      "150,82303.487786202,82330.34861775,26.860831548285205\n",
      "151,84039.372801833,84041.044484073,1.6716822403395781\n",
      "152,84041.717198381,84042.09913145,0.3819330690894276\n",
      "153,84045.764092842,84051.081262917,5.317170075373724\n",
      "154,84057.642323327,84064.76657537,7.124252043460729\n",
      "155,84065.160848646,84495.702679981,430.5418313351838\n",
      "156,84552.074152419,84591.910193035,39.83604061626829\n",
      "157,84593.293774283,84594.231247281,0.9374729981209384\n",
      "158,84595.940084928,84626.461033279,30.52094835152093\n",
      "159,84712.417357535,84794.802896991,82.3855394551938\n",
      "160,85436.67081243,85874.730052693,438.05924026324647\n"
     ]
    }
   ],
   "source": [
    "############\n",
    "\n",
    "ChainEOIR = ChainList[0]\n",
    "ChainEOIR2 = ChainEOIR.QueryInterface(STKObjects.IAgChain)\n",
    "ChainEOIR2.AutoRecompute = False\n",
    "ChainEOIR2.EnableLightTimeDelay = False\n",
    "ChainEOIR2.TimeConvergence = 0.001\n",
    "ChainEOIR2.DataSaveMode = 2\n",
    "   \n",
    "ChainEOIR2.SetTimePeriodType(2)\n",
    "chainUserTimePeriod = ChainEOIR2.TimePeriod\n",
    "chainUserTimePeriod2 = chainUserTimePeriod.QueryInterface(STKObjects.IAgChUserSpecifiedTimePeriod)\n",
    "chainUserTimePeriod2.TimeInterval.SetStartTimeAndDuration(scenario2.StartTime,scenario2.StopTime)\n",
    "\n",
    "ChainEOIR2.ComputeAccess()\n",
    "\n",
    "eoirAccess = ChainEOIR.DataProviders.Item(\"Complete Access\").QueryInterface(STKObjects.IAgDataPrvInterval).Exec(scenario2.StartTime,scenario2.StopTime)\n",
    "\n",
    "root.UnitPreferences.Item('DateFormat').SetCurrentUnit('EpSec')\n",
    "\n",
    "elEOIR = eoirAccess.DataSets.ElementNames\n",
    "numRowsEOIR = eoirAccess.DataSets.RowCount\n",
    "print(elEOIR)\n",
    "print(\"\\nEOIR chain access data\")\n",
    "with open(\"EOIRAccess.txt\", \"w\") as dataFile:\n",
    "    dataFile.write(f\"{elEOIR[0]},{elEOIR[1]},{elEOIR[2]},{elEOIR[3]}\\n\")\n",
    "    print(f\"{elEOIR[0]},{elEOIR[1]},{elEOIR[2]},{elEOIR[3]}\")\n",
    "    \n",
    "    for row in range(numRowsEOIR):\n",
    "        rowDataEOIR = eoirAccess.DataSets.GetRow(row)\n",
    "        dataFile.write(f\"{rowDataEOIR[0]},{rowDataEOIR[1]},{rowDataEOIR[2]},{rowDataEOIR[3]}\\n\")\n",
    "        print(f\"{rowDataEOIR[0]},{rowDataEOIR[1]},{rowDataEOIR[2]},{rowDataEOIR[3]}\")"
   ]
  },
  {
   "cell_type": "code",
   "execution_count": 19,
   "metadata": {},
   "outputs": [
    {
     "name": "stdout",
     "output_type": "stream",
     "text": [
      "('Access Number', 'Start Time', 'Stop Time', 'Duration')\n",
      "\n",
      "Comm chain access data\n",
      "Access Number,Start Time,Stop Time,Duration\n",
      "1,3823.319734163,4485.999803994,662.6800698309971\n",
      "2,9754.155723539,10553.715674667,799.5599511277342\n",
      "3,15765.018438914,16615.188932637,850.1704937228678\n",
      "4,21815.648171137,22676.507743639,860.8595725020023\n",
      "5,23492.436256261,24288.058682342,795.6224260806557\n",
      "6,27877.501628348,28722.878499017,845.3768706686606\n",
      "7,29579.334588923,30351.98818344,772.653594516385\n",
      "8,33938.949003719,34723.582370895,784.6333671763568\n",
      "9,36591.215694736,36967.118249021,375.90255428543605\n",
      "10,40010.392128221,40635.958493959,625.5663657381883\n",
      "11,42130.220549981,43068.871362779,938.6508127980051\n",
      "12,46220.015933621,46309.720255593,89.70432197183254\n",
      "13,48038.356639554,49109.667457164,1071.3108176101305\n",
      "14,54111.013557628,55142.162666388,1031.1491087594259\n",
      "15,60263.828677605,61218.150504119,954.3218265148462\n",
      "16,61573.987004761,62216.214921395,642.2279166339868\n",
      "17,66391.504245574,67283.80251551,892.2982699357817\n",
      "18,67556.288422816,68410.059670968,853.7712481516501\n",
      "19,72420.152621607,73410.702852207,990.5502305999253\n",
      "20,78457.227551954,79456.913708786,999.6861568315071\n",
      "21,84530.14349204,85311.509396876,781.3659048355912\n"
     ]
    }
   ],
   "source": [
    "root.UnitPreferences.Item('DateFormat').SetCurrentUnit('UTCG')\n",
    "\n",
    "ChainComm = ChainList[1]\n",
    "ChainComm2 = ChainComm.QueryInterface(STKObjects.IAgChain)\n",
    "ChainComm2.AutoRecompute = False\n",
    "ChainComm2.EnableLightTimeDelay = False\n",
    "ChainComm2.TimeConvergence = 0.001\n",
    "ChainComm2.DataSaveMode = 2\n",
    "   \n",
    "ChainComm2.SetTimePeriodType(2)\n",
    "chainUserTimePeriod = ChainComm2.TimePeriod\n",
    "chainUserTimePeriod2 = chainUserTimePeriod.QueryInterface(STKObjects.IAgChUserSpecifiedTimePeriod)\n",
    "chainUserTimePeriod2.TimeInterval.SetStartTimeAndDuration(scenario2.StartTime,scenario2.StopTime)\n",
    "\n",
    "ChainComm2.ComputeAccess()\n",
    "\n",
    "commAccess = ChainComm.DataProviders.Item(\"Complete Access\").QueryInterface(STKObjects.IAgDataPrvInterval).Exec(scenario2.StartTime,scenario2.StopTime)\n",
    "\n",
    "root.UnitPreferences.Item('DateFormat').SetCurrentUnit('EpSec')\n",
    "\n",
    "elComm = commAccess.DataSets.ElementNames\n",
    "numRowsComm = commAccess.DataSets.RowCount\n",
    "print(elComm)\n",
    "print(\"\\nComm chain access data\")\n",
    "with open(\"CommAccess.txt\", \"w\") as dataFile:\n",
    "    dataFile.write(f\"{elComm[0]},{elComm[1]},{elComm[2]},{elComm[3]}\\n\")\n",
    "    print(f\"{elComm[0]},{elComm[1]},{elComm[2]},{elComm[3]}\")\n",
    "    \n",
    "    for row in range(numRowsComm):\n",
    "        rowDataComm = commAccess.DataSets.GetRow(row)\n",
    "        dataFile.write(f\"{rowDataComm[0]},{rowDataComm[1]},{rowDataComm[2]},{rowDataComm[3]}\\n\")\n",
    "        print(f\"{rowDataComm[0]},{rowDataComm[1]},{rowDataComm[2]},{rowDataComm[3]}\")"
   ]
  },
  {
   "cell_type": "code",
   "execution_count": 15,
   "metadata": {},
   "outputs": [
    {
     "data": {
      "text/plain": [
       "86400.0"
      ]
     },
     "execution_count": 15,
     "metadata": {},
     "output_type": "execute_result"
    }
   ],
   "source": []
  }
 ],
 "metadata": {
  "kernelspec": {
   "display_name": "Python 3",
   "language": "python",
   "name": "python3"
  },
  "language_info": {
   "codemirror_mode": {
    "name": "ipython",
    "version": 3
   },
   "file_extension": ".py",
   "mimetype": "text/x-python",
   "name": "python",
   "nbconvert_exporter": "python",
   "pygments_lexer": "ipython3",
   "version": "3.7.3"
  }
 },
 "nbformat": 4,
 "nbformat_minor": 2
}
