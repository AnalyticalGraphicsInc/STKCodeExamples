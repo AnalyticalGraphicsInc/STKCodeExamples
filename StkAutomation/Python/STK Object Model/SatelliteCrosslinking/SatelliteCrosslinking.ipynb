{
 "cells": [
  {
   "cell_type": "markdown",
   "metadata": {},
   "source": [
    "# Satellite Constellation Crosslinking"
   ]
  },
  {
   "cell_type": "markdown",
   "metadata": {},
   "source": [
    "## Create Scenario\n",
    "\n",
    "### Be sure to download receiver and transmitter model, and paste file path string into the cell below\n",
    "\n",
    "### Information regarding Solar and Lunar interference can be found in the _Graph & Report Manager_ \"Gaps\" report for both the constrained and unconstrained accesses."
   ]
  },
  {
   "cell_type": "code",
   "execution_count": null,
   "metadata": {
    "scrolled": true
   },
   "outputs": [],
   "source": [
    "from win32api import GetSystemMetrics\n",
    "import comtypes\n",
    "#comtypes.client.gen_dir = None\n",
    "\n",
    "\n",
    "import comtypes\n",
    "from comtypes.client import CreateObject\n",
    "print(comtypes.client.gen_dir)\n",
    "\n",
    "#Configure laser Tx/Rx filenames\n",
    "receiverfile = \"File path for **VB_ReceiverModel.vbs**\"\n",
    "transmitterfile = \"File path for **VB_TransmitterModel.vbs**\"\n",
    "\n",
    "#create instance of STK\n",
    "App = CreateObject(\"STK12.Application\")\n",
    "App.Visible=True\n",
    "App.UserControl=True\n",
    "\n",
    "print(type(App))\n",
    "#Grab handle on STK root\n",
    "root = App.Personality2\n",
    "App.WindowState = 2"
   ]
  },
  {
   "cell_type": "code",
   "execution_count": null,
   "metadata": {},
   "outputs": [],
   "source": [
    "from comtypes.gen import STKUtil\n",
    "from comtypes.gen import STKObjects\n",
    "print(comtypes.client.gen_dir)"
   ]
  },
  {
   "cell_type": "code",
   "execution_count": null,
   "metadata": {
    "scrolled": true
   },
   "outputs": [],
   "source": [
    "#1. Create new scenario\n",
    "root.NewScenario(\"CrossLinking_Scenario\")\n",
    "scenario = root.CurrentScenario"
   ]
  },
  {
   "cell_type": "markdown",
   "metadata": {},
   "source": [
    "### Sets Analysis Time Period"
   ]
  },
  {
   "cell_type": "code",
   "execution_count": null,
   "metadata": {},
   "outputs": [],
   "source": [
    "#from comtypes.gen import STKUtil\n",
    "#from comtypes.gen import STKObjects\n",
    "\n",
    "#2. Set analytical time period\n",
    "scenario2 = scenario.QueryInterface(STKObjects.IAgScenario)\n",
    "scenario2.SetTimePeriod('19 Jul 2020 12:00:000', '+365 days')\n",
    "scenario2.Graphics.GndTracksVisible = False\n",
    "\n",
    "#3. Reset animation time\n",
    "root.Rewind();"
   ]
  },
  {
   "cell_type": "markdown",
   "metadata": {},
   "source": [
    "## Generates the satellites, sensors, transmitters, and receivers"
   ]
  },
  {
   "cell_type": "code",
   "execution_count": null,
   "metadata": {
    "scrolled": true
   },
   "outputs": [],
   "source": [
    "numOrbitPlanes = 1\n",
    "numSatsPerPlane = 17\n",
    "\n",
    "for satNum in range(0,numSatsPerPlane): \n",
    "        \n",
    "        #Insert satellite\n",
    "        satellite = scenario.Children.New(STKObjects.eSatellite, f\"SIREN{satNum+1}\")\n",
    "        satellite2 = satellite.QueryInterface(STKObjects.IAgSatellite)\n",
    "                \n",
    "        #Select Propagator\n",
    "        satellite2.SetPropagatorType(STKObjects.ePropagatorJ4Perturbation)\n",
    "        \n",
    "        #Set initial state\n",
    "        J4Propagator = satellite2.Propagator.QueryInterface(STKObjects.IAgVePropagatorJ4Perturbation)\n",
    "        keplarian = J4Propagator.InitialState.Representation.ConvertTo(STKUtil.eOrbitStateClassical).QueryInterface(STKObjects.IAgOrbitStateClassical)\n",
    "        \n",
    "        keplarian.SizeShapeType = STKObjects.eSizeShapeSemimajorAxis\n",
    "        keplarian.SizeShape.QueryInterface(STKObjects.IAgClassicalSizeShapeSemimajorAxis).SemiMajorAxis = 6953.1363 #km\n",
    "        keplarian.SizeShape.QueryInterface(STKObjects.IAgClassicalSizeShapeSemimajorAxis).Eccentricity = 0\n",
    "\n",
    "        keplarian.Orientation.Inclination = 60 #degrees\n",
    "        keplarian.Orientation.ArgOfPerigee = 0 #degrees\n",
    "        \n",
    "        keplarian.LocationType = STKObjects.eLocationTrueAnomaly\n",
    "        keplarian.Location.QueryInterface(STKObjects.IAgClassicalLocationTrueAnomaly).Value = 0 + (360/numSatsPerPlane)*satNum  \n",
    "        \n",
    "        #Propagate\n",
    "        satellite2.Propagator.QueryInterface(STKObjects.IAgVePropagatorJ4Perturbation).InitialState.Representation.Assign(keplarian)\n",
    "        satellite2.Propagator.QueryInterface(STKObjects.IAgVePropagatorJ4Perturbation).Propagate()\n",
    "        \n",
    "        #Attaches and configures a forward-looking sensor\n",
    "        Forw = satellite.Children.New(STKObjects.eSensor,f\"Prograde_{satNum}\")\n",
    "        Forw2 = Forw.QueryInterface(STKObjects.IAgSensor)\n",
    "        \n",
    "        Forw2.CommonTasks.SetPatternSimpleConic(5, 2)\n",
    "        Forw2.SetPointingType(5)\n",
    "        \n",
    "        Forw2.VO.PercentTranslucency = 80\n",
    "        ForwAtt = Forw2.Graphics.QueryInterface(STKObjects.IAgSnGraphics)\n",
    "        ForwAtt.Color = 102204\n",
    "        \n",
    "        #Attaches and configures a forward-looking receiver\n",
    "        ForwObj = Forw.QueryInterface(STKObjects.IAgStkObject)\n",
    "        receiverf = ForwObj.Children.New(17, f\"ProgradeReceiver_{satNum}\")\n",
    "        receiverf2 = receiverf.QueryInterface(STKObjects.IAgReceiver)\n",
    "        receiverf2.SetModel('Script Plugin Laser Receiver Model')\n",
    "        recmodelf = receiverf2.Model\n",
    "        recmodelf2 = recmodelf.QueryInterface(STKObjects.IAgReceiverModelScriptPlugin)\n",
    "        recmodelf2.Filename = receiverfile\n",
    "        \n",
    "        #Attaches and configures a forward-looking transmitter\n",
    "        txforward = ForwObj.Children.New(24, f\"ProgradeTransmitter_{satNum}\")\n",
    "        txforward2 = txforward.QueryInterface(STKObjects.IAgTransmitter)\n",
    "        txforward2.SetModel('Script Plugin Laser Transmitter Model')\n",
    "        txforwardmodel = txforward2.Model\n",
    "        txforwardmodel2 = txforwardmodel.QueryInterface(STKObjects.IAgTransmitterModelScriptPlugin)\n",
    "        txforwardmodel2.Filename = transmitterfile\n",
    "        \n",
    "        #Attaches and configures a backward-looking sensor\n",
    "        Back = satellite.Children.New(STKObjects.eSensor,f\"Retrograde_{satNum}\")\n",
    "        Back2 = Back.QueryInterface(STKObjects.IAgSensor)\n",
    "        \n",
    "        Back2.CommonTasks.SetPatternSimpleConic(5, 2)\n",
    "        Back2.SetPointingType(5)\n",
    "        \n",
    "        Back2.VO.PercentTranslucency = 80\n",
    "        BackAtt = Back2.Graphics.QueryInterface(STKObjects.IAgSnGraphics)\n",
    "        BackAtt.Color = 204\n",
    "        \n",
    "        #Attaches and configures a backward-looking receiver\n",
    "        BackObj = Back.QueryInterface(STKObjects.IAgStkObject)\n",
    "        receiverb = BackObj.Children.New(17, f\"RetrogradeReceiver_{satNum}\")\n",
    "        receiverb2 = receiverb.QueryInterface(STKObjects.IAgReceiver)\n",
    "        receiverb2.SetModel('Script Plugin Laser Receiver Model')\n",
    "        recmodelb = receiverb2.Model\n",
    "        recmodelb2 = recmodelb.QueryInterface(STKObjects.IAgReceiverModelScriptPlugin)\n",
    "        recmodelb2.Filename = receiverfile\n",
    "        \n",
    "        #Attaches and configures a backward-looking transmitter\n",
    "        txbackward = BackObj.Children.New(24, f\"RetrogradeTransmitter_{satNum}\")\n",
    "        txbackward2 = txbackward.QueryInterface(STKObjects.IAgTransmitter)\n",
    "        txbackward2.SetModel('Script Plugin Laser Transmitter Model')\n",
    "        txbackwardmodel = txbackward2.Model\n",
    "        txbackwardmodel2 = txbackwardmodel.QueryInterface(STKObjects.IAgTransmitterModelScriptPlugin)\n",
    "        txbackwardmodel2.Filename = transmitterfile"
   ]
  },
  {
   "cell_type": "markdown",
   "metadata": {},
   "source": [
    "## Iterates through all satellites and configures proper pointing"
   ]
  },
  {
   "cell_type": "code",
   "execution_count": null,
   "metadata": {
    "scrolled": true
   },
   "outputs": [],
   "source": [
    "SatList = scenario.Children.GetElements(STKObjects.eSatellite)\n",
    "for satellite in range(SatList.Count):\n",
    "    SensorList = SatList[satellite].Children.GetElements(STKObjects.eSensor)\n",
    "    Pro = SensorList[0].QueryInterface(STKObjects.IAgSensor)\n",
    "    Ret = SensorList[1].QueryInterface(STKObjects.IAgSensor)\n",
    "    \n",
    "    \n",
    "    ProTargeting = Pro.Pointing.QueryInterface(STKObjects.IAgSnPointing)\n",
    "    ProTar = ProTargeting.QueryInterface(STKObjects.IAgSnPtTargeted).Targets\n",
    "    \n",
    "    RetTargeting = Ret.Pointing.QueryInterface(STKObjects.IAgSnPointing)\n",
    "    RetTar = RetTargeting.QueryInterface(STKObjects.IAgSnPtTargeted).Targets\n",
    "    \n",
    "    end = SatList.Count - 1\n",
    "    \n",
    "    if satellite == 0:\n",
    "        ProTar.AddObject(SatList[1])\n",
    "        RetTar.AddObject(SatList[end])\n",
    "        \n",
    "    elif satellite == (end):\n",
    "        ProTar.AddObject(SatList[0])\n",
    "        RetTar.AddObject(SatList[end-1])\n",
    "        \n",
    "    else:\n",
    "        ProTar.AddObject(SatList[satellite+1])\n",
    "        RetTar.AddObject(SatList[satellite-1])"
   ]
  },
  {
   "cell_type": "markdown",
   "metadata": {},
   "source": [
    "## Creates Solar and Lunar Exclusion Angle Constraints"
   ]
  },
  {
   "cell_type": "code",
   "execution_count": null,
   "metadata": {},
   "outputs": [],
   "source": [
    "progradeTransmitters = []\n",
    "retrogradeReceivers = []\n",
    "retrogradeTransmitters = []\n",
    "progradeReceivers = []\n",
    "for satellite in range(SatList.Count):\n",
    "    SensorList = SatList[satellite].Children.GetElements(STKObjects.eSensor)\n",
    "    Pro = SensorList[0].QueryInterface(STKObjects.IAgSensor)\n",
    "    Ret = SensorList[1].QueryInterface(STKObjects.IAgSensor)\n",
    "    progradeTransmitter = Pro.QueryInterface(STKObjects.IAgStkObject).Children.GetElements(STKObjects.eTransmitter)[0]\n",
    "    progradeTransmitters.append(progradeTransmitter)\n",
    "    retrogradeReceiver = Ret.QueryInterface(STKObjects.IAgStkObject).Children.GetElements(STKObjects.eReceiver)[0]\n",
    "    retrogradeReceivers.append(retrogradeReceiver)\n",
    "    progradeReceiver = Pro.QueryInterface(STKObjects.IAgStkObject).Children.GetElements(STKObjects.eReceiver)[0]\n",
    "    progradeReceivers.append(progradeReceiver)\n",
    "    retrogradeTransmitter = Ret.QueryInterface(STKObjects.IAgStkObject).Children.GetElements(STKObjects.eTransmitter)[0]\n",
    "    retrogradeTransmitters.append(retrogradeTransmitter)\n",
    "    \n",
    "for index in range(len(retrogradeReceivers)):\n",
    "    if index == 0:\n",
    "        proTrans = progradeTransmitters[-1].QueryInterface(STKObjects.IAgStkObject)\n",
    "    else:\n",
    "        proTrans = progradeTransmitters[index-1].QueryInterface(STKObjects.IAgStkObject)\n",
    "    retRec = retrogradeReceivers[index].QueryInterface(STKObjects.IAgStkObject)\n",
    "    retTrans = retrogradeTransmitters[index].QueryInterface(STKObjects.IAgStkObject)\n",
    "    if index == 0:\n",
    "        proRec = progradeReceivers[-1].QueryInterface(STKObjects.IAgStkObject)\n",
    "    else:\n",
    "        proRec = progradeReceivers[index-1].QueryInterface(STKObjects.IAgStkObject)\n",
    "    accConstr = proTrans.AccessConstraints\n",
    "    cnstrSunAngle = accConstr.AddConstraint(29)\n",
    "    cnstrSunAngle2 = cnstrSunAngle.QueryInterface(STKObjects.IAgAccessCnstrAngle)\n",
    "    cnstrSunAngle2.Angle = 4\n",
    "    cnstrMoonAngle = accConstr.AddConstraint(28)\n",
    "    cnstrMoonAngle2 = cnstrMoonAngle.QueryInterface(STKObjects.IAgAccessCnstrAngle)\n",
    "    cnstrMoonAngle2.Angle = 4\n",
    "    if index == 0:\n",
    "        access = proTrans.GetAccessToObject(retRec)\n",
    "        access.ComputeAccess()\n",
    "        unconstrainedAccess = retTrans.GetAccessToObject(proRec)\n",
    "        unconstrainedAccess.ComputeAccess()"
   ]
  }
 ],
 "metadata": {
  "kernelspec": {
   "display_name": "Python 3",
   "language": "python",
   "name": "python3"
  },
  "language_info": {
   "codemirror_mode": {
    "name": "ipython",
    "version": 3
   },
   "file_extension": ".py",
   "mimetype": "text/x-python",
   "name": "python",
   "nbconvert_exporter": "python",
   "pygments_lexer": "ipython3",
   "version": "3.7.3"
  }
 },
 "nbformat": 4,
 "nbformat_minor": 4
}
