{
 "cells": [
  {
   "cell_type": "markdown",
   "id": "3daa6c29-e154-49da-a33a-da55217f8993",
   "metadata": {},
   "source": [
    "### Import STK Python APIs"
   ]
  },
  {
   "cell_type": "code",
   "execution_count": null,
   "id": "ed55c2f6-e703-4401-80af-3a872e9d63ea",
   "metadata": {},
   "outputs": [],
   "source": [
    "from agi.stk12.stkengine import STKEngine\n",
    "from agi.stk12.stkobjects.stkobjects import (\n",
    "    AgESTKObjectType,\n",
    "    IAgSatellite,\n",
    "    IAgVePropagatorTwoBody,\n",
    ")"
   ]
  },
  {
   "cell_type": "markdown",
   "id": "42d083a6-3fd6-46be-bd83-d948ac902a7b",
   "metadata": {},
   "source": [
    "### Initialize STK"
   ]
  },
  {
   "cell_type": "code",
   "execution_count": null,
   "id": "9fd4698e-bd7b-4932-a3d0-0def1e37bfec",
   "metadata": {},
   "outputs": [],
   "source": [
    "stk = STKEngine.StartApplication(noGraphics=True)\n",
    "root = stk.NewObjectRoot()\n",
    "print(root.ExecuteCommand(\"GetStkVersion /\")[0])"
   ]
  },
  {
   "cell_type": "markdown",
   "id": "870031d7-18b3-4e70-8d7e-a530a3040428",
   "metadata": {
    "tags": []
   },
   "source": [
    "### Create a new scenario with a satellite and a place"
   ]
  },
  {
   "cell_type": "code",
   "execution_count": null,
   "id": "14f566a9-1c21-4ef0-86f4-0abd8bc71881",
   "metadata": {},
   "outputs": [],
   "source": [
    "root.NewScenario(\"test\")\n",
    "scenario = root.CurrentScenario\n",
    "mySatelliteObject = scenario.Children.New(AgESTKObjectType.eSatellite, \"MySatellite\")\n",
    "myPlaceObject = scenario.Children.New(AgESTKObjectType.ePlace, \"MyPlace\")\n",
    "\n",
    "mySatellite = IAgSatellite(mySatelliteObject)\n",
    "mySatellitePropagator = IAgVePropagatorTwoBody(mySatellite.Propagator)\n",
    "mySatellitePropagator.Propagate()"
   ]
  },
  {
   "cell_type": "markdown",
   "id": "960d716a-cf33-4072-9cfa-aa7936563c0c",
   "metadata": {},
   "source": [
    "### Compute access between the satellite and the place"
   ]
  },
  {
   "cell_type": "code",
   "execution_count": null,
   "id": "77e59335-07a0-4489-844e-dea4f2c5a9ed",
   "metadata": {},
   "outputs": [],
   "source": [
    "access = mySatelliteObject.GetAccessToObject(myPlaceObject)\n",
    "access.ComputeAccess()\n",
    "\n",
    "accessIntervals = access.ComputedAccessIntervalTimes.ToArray(0, -1)\n",
    "for intvl in accessIntervals:\n",
    "    print(f\"start: {intvl[0]}, stop: {intvl[1]}\")"
   ]
  }
 ],
 "metadata": {
  "kernelspec": {
   "display_name": "Python 3",
   "language": "python",
   "name": "python3"
  },
  "language_info": {
   "codemirror_mode": {
    "name": "ipython",
    "version": 3
   },
   "file_extension": ".py",
   "mimetype": "text/x-python",
   "name": "python",
   "nbconvert_exporter": "python",
   "pygments_lexer": "ipython3",
   "version": "3.6.8"
  },
  "toc-showcode": true,
  "toc-showmarkdowntxt": true,
  "toc-showtags": false
 },
 "nbformat": 4,
 "nbformat_minor": 5
}
